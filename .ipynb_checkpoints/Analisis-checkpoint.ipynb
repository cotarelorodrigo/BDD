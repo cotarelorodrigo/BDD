{
 "cells": [
  {
   "cell_type": "code",
   "execution_count": 2,
   "metadata": {},
   "outputs": [],
   "source": [
    "import pandas as pd\n",
    "import matplotlib.pyplot as plt\n",
    "import seaborn as sns;"
   ]
  },
  {
   "cell_type": "markdown",
   "metadata": {},
   "source": [
    "# Analsis"
   ]
  },
  {
   "cell_type": "code",
   "execution_count": 3,
   "metadata": {},
   "outputs": [
    {
     "data": {
      "text/html": [
       "<div>\n",
       "<style scoped>\n",
       "    .dataframe tbody tr th:only-of-type {\n",
       "        vertical-align: middle;\n",
       "    }\n",
       "\n",
       "    .dataframe tbody tr th {\n",
       "        vertical-align: top;\n",
       "    }\n",
       "\n",
       "    .dataframe thead th {\n",
       "        text-align: right;\n",
       "    }\n",
       "</style>\n",
       "<table border=\"1\" class=\"dataframe\">\n",
       "  <thead>\n",
       "    <tr style=\"text-align: right;\">\n",
       "      <th></th>\n",
       "      <th>aerolinea</th>\n",
       "      <th>vuelo</th>\n",
       "      <th>origen</th>\n",
       "      <th>destino</th>\n",
       "      <th>fecha_salida</th>\n",
       "      <th>horario_salida</th>\n",
       "      <th>terminal_salida</th>\n",
       "      <th>puerta_salida</th>\n",
       "      <th>fecha_llegada</th>\n",
       "      <th>horario_llegada</th>\n",
       "      <th>terminal_llegada</th>\n",
       "      <th>puerta_llegada</th>\n",
       "    </tr>\n",
       "  </thead>\n",
       "  <tbody>\n",
       "    <tr>\n",
       "      <th>0</th>\n",
       "      <td>Georgian Airways</td>\n",
       "      <td>A9 652</td>\n",
       "      <td>Ámsterdam</td>\n",
       "      <td>Tiflis</td>\n",
       "      <td>[jueves, 7, marzo]</td>\n",
       "      <td>19:00</td>\n",
       "      <td>-</td>\n",
       "      <td>-</td>\n",
       "      <td>[viernes, 8, marzo]</td>\n",
       "      <td>02:30</td>\n",
       "      <td>-</td>\n",
       "      <td>-</td>\n",
       "    </tr>\n",
       "    <tr>\n",
       "      <th>1</th>\n",
       "      <td>Georgian Airways</td>\n",
       "      <td>A9 652</td>\n",
       "      <td>Ámsterdam</td>\n",
       "      <td>Tiflis</td>\n",
       "      <td>[sabado, 9, marzo]</td>\n",
       "      <td>10:20</td>\n",
       "      <td>-</td>\n",
       "      <td>-</td>\n",
       "      <td>[sabado, 9, marzo]</td>\n",
       "      <td>17:50</td>\n",
       "      <td>-</td>\n",
       "      <td>-</td>\n",
       "    </tr>\n",
       "    <tr>\n",
       "      <th>2</th>\n",
       "      <td>Georgian Airways</td>\n",
       "      <td>A9 628</td>\n",
       "      <td>París Charles de Gaulle</td>\n",
       "      <td>Tiflis</td>\n",
       "      <td>[viernes, 8, marzo]</td>\n",
       "      <td>20:20</td>\n",
       "      <td>2D</td>\n",
       "      <td>-</td>\n",
       "      <td>[sabado, 9, marzo]</td>\n",
       "      <td>03:50</td>\n",
       "      <td>-</td>\n",
       "      <td>-</td>\n",
       "    </tr>\n",
       "  </tbody>\n",
       "</table>\n",
       "</div>"
      ],
      "text/plain": [
       "               aerolinea      vuelo                       origen     destino  \\\n",
       "0   Georgian Airways       A9 652                    Ámsterdam      Tiflis     \n",
       "1   Georgian Airways       A9 652                    Ámsterdam      Tiflis     \n",
       "2   Georgian Airways       A9 628      París Charles de Gaulle      Tiflis     \n",
       "\n",
       "          fecha_salida horario_salida terminal_salida puerta_salida  \\\n",
       "0   [jueves, 7, marzo]          19:00               -             -   \n",
       "1   [sabado, 9, marzo]          10:20               -             -   \n",
       "2  [viernes, 8, marzo]          20:20              2D             -   \n",
       "\n",
       "         fecha_llegada horario_llegada terminal_llegada puerta_llegada  \n",
       "0  [viernes, 8, marzo]           02:30                -              -  \n",
       "1   [sabado, 9, marzo]           17:50                -              -  \n",
       "2   [sabado, 9, marzo]           03:50                -              -  "
      ]
     },
     "execution_count": 3,
     "metadata": {},
     "output_type": "execute_result"
    }
   ],
   "source": [
    "info_vuelos = pd.read_pickle('info_vuelos.pkl')\n",
    "info_vuelos.head(3)"
   ]
  },
  {
   "cell_type": "markdown",
   "metadata": {},
   "source": [
    "### Top 10: aerolineas con mayor cantidad de vuelos en marzo"
   ]
  },
  {
   "cell_type": "code",
   "execution_count": 4,
   "metadata": {},
   "outputs": [
    {
     "name": "stderr",
     "output_type": "stream",
     "text": [
      "/home/rodrigo/.local/lib/python3.5/site-packages/pandas/plotting/_core.py:185: UserWarning: 'colors' is being deprecated. Please use 'color'instead of 'colors'\n",
      "  warnings.warn((\"'colors' is being deprecated. Please use 'color'\"\n"
     ]
    },
    {
     "data": {
      "text/plain": [
       "<matplotlib.axes._subplots.AxesSubplot at 0x7fae539bf8d0>"
      ]
     },
     "execution_count": 4,
     "metadata": {},
     "output_type": "execute_result"
    },
    {
     "data": {
      "image/png": "[encoded data removed]",
      "text/plain": [
       "<Figure size 432x288 with 1 Axes>"
      ]
     },
     "metadata": {
      "needs_background": "light"
     },
     "output_type": "display_data"
    }
   ],
   "source": [
    "info_vuelos['aerolinea'].value_counts().head(10).plot(kind='barh', colors=['b'])"
   ]
  },
  {
   "cell_type": "markdown",
   "metadata": {},
   "source": [
    "### Dias vs horas en la que salen vuelos"
   ]
  },
  {
   "cell_type": "code",
   "execution_count": 33,
   "metadata": {},
   "outputs": [
    {
     "data": {
      "image/png": "[encoded data removed]",
      "text/plain": [
       "<Figure size 576x576 with 2 Axes>"
      ]
     },
     "metadata": {
      "needs_background": "light"
     },
     "output_type": "display_data"
    }
   ],
   "source": [
    "dias = info_vuelos['fecha_salida'].apply(lambda row: row[0]).tolist()\n",
    "hora = info_vuelos['horario_salida'].apply(lambda row: row.split(':')[0]).tolist()\n",
    "d = {'dias': dias, 'hora': hora}\n",
    "d = pd.DataFrame(data=d)\n",
    "d = pd.get_dummies(d.dias).groupby(d.hora).apply(sum)\n",
    "d = d[['lunes', 'martes', 'miercoles', 'jueves', 'viernes', 'sabado', 'domingo']]\n",
    "fig, ax = plt.subplots(figsize=(8, 8))\n",
    "ax = sns.heatmap(d, cmap=\"YlGnBu\", yticklabels=True)\n",
    "ax.invert_yaxis()\n",
    "ax.set(xlabel='Dias', ylabel='Horas')\n",
    "ax.set_xticklabels(ax.get_xticklabels(), rotation=30)\n",
    "ax.set_yticklabels(ax.get_yticklabels(), rotation=0)\n",
    "plt.show()"
   ]
  },
  {
   "cell_type": "code",
   "execution_count": null,
   "metadata": {},
   "outputs": [],
   "source": []
  },
  {
   "cell_type": "code",
   "execution_count": null,
   "metadata": {},
   "outputs": [],
   "source": []
  }
 ],
 "metadata": {
  "kernelspec": {
   "display_name": "Python 3",
   "language": "python",
   "name": "python3"
  },
  "language_info": {
   "codemirror_mode": {
    "name": "ipython",
    "version": 3
   },
   "file_extension": ".py",
   "mimetype": "text/x-python",
   "name": "python",
   "nbconvert_exporter": "python",
   "pygments_lexer": "ipython3",
   "version": "3.5.2"
  }
 },
 "nbformat": 4,
 "nbformat_minor": 2
}
