{
 "cells": [
  {
   "cell_type": "code",
   "execution_count": 13,
   "metadata": {},
   "outputs": [],
   "source": [
    "import pandas as pd\n",
    "import matplotlib.pyplot as plt"
   ]
  },
  {
   "cell_type": "markdown",
   "metadata": {},
   "source": [
    "# Analsis"
   ]
  },
  {
   "cell_type": "code",
   "execution_count": 14,
   "metadata": {},
   "outputs": [
    {
     "data": {
      "text/html": [
       "<div>\n",
       "<style scoped>\n",
       "    .dataframe tbody tr th:only-of-type {\n",
       "        vertical-align: middle;\n",
       "    }\n",
       "\n",
       "    .dataframe tbody tr th {\n",
       "        vertical-align: top;\n",
       "    }\n",
       "\n",
       "    .dataframe thead th {\n",
       "        text-align: right;\n",
       "    }\n",
       "</style>\n",
       "<table border=\"1\" class=\"dataframe\">\n",
       "  <thead>\n",
       "    <tr style=\"text-align: right;\">\n",
       "      <th></th>\n",
       "      <th>aerolinea</th>\n",
       "      <th>vuelo</th>\n",
       "      <th>origen</th>\n",
       "      <th>destino</th>\n",
       "      <th>fecha_salida</th>\n",
       "      <th>horario_salida</th>\n",
       "      <th>terminal_salida</th>\n",
       "      <th>puerta_salida</th>\n",
       "      <th>fecha_llegada</th>\n",
       "      <th>horario_llegada</th>\n",
       "      <th>terminal_llegada</th>\n",
       "      <th>puerta_llegada</th>\n",
       "    </tr>\n",
       "  </thead>\n",
       "  <tbody>\n",
       "    <tr>\n",
       "      <th>0</th>\n",
       "      <td>Georgian Airways</td>\n",
       "      <td>A9 652</td>\n",
       "      <td>Ámsterdam</td>\n",
       "      <td>Tiflis</td>\n",
       "      <td>[jueves, 7, marzo]</td>\n",
       "      <td>19:00</td>\n",
       "      <td>-</td>\n",
       "      <td>-</td>\n",
       "      <td>[viernes, 8, marzo]</td>\n",
       "      <td>02:30</td>\n",
       "      <td>-</td>\n",
       "      <td>-</td>\n",
       "    </tr>\n",
       "    <tr>\n",
       "      <th>1</th>\n",
       "      <td>Georgian Airways</td>\n",
       "      <td>A9 652</td>\n",
       "      <td>Ámsterdam</td>\n",
       "      <td>Tiflis</td>\n",
       "      <td>[sabado, 9, marzo]</td>\n",
       "      <td>10:20</td>\n",
       "      <td>-</td>\n",
       "      <td>-</td>\n",
       "      <td>[sabado, 9, marzo]</td>\n",
       "      <td>17:50</td>\n",
       "      <td>-</td>\n",
       "      <td>-</td>\n",
       "    </tr>\n",
       "    <tr>\n",
       "      <th>2</th>\n",
       "      <td>Georgian Airways</td>\n",
       "      <td>A9 628</td>\n",
       "      <td>París Charles de Gaulle</td>\n",
       "      <td>Tiflis</td>\n",
       "      <td>[viernes, 8, marzo]</td>\n",
       "      <td>20:20</td>\n",
       "      <td>2D</td>\n",
       "      <td>-</td>\n",
       "      <td>[sabado, 9, marzo]</td>\n",
       "      <td>03:50</td>\n",
       "      <td>-</td>\n",
       "      <td>-</td>\n",
       "    </tr>\n",
       "  </tbody>\n",
       "</table>\n",
       "</div>"
      ],
      "text/plain": [
       "               aerolinea      vuelo                       origen     destino  \\\n",
       "0   Georgian Airways       A9 652                    Ámsterdam      Tiflis     \n",
       "1   Georgian Airways       A9 652                    Ámsterdam      Tiflis     \n",
       "2   Georgian Airways       A9 628      París Charles de Gaulle      Tiflis     \n",
       "\n",
       "          fecha_salida horario_salida terminal_salida puerta_salida  \\\n",
       "0   [jueves, 7, marzo]          19:00               -             -   \n",
       "1   [sabado, 9, marzo]          10:20               -             -   \n",
       "2  [viernes, 8, marzo]          20:20              2D             -   \n",
       "\n",
       "         fecha_llegada horario_llegada terminal_llegada puerta_llegada  \n",
       "0  [viernes, 8, marzo]           02:30                -              -  \n",
       "1   [sabado, 9, marzo]           17:50                -              -  \n",
       "2   [sabado, 9, marzo]           03:50                -              -  "
      ]
     },
     "execution_count": 14,
     "metadata": {},
     "output_type": "execute_result"
    }
   ],
   "source": [
    "info_vuelos = pd.read_pickle('info_vuelos.pkl')\n",
    "info_vuelos.head(3)"
   ]
  },
  {
   "cell_type": "code",
   "execution_count": 23,
   "metadata": {},
   "outputs": [
    {
     "data": {
      "text/plain": [
       "<matplotlib.axes._subplots.AxesSubplot at 0x151c6e0f2b0>"
      ]
     },
     "execution_count": 23,
     "metadata": {},
     "output_type": "execute_result"
    },
    {
     "data": {
      "image/png": "[encoded data removed]",
      "text/plain": [
       "<Figure size 432x288 with 1 Axes>"
      ]
     },
     "metadata": {
      "needs_background": "light"
     },
     "output_type": "display_data"
    }
   ],
   "source": [
    "info_vuelos['aerolinea'].value_counts().head(10).plot(kind='barh', colors=['b'])"
   ]
  },
  {
   "cell_type": "code",
   "execution_count": null,
   "metadata": {},
   "outputs": [],
   "source": []
  }
 ],
 "metadata": {
  "kernelspec": {
   "display_name": "Python 3",
   "language": "python",
   "name": "python3"
  },
  "language_info": {
   "codemirror_mode": {
    "name": "ipython",
    "version": 3
   },
   "file_extension": ".py",
   "mimetype": "text/x-python",
   "name": "python",
   "nbconvert_exporter": "python",
   "pygments_lexer": "ipython3",
   "version": "3.7.1"
  }
 },
 "nbformat": 4,
 "nbformat_minor": 2
}
