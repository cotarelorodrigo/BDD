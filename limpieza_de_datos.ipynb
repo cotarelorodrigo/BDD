{
 "cells": [
  {
   "cell_type": "code",
   "execution_count": 21,
   "metadata": {},
   "outputs": [],
   "source": [
    "import pandas as pd"
   ]
  },
  {
   "cell_type": "code",
   "execution_count": 22,
   "metadata": {},
   "outputs": [
    {
     "data": {
      "text/plain": [
       "True"
      ]
     },
     "execution_count": 22,
     "metadata": {},
     "output_type": "execute_result"
    }
   ],
   "source": [
    "#Concateno los 3 outputs\n",
    "df1 = pd.read_pickle('output.pkl')\n",
    "df2 = pd.read_pickle('output2.pkl')\n",
    "df3 = pd.read_pickle('output3.pkl')\n",
    "df = pd.concat([df1, df2, df3])\n",
    "len(df) == len(df1) + len(df2) + len(df3)"
   ]
  },
  {
   "cell_type": "code",
   "execution_count": 23,
   "metadata": {},
   "outputs": [
    {
     "data": {
      "text/html": [
       "<div>\n",
       "<style scoped>\n",
       "    .dataframe tbody tr th:only-of-type {\n",
       "        vertical-align: middle;\n",
       "    }\n",
       "\n",
       "    .dataframe tbody tr th {\n",
       "        vertical-align: top;\n",
       "    }\n",
       "\n",
       "    .dataframe thead th {\n",
       "        text-align: right;\n",
       "    }\n",
       "</style>\n",
       "<table border=\"1\" class=\"dataframe\">\n",
       "  <thead>\n",
       "    <tr style=\"text-align: right;\">\n",
       "      <th></th>\n",
       "      <th>aerolinea</th>\n",
       "      <th>horario_salida</th>\n",
       "      <th>terminal_salida</th>\n",
       "      <th>puerta_salida</th>\n",
       "      <th>horario_llegada</th>\n",
       "      <th>terminal_llegada</th>\n",
       "      <th>puerta_llegada</th>\n",
       "      <th>origen</th>\n",
       "      <th>destino</th>\n",
       "    </tr>\n",
       "  </thead>\n",
       "  <tbody>\n",
       "    <tr>\n",
       "      <th>0</th>\n",
       "      <td>Georgian Airways    – A9 652</td>\n",
       "      <td>19:00</td>\n",
       "      <td>-</td>\n",
       "      <td>-</td>\n",
       "      <td>02:30</td>\n",
       "      <td>-</td>\n",
       "      <td>-</td>\n",
       "      <td>Ámsterdam  · jue., 7 de marzo</td>\n",
       "      <td>Tiflis  · vie., 8 de marzo</td>\n",
       "    </tr>\n",
       "    <tr>\n",
       "      <th>1</th>\n",
       "      <td>Georgian Airways    – A9 652</td>\n",
       "      <td>10:20</td>\n",
       "      <td>-</td>\n",
       "      <td>-</td>\n",
       "      <td>17:50</td>\n",
       "      <td>-</td>\n",
       "      <td>-</td>\n",
       "      <td>Ámsterdam  · sáb., 9 de marzo</td>\n",
       "      <td>Tiflis  · sáb., 9 de marzo</td>\n",
       "    </tr>\n",
       "    <tr>\n",
       "      <th>2</th>\n",
       "      <td>Georgian Airways    – A9 628</td>\n",
       "      <td>20:20</td>\n",
       "      <td>2D</td>\n",
       "      <td>-</td>\n",
       "      <td>03:50</td>\n",
       "      <td>-</td>\n",
       "      <td>-</td>\n",
       "      <td>París Charles de Gaulle  · vie., 8 de marzo</td>\n",
       "      <td>Tiflis  · sáb., 9 de marzo</td>\n",
       "    </tr>\n",
       "    <tr>\n",
       "      <th>3</th>\n",
       "      <td>Georgian Airways    – A9 1724</td>\n",
       "      <td>23:10</td>\n",
       "      <td>-</td>\n",
       "      <td>-</td>\n",
       "      <td>04:30</td>\n",
       "      <td>-</td>\n",
       "      <td>-</td>\n",
       "      <td>Riga  · vie., 8 de marzo</td>\n",
       "      <td>Tiflis  · sáb., 9 de marzo</td>\n",
       "    </tr>\n",
       "    <tr>\n",
       "      <th>4</th>\n",
       "      <td>Georgian Airways    – A9 1724</td>\n",
       "      <td>23:10</td>\n",
       "      <td>-</td>\n",
       "      <td>-</td>\n",
       "      <td>04:30</td>\n",
       "      <td>-</td>\n",
       "      <td>-</td>\n",
       "      <td>Riga  · dom., 10 de marzo</td>\n",
       "      <td>Tiflis  · lun., 11 de marzo</td>\n",
       "    </tr>\n",
       "  </tbody>\n",
       "</table>\n",
       "</div>"
      ],
      "text/plain": [
       "                          aerolinea horario_salida terminal_salida  \\\n",
       "0    Georgian Airways    – A9 652            19:00               -   \n",
       "1    Georgian Airways    – A9 652            10:20               -   \n",
       "2    Georgian Airways    – A9 628            20:20              2D   \n",
       "3   Georgian Airways    – A9 1724            23:10               -   \n",
       "4   Georgian Airways    – A9 1724            23:10               -   \n",
       "\n",
       "  puerta_salida horario_llegada terminal_llegada puerta_llegada  \\\n",
       "0             -           02:30                -              -   \n",
       "1             -           17:50                -              -   \n",
       "2             -           03:50                -              -   \n",
       "3             -           04:30                -              -   \n",
       "4             -           04:30                -              -   \n",
       "\n",
       "                                             origen  \\\n",
       "0                  Ámsterdam  · jue., 7 de marzo      \n",
       "1                  Ámsterdam  · sáb., 9 de marzo      \n",
       "2    París Charles de Gaulle  · vie., 8 de marzo      \n",
       "3                       Riga  · vie., 8 de marzo      \n",
       "4                      Riga  · dom., 10 de marzo      \n",
       "\n",
       "                            destino  \n",
       "0     Tiflis  · vie., 8 de marzo     \n",
       "1     Tiflis  · sáb., 9 de marzo     \n",
       "2     Tiflis  · sáb., 9 de marzo     \n",
       "3     Tiflis  · sáb., 9 de marzo     \n",
       "4    Tiflis  · lun., 11 de marzo     "
      ]
     },
     "execution_count": 23,
     "metadata": {},
     "output_type": "execute_result"
    }
   ],
   "source": [
    "df.head()"
   ]
  },
  {
   "cell_type": "code",
   "execution_count": 24,
   "metadata": {},
   "outputs": [
    {
     "data": {
      "text/plain": [
       "['Georgian Airways  ', ' A9 652']"
      ]
     },
     "execution_count": 24,
     "metadata": {},
     "output_type": "execute_result"
    }
   ],
   "source": [
    "#Ejemplo\n",
    "x = 'Georgian Airways  – A9 652'\n",
    "x.split('–')"
   ]
  },
  {
   "cell_type": "code",
   "execution_count": 25,
   "metadata": {},
   "outputs": [],
   "source": [
    "#Separo la columna aerolinea en aerolinea y vuelo\n",
    "df[['aerolinea', 'vuelo']] = pd.DataFrame(df['aerolinea'].apply(lambda row: row.split('–')).values.tolist())"
   ]
  },
  {
   "cell_type": "code",
   "execution_count": 26,
   "metadata": {},
   "outputs": [],
   "source": [
    "#Separo la columna origen en origen y fecha_salida\n",
    "df[['origen', 'fecha_salida']] = pd.DataFrame(df['origen'].apply(lambda row: row.split('·')).values.tolist())"
   ]
  },
  {
   "cell_type": "code",
   "execution_count": 27,
   "metadata": {},
   "outputs": [],
   "source": [
    "#Separo la columna destino en destino y fecha_llegada\n",
    "df[['destino', 'fecha_llegada']] = pd.DataFrame(df['destino'].apply(lambda row: row.split('·')).values.tolist())"
   ]
  },
  {
   "cell_type": "code",
   "execution_count": 31,
   "metadata": {},
   "outputs": [
    {
     "data": {
      "text/html": [
       "<div>\n",
       "<style scoped>\n",
       "    .dataframe tbody tr th:only-of-type {\n",
       "        vertical-align: middle;\n",
       "    }\n",
       "\n",
       "    .dataframe tbody tr th {\n",
       "        vertical-align: top;\n",
       "    }\n",
       "\n",
       "    .dataframe thead th {\n",
       "        text-align: right;\n",
       "    }\n",
       "</style>\n",
       "<table border=\"1\" class=\"dataframe\">\n",
       "  <thead>\n",
       "    <tr style=\"text-align: right;\">\n",
       "      <th></th>\n",
       "      <th>aerolinea</th>\n",
       "      <th>vuelo</th>\n",
       "      <th>origen</th>\n",
       "      <th>destino</th>\n",
       "      <th>fecha_salida</th>\n",
       "      <th>horario_salida</th>\n",
       "      <th>terminal_salida</th>\n",
       "      <th>puerta_salida</th>\n",
       "      <th>fecha_llegada</th>\n",
       "      <th>horario_llegada</th>\n",
       "      <th>terminal_llegada</th>\n",
       "      <th>puerta_llegada</th>\n",
       "    </tr>\n",
       "  </thead>\n",
       "  <tbody>\n",
       "    <tr>\n",
       "      <th>0</th>\n",
       "      <td>Georgian Airways</td>\n",
       "      <td>A9 652</td>\n",
       "      <td>Ámsterdam</td>\n",
       "      <td>Tiflis</td>\n",
       "      <td>jue., 7 de marzo</td>\n",
       "      <td>19:00</td>\n",
       "      <td>-</td>\n",
       "      <td>-</td>\n",
       "      <td>vie., 8 de marzo</td>\n",
       "      <td>02:30</td>\n",
       "      <td>-</td>\n",
       "      <td>-</td>\n",
       "    </tr>\n",
       "    <tr>\n",
       "      <th>1</th>\n",
       "      <td>Georgian Airways</td>\n",
       "      <td>A9 652</td>\n",
       "      <td>Ámsterdam</td>\n",
       "      <td>Tiflis</td>\n",
       "      <td>sáb., 9 de marzo</td>\n",
       "      <td>10:20</td>\n",
       "      <td>-</td>\n",
       "      <td>-</td>\n",
       "      <td>sáb., 9 de marzo</td>\n",
       "      <td>17:50</td>\n",
       "      <td>-</td>\n",
       "      <td>-</td>\n",
       "    </tr>\n",
       "    <tr>\n",
       "      <th>2</th>\n",
       "      <td>Georgian Airways</td>\n",
       "      <td>A9 628</td>\n",
       "      <td>París Charles de Gaulle</td>\n",
       "      <td>Tiflis</td>\n",
       "      <td>vie., 8 de marzo</td>\n",
       "      <td>20:20</td>\n",
       "      <td>2D</td>\n",
       "      <td>-</td>\n",
       "      <td>sáb., 9 de marzo</td>\n",
       "      <td>03:50</td>\n",
       "      <td>-</td>\n",
       "      <td>-</td>\n",
       "    </tr>\n",
       "  </tbody>\n",
       "</table>\n",
       "</div>"
      ],
      "text/plain": [
       "               aerolinea      vuelo                       origen     destino  \\\n",
       "0   Georgian Airways       A9 652                    Ámsterdam      Tiflis     \n",
       "1   Georgian Airways       A9 652                    Ámsterdam      Tiflis     \n",
       "2   Georgian Airways       A9 628      París Charles de Gaulle      Tiflis     \n",
       "\n",
       "           fecha_salida horario_salida terminal_salida puerta_salida  \\\n",
       "0   jue., 7 de marzo             19:00               -             -   \n",
       "1   sáb., 9 de marzo             10:20               -             -   \n",
       "2   vie., 8 de marzo             20:20              2D             -   \n",
       "\n",
       "          fecha_llegada horario_llegada terminal_llegada puerta_llegada  \n",
       "0   vie., 8 de marzo              02:30                -              -  \n",
       "1   sáb., 9 de marzo              17:50                -              -  \n",
       "2   sáb., 9 de marzo              03:50                -              -  "
      ]
     },
     "execution_count": 31,
     "metadata": {},
     "output_type": "execute_result"
    }
   ],
   "source": [
    "#Re-ordeno las columnas \n",
    "df = df[['aerolinea', 'vuelo', 'origen', 'destino', 'fecha_salida', 'horario_salida', 'terminal_salida', 'puerta_salida', 'fecha_llegada', 'horario_llegada', 'terminal_llegada', 'puerta_llegada']]\n",
    "df.head(3)"
   ]
  },
  {
   "cell_type": "code",
   "execution_count": 33,
   "metadata": {},
   "outputs": [],
   "source": []
  },
  {
   "cell_type": "code",
   "execution_count": null,
   "metadata": {},
   "outputs": [],
   "source": []
  },
  {
   "cell_type": "code",
   "execution_count": 34,
   "metadata": {},
   "outputs": [],
   "source": [
    "#Podriamos separar las fechas de salidas y fechas de llegadas en (dia, numero, mes)"
   ]
  },
  {
   "cell_type": "code",
   "execution_count": 35,
   "metadata": {},
   "outputs": [],
   "source": [
    "#Guardo el archivo\n",
    "df.to_pickle('info_vuelos.pkl')"
   ]
  }
 ],
 "metadata": {
  "kernelspec": {
   "display_name": "Python 3",
   "language": "python",
   "name": "python3"
  },
  "language_info": {
   "codemirror_mode": {
    "name": "ipython",
    "version": 3
   },
   "file_extension": ".py",
   "mimetype": "text/x-python",
   "name": "python",
   "nbconvert_exporter": "python",
   "pygments_lexer": "ipython3",
   "version": "3.5.2"
  }
 },
 "nbformat": 4,
 "nbformat_minor": 2
}
