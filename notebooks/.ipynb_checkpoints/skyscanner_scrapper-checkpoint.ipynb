{
 "cells": [
  {
   "cell_type": "markdown",
   "metadata": {},
   "source": [
    "### Links útiles"
   ]
  },
  {
   "cell_type": "markdown",
   "metadata": {},
   "source": [
    "Skyscanner API documentation: https://rapidapi.com/skyscanner/api/skyscanner-flight-search?endpoint=5aa1eab3e4b00687d3574279\n",
    "\n",
    "Unirest documentation for Python: http://unirest.io/python.html"
   ]
  },
  {
   "cell_type": "code",
   "execution_count": 7,
   "metadata": {},
   "outputs": [],
   "source": [
    "import pandas as pd\n",
    "import unirest\n",
    "from datetime import datetime"
   ]
  },
  {
   "cell_type": "code",
   "execution_count": 2,
   "metadata": {},
   "outputs": [],
   "source": [
    "API_HOST = \"skyscanner-skyscanner-flight-search-v1.p.rapidapi.com\"\n",
    "API_KEY = \"ec5cbd32b7mshbc3873e6092257dp11e806jsn09c588578b1f\""
   ]
  },
  {
   "cell_type": "markdown",
   "metadata": {},
   "source": [
    "### Browse Flight Prices"
   ]
  },
  {
   "cell_type": "code",
   "execution_count": 3,
   "metadata": {},
   "outputs": [],
   "source": [
    "# Consulta (quotes, routes, dates)\n",
    "query = 'quotes'\n",
    "\n",
    "# Parametros obligatorios\n",
    "country = 'US'\n",
    "currency = 'USD'\n",
    "locale = 'en-US'\n",
    "origin = 'SFO-sky'       # <IATA code>-sky\n",
    "destiny = 'JFK-sky'      # <IATA code>-sky\n",
    "departure = datetime.today().strftime('%Y-%m-%d')\n",
    "\n",
    "# Parametros optativos\n",
    "arrival = ''\n",
    "\n",
    "url = \"https://skyscanner-skyscanner-flight-search-v1.p.rapidapi.com/apiservices/browsequery/v1.0/country/currency/locale/origin/destiny/departure?inboundpartialdate=arrival\"\n",
    "\n",
    "current_url = url.replace('query', query)\\\n",
    "                 .replace('country', country)\\\n",
    "                 .replace('currency', currency)\\\n",
    "                 .replace('locale', locale)\\\n",
    "                 .replace('origin', origin)\\\n",
    "                 .replace('destiny', destiny)\\\n",
    "                 .replace('departure', departure)\\\n",
    "                 .replace('arrival', arrival)\n",
    "\n",
    "response = unirest.get(current_url,\n",
    "  headers={\n",
    "    \"X-RapidAPI-Host\": API_HOST,\n",
    "    \"X-RapidAPI-Key\": API_KEY\n",
    "  }\n",
    ")"
   ]
  },
  {
   "cell_type": "code",
   "execution_count": 4,
   "metadata": {},
   "outputs": [
    {
     "data": {
      "text/plain": [
       "{u'Carriers': [{u'CarrierId': 833, u'Name': u'American Airlines'},\n",
       "  {u'CarrierId': 851, u'Name': u'Alaska Airlines'},\n",
       "  {u'CarrierId': 870, u'Name': u'jetBlue'},\n",
       "  {u'CarrierId': 988, u'Name': u'Delta'},\n",
       "  {u'CarrierId': 1065, u'Name': u'Frontier Airlines'}],\n",
       " u'Currencies': [{u'Code': u'USD',\n",
       "   u'DecimalDigits': 2,\n",
       "   u'DecimalSeparator': u'.',\n",
       "   u'RoundingCoefficient': 0,\n",
       "   u'SpaceBetweenAmountAndSymbol': False,\n",
       "   u'Symbol': u'$',\n",
       "   u'SymbolOnLeft': True,\n",
       "   u'ThousandsSeparator': u','}],\n",
       " u'Places': [{u'CityId': u'NYCA',\n",
       "   u'CityName': u'New York',\n",
       "   u'CountryName': u'United States',\n",
       "   u'IataCode': u'JFK',\n",
       "   u'Name': u'New York John F. Kennedy',\n",
       "   u'PlaceId': 60987,\n",
       "   u'SkyscannerCode': u'JFK',\n",
       "   u'Type': u'Station'},\n",
       "  {u'CityId': u'SFOA',\n",
       "   u'CityName': u'San Francisco',\n",
       "   u'CountryName': u'United States',\n",
       "   u'IataCode': u'SFO',\n",
       "   u'Name': u'San Francisco International',\n",
       "   u'PlaceId': 81727,\n",
       "   u'SkyscannerCode': u'SFO',\n",
       "   u'Type': u'Station'}],\n",
       " u'Quotes': [{u'Direct': True,\n",
       "   u'MinPrice': 142.0,\n",
       "   u'OutboundLeg': {u'CarrierIds': [988],\n",
       "    u'DepartureDate': u'2019-05-10T00:00:00',\n",
       "    u'DestinationId': 60987,\n",
       "    u'OriginId': 81727},\n",
       "   u'QuoteDateTime': u'2019-04-24T19:35:00',\n",
       "   u'QuoteId': 1}]}"
      ]
     },
     "execution_count": 4,
     "metadata": {},
     "output_type": "execute_result"
    }
   ],
   "source": [
    "response.body"
   ]
  },
  {
   "cell_type": "code",
   "execution_count": null,
   "metadata": {},
   "outputs": [],
   "source": []
  }
 ],
 "metadata": {
  "kernelspec": {
   "display_name": "Python 2",
   "language": "python",
   "name": "python2"
  },
  "language_info": {
   "codemirror_mode": {
    "name": "ipython",
    "version": 2
   },
   "file_extension": ".py",
   "mimetype": "text/x-python",
   "name": "python",
   "nbconvert_exporter": "python",
   "pygments_lexer": "ipython2",
   "version": "2.7.15rc1"
  }
 },
 "nbformat": 4,
 "nbformat_minor": 2
}
