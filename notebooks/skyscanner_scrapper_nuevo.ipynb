{
 "cells": [
  {
   "cell_type": "markdown",
   "metadata": {},
   "source": [
    "### Links útiles"
   ]
  },
  {
   "cell_type": "markdown",
   "metadata": {},
   "source": [
    "Skyscanner API documentation:\n",
    "- https://rapidapi.com/skyscanner/api/skyscanner-flight-search?endpoint=5aa1eab3e4b00687d3574279\n",
    "- https://skyscanner.github.io/slate/#api-documentation\n",
    "\n",
    "Unirest documentation for Python:\n",
    "- http://unirest.io/python.html"
   ]
  },
  {
   "cell_type": "code",
   "execution_count": 30,
   "metadata": {},
   "outputs": [],
   "source": [
    "import pandas as pd\n",
    "import numpy as np\n",
    "import unirest\n",
    "import datetime\n",
    "import unicodedata"
   ]
  },
  {
   "cell_type": "code",
   "execution_count": 2,
   "metadata": {},
   "outputs": [],
   "source": [
    "API_HOST = \"skyscanner-skyscanner-flight-search-v1.p.rapidapi.com\"\n",
    "API_KEY = \"ec5cbd32b7mshbc3873e6092257dp11e806jsn09c588578b1f\""
   ]
  },
  {
   "cell_type": "markdown",
   "metadata": {},
   "source": [
    "## Intención de este notebook"
   ]
  },
  {
   "cell_type": "markdown",
   "metadata": {},
   "source": [
    "Utilizar el archivo rutas.csv para matchear las rutas contenidas con la API de Skyscanner y de allí obtener todos los datos de cada vuelo. A saber:\n",
    "- Aerolinea\n",
    "- Ciudad origen\n",
    "- Ciudad destino\n",
    "- Fecha salida\n",
    "- Fecha llegada\n",
    "- Hora salida\n",
    "- Hora llegada\n",
    "- Cantidad de asientos disponibles (número aleatorio entre 0 y 5)\n",
    "- Costo"
   ]
  },
  {
   "cell_type": "markdown",
   "metadata": {},
   "source": [
    "### Archivo rutas.csv"
   ]
  },
  {
   "cell_type": "code",
   "execution_count": 14,
   "metadata": {},
   "outputs": [
    {
     "data": {
      "text/html": [
       "<div>\n",
       "<style scoped>\n",
       "    .dataframe tbody tr th:only-of-type {\n",
       "        vertical-align: middle;\n",
       "    }\n",
       "\n",
       "    .dataframe tbody tr th {\n",
       "        vertical-align: top;\n",
       "    }\n",
       "\n",
       "    .dataframe thead th {\n",
       "        text-align: right;\n",
       "    }\n",
       "</style>\n",
       "<table border=\"1\" class=\"dataframe\">\n",
       "  <thead>\n",
       "    <tr style=\"text-align: right;\">\n",
       "      <th></th>\n",
       "      <th>id</th>\n",
       "      <th>iata_origin</th>\n",
       "      <th>iata_destiny</th>\n",
       "    </tr>\n",
       "  </thead>\n",
       "  <tbody>\n",
       "    <tr>\n",
       "      <th>0</th>\n",
       "      <td>2B</td>\n",
       "      <td>ASF</td>\n",
       "      <td>KZN</td>\n",
       "    </tr>\n",
       "    <tr>\n",
       "      <th>1</th>\n",
       "      <td>2B</td>\n",
       "      <td>ASF</td>\n",
       "      <td>MRV</td>\n",
       "    </tr>\n",
       "    <tr>\n",
       "      <th>2</th>\n",
       "      <td>2B</td>\n",
       "      <td>CEK</td>\n",
       "      <td>KZN</td>\n",
       "    </tr>\n",
       "    <tr>\n",
       "      <th>3</th>\n",
       "      <td>2B</td>\n",
       "      <td>CEK</td>\n",
       "      <td>OVB</td>\n",
       "    </tr>\n",
       "    <tr>\n",
       "      <th>4</th>\n",
       "      <td>2B</td>\n",
       "      <td>DME</td>\n",
       "      <td>KZN</td>\n",
       "    </tr>\n",
       "  </tbody>\n",
       "</table>\n",
       "</div>"
      ],
      "text/plain": [
       "   id iata_origin iata_destiny\n",
       "0  2B         ASF          KZN\n",
       "1  2B         ASF          MRV\n",
       "2  2B         CEK          KZN\n",
       "3  2B         CEK          OVB\n",
       "4  2B         DME          KZN"
      ]
     },
     "execution_count": 14,
     "metadata": {},
     "output_type": "execute_result"
    }
   ],
   "source": [
    "rutas = pd.read_csv('../csv/rutas.csv', header = None)\n",
    "rutas.columns = ['id','iata_origin','iata_destiny']\n",
    "rutas.head()"
   ]
  },
  {
   "cell_type": "markdown",
   "metadata": {},
   "source": [
    "### Función para obtener datos de vuelos de la API de Skyscanner  "
   ]
  },
  {
   "cell_type": "markdown",
   "metadata": {},
   "source": [
    "Ver de utilizar Live Flight Search... la que uso ahora no tiene la duracion del vuelo!!!"
   ]
  },
  {
   "cell_type": "code",
   "execution_count": 16,
   "metadata": {},
   "outputs": [],
   "source": [
    "def browse_flight_prices(flight_query, iata_origin, iata_destiny, start_date):\n",
    "    # query = (quotes, routes, dates)\n",
    "    query = flight_query\n",
    "\n",
    "    # Parametros obligatorios\n",
    "    country = 'US'\n",
    "    currency = 'USD'\n",
    "    locale = 'en-US'\n",
    "    origin = iata_origin + '-sky'\n",
    "    destiny = iata_destiny + '-sky'\n",
    "    departure = start_date\n",
    "\n",
    "    # Parametros optativos\n",
    "    arrival = ''\n",
    "\n",
    "    url = \"https://skyscanner-skyscanner-flight-search-v1.p.rapidapi.com/apiservices/browsequery/v1.0/country/currency/locale/origin/destiny/departure?inboundpartialdate=arrival\"\n",
    "\n",
    "    current_url = url.replace('query', query)\\\n",
    "                     .replace('country', country)\\\n",
    "                     .replace('currency', currency)\\\n",
    "                     .replace('locale', locale)\\\n",
    "                     .replace('origin', origin)\\\n",
    "                     .replace('destiny', destiny)\\\n",
    "                     .replace('departure', departure)\\\n",
    "                     .replace('arrival', arrival)\n",
    "\n",
    "    response = unirest.get(current_url, headers={\"X-RapidAPI-Host\": API_HOST, \"X-RapidAPI-Key\": API_KEY})\n",
    "    \n",
    "    return response.body"
   ]
  },
  {
   "cell_type": "markdown",
   "metadata": {},
   "source": [
    "### Creo el dataframe con toda la info de los vuelos"
   ]
  },
  {
   "cell_type": "code",
   "execution_count": 25,
   "metadata": {},
   "outputs": [
    {
     "name": "stdout",
     "output_type": "stream",
     "text": [
      "{u'Quotes': [{u'OutboundLeg': {u'CarrierIds': [1352], u'DestinationId': 64254, u'OriginId': 40870, u'DepartureDate': u'2019-04-28T00:00:00'}, u'MinPrice': 183.0, u'QuoteId': 1, u'Direct': False, u'QuoteDateTime': u'2019-04-25T11:40:00'}], u'Currencies': [{u'SpaceBetweenAmountAndSymbol': False, u'Code': u'USD', u'SymbolOnLeft': True, u'DecimalSeparator': u'.', u'Symbol': u'$', u'ThousandsSeparator': u',', u'RoundingCoefficient': 0, u'DecimalDigits': 2}], u'Places': [{u'CountryName': u'Russia', u'Name': u'Astrakhan', u'CityName': u'Astrakhan', u'SkyscannerCode': u'ASF', u'IataCode': u'ASF', u'PlaceId': 40870, u'CityId': u'ASTR', u'Type': u'Station'}, {u'CountryName': u'Russia', u'Name': u'Kazan', u'CityName': u'Kazan', u'SkyscannerCode': u'KZN', u'IataCode': u'KZN', u'PlaceId': 64254, u'CityId': u'KAZA', u'Type': u'Station'}], u'Carriers': [{u'CarrierId': 1352, u'Name': u'Pobeda'}, {u'CarrierId': 1687, u'Name': u'S7 Airlines'}]}\n"
     ]
    }
   ],
   "source": [
    "info_vuelos = pd.DataFrame(columns=['airline', 'origin', 'destiny', 'departure_date',\\\n",
    "                                    'arrival_date', 'cost', 'available_sits'])\n",
    "\n",
    "# TO DO: ver como appendear una lista de valores al df\n",
    "\n",
    "numb_days = 10\n",
    "query = 'quotes'\n",
    "#start_date = 'anytime'\n",
    "\n",
    "response_example = ''\n",
    "\n",
    "for i in range(1, numb_days+1):\n",
    "    start_day = (datetime.datetime.today() + datetime.timedelta(days=i)).strftime('%Y-%m-%d')\n",
    "    \n",
    "    for index, row in rutas.head(2).iterrows():   \n",
    "        response = browse_flight_prices(query, row['iata_origin'], row['iata_destiny'], start_day)\n",
    "        if response['Quotes']:\n",
    "            response_example = response\n",
    "            break\n",
    "    \n",
    "    if response_example:\n",
    "        break    "
   ]
  },
  {
   "cell_type": "code",
   "execution_count": 35,
   "metadata": {},
   "outputs": [
    {
     "data": {
      "text/plain": [
       "{u'Carriers': [{u'CarrierId': 1352, u'Name': u'Pobeda'},\n",
       "  {u'CarrierId': 1687, u'Name': u'S7 Airlines'}],\n",
       " u'Currencies': [{u'Code': u'USD',\n",
       "   u'DecimalDigits': 2,\n",
       "   u'DecimalSeparator': u'.',\n",
       "   u'RoundingCoefficient': 0,\n",
       "   u'SpaceBetweenAmountAndSymbol': False,\n",
       "   u'Symbol': u'$',\n",
       "   u'SymbolOnLeft': True,\n",
       "   u'ThousandsSeparator': u','}],\n",
       " u'Places': [{u'CityId': u'ASTR',\n",
       "   u'CityName': u'Astrakhan',\n",
       "   u'CountryName': u'Russia',\n",
       "   u'IataCode': u'ASF',\n",
       "   u'Name': u'Astrakhan',\n",
       "   u'PlaceId': 40870,\n",
       "   u'SkyscannerCode': u'ASF',\n",
       "   u'Type': u'Station'},\n",
       "  {u'CityId': u'KAZA',\n",
       "   u'CityName': u'Kazan',\n",
       "   u'CountryName': u'Russia',\n",
       "   u'IataCode': u'KZN',\n",
       "   u'Name': u'Kazan',\n",
       "   u'PlaceId': 64254,\n",
       "   u'SkyscannerCode': u'KZN',\n",
       "   u'Type': u'Station'}],\n",
       " u'Quotes': [{u'Direct': False,\n",
       "   u'MinPrice': 183.0,\n",
       "   u'OutboundLeg': {u'CarrierIds': [1352],\n",
       "    u'DepartureDate': u'2019-04-28T00:00:00',\n",
       "    u'DestinationId': 64254,\n",
       "    u'OriginId': 40870},\n",
       "   u'QuoteDateTime': u'2019-04-25T11:40:00',\n",
       "   u'QuoteId': 1}]}"
      ]
     },
     "execution_count": 35,
     "metadata": {},
     "output_type": "execute_result"
    }
   ],
   "source": [
    "response_example"
   ]
  },
  {
   "cell_type": "code",
   "execution_count": 32,
   "metadata": {},
   "outputs": [],
   "source": [
    "def normalizar(unicode_string):\n",
    "    string = unicodedata.normalize('NFKD', unicode_string).encode('ascii', 'ignore')\n",
    "    return string"
   ]
  },
  {
   "cell_type": "code",
   "execution_count": 41,
   "metadata": {},
   "outputs": [
    {
     "data": {
      "text/plain": [
       "4"
      ]
     },
     "execution_count": 41,
     "metadata": {},
     "output_type": "execute_result"
    }
   ],
   "source": [
    "# TODO: falta la duracion, no esta en este endpoint\n",
    "airline = normalizar(response_example['Carriers'][0]['Name'])\n",
    "origin = normalizar(response_example['Places'][0]['CityName'])\n",
    "destiny = normalizar(response_example['Places'][1]['CityName'])\n",
    "departure_date = normalizar(response_example['Quotes'][0]['OutboundLeg']['DepartureDate'])\n",
    "#arrival_date = ???\n",
    "cost = response_example['Quotes'][0]['MinPrice']\n",
    "available_sits = np.random.randint(0, 5) # (0, 5, info_vuelos.shape[0])"
   ]
  },
  {
   "cell_type": "markdown",
   "metadata": {},
   "source": [
    "### Exporto el dataframe completo a csv para luego cargarlo en Neo4j"
   ]
  },
  {
   "cell_type": "code",
   "execution_count": 17,
   "metadata": {},
   "outputs": [],
   "source": [
    "info_vuelos.to_csv('csv/info_vuelos_completa.csv', index = None, header = True)"
   ]
  },
  {
   "cell_type": "code",
   "execution_count": null,
   "metadata": {},
   "outputs": [],
   "source": []
  }
 ],
 "metadata": {
  "kernelspec": {
   "display_name": "Python 2",
   "language": "python",
   "name": "python2"
  },
  "language_info": {
   "codemirror_mode": {
    "name": "ipython",
    "version": 2
   },
   "file_extension": ".py",
   "mimetype": "text/x-python",
   "name": "python",
   "nbconvert_exporter": "python",
   "pygments_lexer": "ipython2",
   "version": "2.7.15rc1"
  }
 },
 "nbformat": 4,
 "nbformat_minor": 2
}
