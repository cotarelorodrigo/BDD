{
 "cells": [
  {
   "cell_type": "code",
   "execution_count": 86,
   "metadata": {
    "collapsed": true
   },
   "outputs": [],
   "source": [
    "import pandas as pd"
   ]
  },
  {
   "cell_type": "code",
   "execution_count": 87,
   "metadata": {},
   "outputs": [
    {
     "data": {
      "text/html": [
       "<div>\n",
       "<style scoped>\n",
       "    .dataframe tbody tr th:only-of-type {\n",
       "        vertical-align: middle;\n",
       "    }\n",
       "\n",
       "    .dataframe tbody tr th {\n",
       "        vertical-align: top;\n",
       "    }\n",
       "\n",
       "    .dataframe thead th {\n",
       "        text-align: right;\n",
       "    }\n",
       "</style>\n",
       "<table border=\"1\" class=\"dataframe\">\n",
       "  <thead>\n",
       "    <tr style=\"text-align: right;\">\n",
       "      <th></th>\n",
       "      <th>aerolinea</th>\n",
       "      <th>origen</th>\n",
       "      <th>destino</th>\n",
       "      <th>hora_salida</th>\n",
       "      <th>hora_llegada</th>\n",
       "      <th>duracion</th>\n",
       "      <th>precio</th>\n",
       "      <th>asientos_disponibles</th>\n",
       "    </tr>\n",
       "  </thead>\n",
       "  <tbody>\n",
       "    <tr>\n",
       "      <th>0</th>\n",
       "      <td>American</td>\n",
       "      <td>Allentown</td>\n",
       "      <td>Charlotte</td>\n",
       "      <td>2019-03-07T06:03</td>\n",
       "      <td>2019-03-07T08:58</td>\n",
       "      <td>175</td>\n",
       "      <td>577</td>\n",
       "      <td>0</td>\n",
       "    </tr>\n",
       "    <tr>\n",
       "      <th>1</th>\n",
       "      <td>American</td>\n",
       "      <td>Allentown</td>\n",
       "      <td>Charlotte</td>\n",
       "      <td>2019-03-07T11:26</td>\n",
       "      <td>2019-03-07T13:31</td>\n",
       "      <td>125</td>\n",
       "      <td>577</td>\n",
       "      <td>2</td>\n",
       "    </tr>\n",
       "    <tr>\n",
       "      <th>2</th>\n",
       "      <td>American</td>\n",
       "      <td>Allentown</td>\n",
       "      <td>Charlotte</td>\n",
       "      <td>2019-03-07T18:43</td>\n",
       "      <td>2019-03-07T20:55</td>\n",
       "      <td>132</td>\n",
       "      <td>577</td>\n",
       "      <td>1</td>\n",
       "    </tr>\n",
       "    <tr>\n",
       "      <th>3</th>\n",
       "      <td>American</td>\n",
       "      <td>Allentown</td>\n",
       "      <td>Charlotte</td>\n",
       "      <td>2019-03-08T06:07</td>\n",
       "      <td>2019-03-08T08:31</td>\n",
       "      <td>144</td>\n",
       "      <td>577</td>\n",
       "      <td>2</td>\n",
       "    </tr>\n",
       "    <tr>\n",
       "      <th>4</th>\n",
       "      <td>American</td>\n",
       "      <td>Allentown</td>\n",
       "      <td>Charlotte</td>\n",
       "      <td>2019-03-08T11:37</td>\n",
       "      <td>2019-03-08T13:44</td>\n",
       "      <td>127</td>\n",
       "      <td>577</td>\n",
       "      <td>1</td>\n",
       "    </tr>\n",
       "    <tr>\n",
       "      <th>5</th>\n",
       "      <td>American</td>\n",
       "      <td>Allentown</td>\n",
       "      <td>Charlotte</td>\n",
       "      <td>2019-03-08T18:50</td>\n",
       "      <td>2019-03-08T21:00</td>\n",
       "      <td>130</td>\n",
       "      <td>577</td>\n",
       "      <td>3</td>\n",
       "    </tr>\n",
       "    <tr>\n",
       "      <th>6</th>\n",
       "      <td>American</td>\n",
       "      <td>Allentown</td>\n",
       "      <td>Charlotte</td>\n",
       "      <td>2019-03-09T06:12</td>\n",
       "      <td>2019-03-09T08:24</td>\n",
       "      <td>132</td>\n",
       "      <td>577</td>\n",
       "      <td>0</td>\n",
       "    </tr>\n",
       "    <tr>\n",
       "      <th>7</th>\n",
       "      <td>American</td>\n",
       "      <td>Allentown</td>\n",
       "      <td>Charlotte</td>\n",
       "      <td>2019-03-09T11:37</td>\n",
       "      <td>2019-03-09T13:44</td>\n",
       "      <td>127</td>\n",
       "      <td>577</td>\n",
       "      <td>3</td>\n",
       "    </tr>\n",
       "    <tr>\n",
       "      <th>8</th>\n",
       "      <td>American</td>\n",
       "      <td>Allentown</td>\n",
       "      <td>Charlotte</td>\n",
       "      <td>2019-03-09T18:50</td>\n",
       "      <td>2019-03-09T21:00</td>\n",
       "      <td>130</td>\n",
       "      <td>577</td>\n",
       "      <td>1</td>\n",
       "    </tr>\n",
       "    <tr>\n",
       "      <th>9</th>\n",
       "      <td>American</td>\n",
       "      <td>Allentown</td>\n",
       "      <td>Charlotte</td>\n",
       "      <td>2019-03-10T06:12</td>\n",
       "      <td>2019-03-10T08:24</td>\n",
       "      <td>132</td>\n",
       "      <td>577</td>\n",
       "      <td>3</td>\n",
       "    </tr>\n",
       "  </tbody>\n",
       "</table>\n",
       "</div>"
      ],
      "text/plain": [
       "  aerolinea     origen    destino       hora_salida      hora_llegada  \\\n",
       "0  American  Allentown  Charlotte  2019-03-07T06:03  2019-03-07T08:58   \n",
       "1  American  Allentown  Charlotte  2019-03-07T11:26  2019-03-07T13:31   \n",
       "2  American  Allentown  Charlotte  2019-03-07T18:43  2019-03-07T20:55   \n",
       "3  American  Allentown  Charlotte  2019-03-08T06:07  2019-03-08T08:31   \n",
       "4  American  Allentown  Charlotte  2019-03-08T11:37  2019-03-08T13:44   \n",
       "5  American  Allentown  Charlotte  2019-03-08T18:50  2019-03-08T21:00   \n",
       "6  American  Allentown  Charlotte  2019-03-09T06:12  2019-03-09T08:24   \n",
       "7  American  Allentown  Charlotte  2019-03-09T11:37  2019-03-09T13:44   \n",
       "8  American  Allentown  Charlotte  2019-03-09T18:50  2019-03-09T21:00   \n",
       "9  American  Allentown  Charlotte  2019-03-10T06:12  2019-03-10T08:24   \n",
       "\n",
       "   duracion  precio  asientos_disponibles  \n",
       "0       175     577                     0  \n",
       "1       125     577                     2  \n",
       "2       132     577                     1  \n",
       "3       144     577                     2  \n",
       "4       127     577                     1  \n",
       "5       130     577                     3  \n",
       "6       132     577                     0  \n",
       "7       127     577                     3  \n",
       "8       130     577                     1  \n",
       "9       132     577                     3  "
      ]
     },
     "execution_count": 87,
     "metadata": {},
     "output_type": "execute_result"
    }
   ],
   "source": [
    "info_vuelos = pd.read_csv('../csv/info_vuelos.csv')\n",
    "#info_vuelos = info_vuelos.drop(columns=['vuelo', 'terminal_salida', 'puerta_salida', 'terminal_llegada', 'puerta_llegada'])\n",
    "info_vuelos.head(10)"
   ]
  },
  {
   "cell_type": "markdown",
   "metadata": {},
   "source": [
    "### Me quedo con los vuelos diferentes"
   ]
  },
  {
   "cell_type": "code",
   "execution_count": 88,
   "metadata": {},
   "outputs": [
    {
     "data": {
      "text/plain": [
       "'Cantidad de vuelos diferentes: 3655'"
      ]
     },
     "execution_count": 88,
     "metadata": {},
     "output_type": "execute_result"
    }
   ],
   "source": [
    "\"Cantidad de vuelos diferentes: {}\".format(len(info_vuelos.groupby(by=['origen', 'destino'])))"
   ]
  },
  {
   "cell_type": "code",
   "execution_count": 40,
   "metadata": {},
   "outputs": [
    {
     "data": {
      "text/html": [
       "<div>\n",
       "<style scoped>\n",
       "    .dataframe tbody tr th:only-of-type {\n",
       "        vertical-align: middle;\n",
       "    }\n",
       "\n",
       "    .dataframe tbody tr th {\n",
       "        vertical-align: top;\n",
       "    }\n",
       "\n",
       "    .dataframe thead th {\n",
       "        text-align: right;\n",
       "    }\n",
       "</style>\n",
       "<table border=\"1\" class=\"dataframe\">\n",
       "  <thead>\n",
       "    <tr style=\"text-align: right;\">\n",
       "      <th></th>\n",
       "      <th>aerolinea</th>\n",
       "      <th>origen</th>\n",
       "      <th>destino</th>\n",
       "      <th>hora_salida</th>\n",
       "      <th>hora_llegada</th>\n",
       "      <th>duracion</th>\n",
       "      <th>precio</th>\n",
       "      <th>asientos_disponibles</th>\n",
       "    </tr>\n",
       "  </thead>\n",
       "  <tbody>\n",
       "    <tr>\n",
       "      <th>103786</th>\n",
       "      <td>British Airways</td>\n",
       "      <td>Aalborg</td>\n",
       "      <td>Aarhus</td>\n",
       "      <td>2019-03-11T17:37</td>\n",
       "      <td>2019-03-11T19:15</td>\n",
       "      <td>98</td>\n",
       "      <td>559</td>\n",
       "      <td>2</td>\n",
       "    </tr>\n",
       "  </tbody>\n",
       "</table>\n",
       "</div>"
      ],
      "text/plain": [
       "              aerolinea   origen destino       hora_salida      hora_llegada  \\\n",
       "103786  British Airways  Aalborg  Aarhus  2019-03-11T17:37  2019-03-11T19:15   \n",
       "\n",
       "        duracion  precio  asientos_disponibles  \n",
       "103786        98     559                     2  "
      ]
     },
     "metadata": {},
     "output_type": "display_data"
    }
   ],
   "source": [
    "for index, group in info_vuelos.groupby(by=['origen', 'destino']):\n",
    "    display(group.head(1))\n",
    "    break"
   ]
  },
  {
   "cell_type": "code",
   "execution_count": 41,
   "metadata": {},
   "outputs": [],
   "source": [
    "nuevo_dataframe = info_vuelos.groupby(by=['origen', 'destino']).head(5).reset_index(drop=True)"
   ]
  },
  {
   "cell_type": "code",
   "execution_count": 42,
   "metadata": {},
   "outputs": [
    {
     "data": {
      "text/html": [
       "<div>\n",
       "<style scoped>\n",
       "    .dataframe tbody tr th:only-of-type {\n",
       "        vertical-align: middle;\n",
       "    }\n",
       "\n",
       "    .dataframe tbody tr th {\n",
       "        vertical-align: top;\n",
       "    }\n",
       "\n",
       "    .dataframe thead th {\n",
       "        text-align: right;\n",
       "    }\n",
       "</style>\n",
       "<table border=\"1\" class=\"dataframe\">\n",
       "  <thead>\n",
       "    <tr style=\"text-align: right;\">\n",
       "      <th></th>\n",
       "      <th>aerolinea</th>\n",
       "      <th>origen</th>\n",
       "      <th>destino</th>\n",
       "      <th>hora_salida</th>\n",
       "      <th>hora_llegada</th>\n",
       "      <th>duracion</th>\n",
       "      <th>precio</th>\n",
       "      <th>asientos_disponibles</th>\n",
       "    </tr>\n",
       "  </thead>\n",
       "  <tbody>\n",
       "    <tr>\n",
       "      <th>7185</th>\n",
       "      <td>Air China</td>\n",
       "      <td>Chongqing</td>\n",
       "      <td>Guilin</td>\n",
       "      <td>2019-03-12T11:25</td>\n",
       "      <td>2019-03-12T14:40</td>\n",
       "      <td>195</td>\n",
       "      <td>792</td>\n",
       "      <td>1</td>\n",
       "    </tr>\n",
       "    <tr>\n",
       "      <th>4919</th>\n",
       "      <td>Alaska</td>\n",
       "      <td>Juneau</td>\n",
       "      <td>Yakutat</td>\n",
       "      <td>2019-03-12T14:10</td>\n",
       "      <td>2019-03-12T16:15</td>\n",
       "      <td>125</td>\n",
       "      <td>673</td>\n",
       "      <td>0</td>\n",
       "    </tr>\n",
       "    <tr>\n",
       "      <th>7533</th>\n",
       "      <td>Air China</td>\n",
       "      <td>Hangzhou</td>\n",
       "      <td>Xi'an</td>\n",
       "      <td>2019-03-12T21:14</td>\n",
       "      <td>2019-03-12T23:28</td>\n",
       "      <td>134</td>\n",
       "      <td>989</td>\n",
       "      <td>1</td>\n",
       "    </tr>\n",
       "    <tr>\n",
       "      <th>79</th>\n",
       "      <td>American</td>\n",
       "      <td>Birmingham</td>\n",
       "      <td>Miami</td>\n",
       "      <td>2019-03-07T06:21</td>\n",
       "      <td>2019-03-07T09:39</td>\n",
       "      <td>198</td>\n",
       "      <td>713</td>\n",
       "      <td>2</td>\n",
       "    </tr>\n",
       "    <tr>\n",
       "      <th>1833</th>\n",
       "      <td>Air Canada</td>\n",
       "      <td>Kahului</td>\n",
       "      <td>Vancouver</td>\n",
       "      <td>2019-03-08T01:04</td>\n",
       "      <td>2019-03-08T08:37</td>\n",
       "      <td>453</td>\n",
       "      <td>1175</td>\n",
       "      <td>1</td>\n",
       "    </tr>\n",
       "    <tr>\n",
       "      <th>11970</th>\n",
       "      <td>TAAG</td>\n",
       "      <td>Menongue</td>\n",
       "      <td>Luanda</td>\n",
       "      <td>2019-03-13T19:45</td>\n",
       "      <td>2019-03-13T21:05</td>\n",
       "      <td>80</td>\n",
       "      <td>614</td>\n",
       "      <td>2</td>\n",
       "    </tr>\n",
       "  </tbody>\n",
       "</table>\n",
       "</div>"
      ],
      "text/plain": [
       "        aerolinea      origen    destino       hora_salida      hora_llegada  \\\n",
       "7185    Air China   Chongqing     Guilin  2019-03-12T11:25  2019-03-12T14:40   \n",
       "4919       Alaska      Juneau    Yakutat  2019-03-12T14:10  2019-03-12T16:15   \n",
       "7533    Air China    Hangzhou      Xi'an  2019-03-12T21:14  2019-03-12T23:28   \n",
       "79       American  Birmingham      Miami  2019-03-07T06:21  2019-03-07T09:39   \n",
       "1833   Air Canada     Kahului  Vancouver  2019-03-08T01:04  2019-03-08T08:37   \n",
       "11970        TAAG    Menongue     Luanda  2019-03-13T19:45  2019-03-13T21:05   \n",
       "\n",
       "       duracion  precio  asientos_disponibles  \n",
       "7185        195     792                     1  \n",
       "4919        125     673                     0  \n",
       "7533        134     989                     1  \n",
       "79          198     713                     2  \n",
       "1833        453    1175                     1  \n",
       "11970        80     614                     2  "
      ]
     },
     "execution_count": 42,
     "metadata": {},
     "output_type": "execute_result"
    }
   ],
   "source": [
    "nuevo_dataframe.sample(6)"
   ]
  },
  {
   "cell_type": "markdown",
   "metadata": {},
   "source": [
    "### Actualizo la fecha de los vuelos"
   ]
  },
  {
   "cell_type": "code",
   "execution_count": 44,
   "metadata": {},
   "outputs": [
    {
     "data": {
      "text/plain": [
       "'2019-03-07T06:03'"
      ]
     },
     "execution_count": 44,
     "metadata": {},
     "output_type": "execute_result"
    }
   ],
   "source": [
    "nuevo_dataframe.loc[0]['hora_salida']"
   ]
  },
  {
   "cell_type": "code",
   "execution_count": 45,
   "metadata": {
    "collapsed": true
   },
   "outputs": [],
   "source": [
    "import datetime"
   ]
  },
  {
   "cell_type": "code",
   "execution_count": 84,
   "metadata": {},
   "outputs": [
    {
     "data": {
      "text/plain": [
       "datetime.datetime(2019, 6, 9, 6, 3)"
      ]
     },
     "execution_count": 84,
     "metadata": {},
     "output_type": "execute_result"
    }
   ],
   "source": [
    "date_time_str = nuevo_dataframe.loc[0]['hora_salida']\n",
    "date_time_obj = datetime.datetime.strptime(date_time_str, \"%Y-%m-%dT%H:%M\")\n",
    "date_time_obj"
   ]
  },
  {
   "cell_type": "code",
   "execution_count": 83,
   "metadata": {},
   "outputs": [
    {
     "data": {
      "text/plain": [
       "'2040-06-09T06:03'"
      ]
     },
     "execution_count": 83,
     "metadata": {},
     "output_type": "execute_result"
    }
   ],
   "source": [
    "date_time_str = nuevo_dataframe.loc[0]['hora_salida']\n",
    "date_time_obj = datetime.datetime.strptime(date_time_str, \"%Y-%m-%dT%H:%M\")\n",
    "date_time_obj = date_time_obj.replace(year=2040)\n",
    "date_time_obj.strftime(\"%Y-%m-%dT%H:%M\")"
   ]
  },
  {
   "cell_type": "code",
   "execution_count": 57,
   "metadata": {},
   "outputs": [
    {
     "data": {
      "text/plain": [
       "2019"
      ]
     },
     "execution_count": 57,
     "metadata": {},
     "output_type": "execute_result"
    }
   ],
   "source": [
    "datetime.datetime.now()"
   ]
  },
  {
   "cell_type": "code",
   "execution_count": 75,
   "metadata": {
    "collapsed": true
   },
   "outputs": [],
   "source": [
    "def change_days(salida, llegada):\n",
    "    now = datetime.datetime.now()\n",
    "    date_time_salida = datetime.datetime.strptime(salida, \"%Y-%m-%dT%H:%M\")\n",
    "    date_time_llegada = datetime.datetime.strptime(llegada, \"%Y-%m-%dT%H:%M\")\n",
    "    diferencia_dias = date_time_llegada.day - date_time_salida.day\n",
    "    if(diferencia_dias > 0):\n",
    "        date_time_llegada = date_time_llegada.replace(day=(now.day + diferencia_dias))\n",
    "    else:\n",
    "        date_time_llegada = date_time_llegada.replace(day=now.day)\n",
    "    date_time_llegada = date_time_llegada.replace(month=now.month)\n",
    "    date_time_salida = date_time_salida.replace(month=now.month)\n",
    "    date_time_salida = date_time_salida.replace(day=now.day)\n",
    "    return pd.Series([date_time_salida.strftime(\"%Y-%m-%dT%H:%M\"), date_time_llegada.strftime(\"%Y-%m-%dT%H:%M\")])"
   ]
  },
  {
   "cell_type": "code",
   "execution_count": 76,
   "metadata": {},
   "outputs": [
    {
     "name": "stdout",
     "output_type": "stream",
     "text": [
      "2019-03-07T06:03\n",
      "2019-03-08T08:58\n"
     ]
    }
   ],
   "source": [
    "salida = nuevo_dataframe.loc[0]['hora_salida']\n",
    "print(salida)\n",
    "llegada = nuevo_dataframe.loc[0]['hora_llegada']\n",
    "llegada = '2019-03-08T08:58'\n",
    "print(llegada)"
   ]
  },
  {
   "cell_type": "code",
   "execution_count": 77,
   "metadata": {},
   "outputs": [
    {
     "data": {
      "text/plain": [
       "0    2019-06-09T06:03\n",
       "1    2019-06-10T08:58\n",
       "dtype: object"
      ]
     },
     "execution_count": 77,
     "metadata": {},
     "output_type": "execute_result"
    }
   ],
   "source": [
    "change_days(salida, llegada)"
   ]
  },
  {
   "cell_type": "code",
   "execution_count": 79,
   "metadata": {},
   "outputs": [],
   "source": [
    "nuevo_dataframe[['hora_salida', 'hora_llegada']] = nuevo_dataframe[['hora_salida', 'hora_llegada']].apply(lambda x: change_days(x.hora_salida, x.hora_llegada), axis=1)"
   ]
  },
  {
   "cell_type": "code",
   "execution_count": 85,
   "metadata": {},
   "outputs": [
    {
     "data": {
      "text/html": [
       "<div>\n",
       "<style scoped>\n",
       "    .dataframe tbody tr th:only-of-type {\n",
       "        vertical-align: middle;\n",
       "    }\n",
       "\n",
       "    .dataframe tbody tr th {\n",
       "        vertical-align: top;\n",
       "    }\n",
       "\n",
       "    .dataframe thead th {\n",
       "        text-align: right;\n",
       "    }\n",
       "</style>\n",
       "<table border=\"1\" class=\"dataframe\">\n",
       "  <thead>\n",
       "    <tr style=\"text-align: right;\">\n",
       "      <th></th>\n",
       "      <th>aerolinea</th>\n",
       "      <th>origen</th>\n",
       "      <th>destino</th>\n",
       "      <th>hora_salida</th>\n",
       "      <th>hora_llegada</th>\n",
       "      <th>duracion</th>\n",
       "      <th>precio</th>\n",
       "      <th>asientos_disponibles</th>\n",
       "      <th>days_flying</th>\n",
       "    </tr>\n",
       "  </thead>\n",
       "  <tbody>\n",
       "    <tr>\n",
       "      <th>0</th>\n",
       "      <td>American</td>\n",
       "      <td>Allentown</td>\n",
       "      <td>Charlotte</td>\n",
       "      <td>2019-06-09T06:03</td>\n",
       "      <td>2019-06-09T08:58</td>\n",
       "      <td>175</td>\n",
       "      <td>577</td>\n",
       "      <td>0</td>\n",
       "      <td>False</td>\n",
       "    </tr>\n",
       "    <tr>\n",
       "      <th>1</th>\n",
       "      <td>American</td>\n",
       "      <td>Allentown</td>\n",
       "      <td>Charlotte</td>\n",
       "      <td>2019-06-09T11:26</td>\n",
       "      <td>2019-06-09T13:31</td>\n",
       "      <td>125</td>\n",
       "      <td>577</td>\n",
       "      <td>2</td>\n",
       "      <td>False</td>\n",
       "    </tr>\n",
       "    <tr>\n",
       "      <th>2</th>\n",
       "      <td>American</td>\n",
       "      <td>Allentown</td>\n",
       "      <td>Charlotte</td>\n",
       "      <td>2019-06-09T18:43</td>\n",
       "      <td>2019-06-09T20:55</td>\n",
       "      <td>132</td>\n",
       "      <td>577</td>\n",
       "      <td>1</td>\n",
       "      <td>False</td>\n",
       "    </tr>\n",
       "  </tbody>\n",
       "</table>\n",
       "</div>"
      ],
      "text/plain": [
       "  aerolinea     origen    destino       hora_salida      hora_llegada  \\\n",
       "0  American  Allentown  Charlotte  2019-06-09T06:03  2019-06-09T08:58   \n",
       "1  American  Allentown  Charlotte  2019-06-09T11:26  2019-06-09T13:31   \n",
       "2  American  Allentown  Charlotte  2019-06-09T18:43  2019-06-09T20:55   \n",
       "\n",
       "   duracion  precio  asientos_disponibles  days_flying  \n",
       "0       175     577                     0        False  \n",
       "1       125     577                     2        False  \n",
       "2       132     577                     1        False  "
      ]
     },
     "execution_count": 85,
     "metadata": {},
     "output_type": "execute_result"
    }
   ],
   "source": [
    "nuevo_dataframe.head(3)"
   ]
  },
  {
   "cell_type": "markdown",
   "metadata": {},
   "source": [
    "### Genero nuevos dataframes aumentando la fecha"
   ]
  },
  {
   "cell_type": "code",
   "execution_count": 89,
   "metadata": {
    "collapsed": true
   },
   "outputs": [],
   "source": [
    "otro_dataframe = nuevo_dataframe.copy()"
   ]
  },
  {
   "cell_type": "code",
   "execution_count": 90,
   "metadata": {},
   "outputs": [
    {
     "data": {
      "text/html": [
       "<div>\n",
       "<style scoped>\n",
       "    .dataframe tbody tr th:only-of-type {\n",
       "        vertical-align: middle;\n",
       "    }\n",
       "\n",
       "    .dataframe tbody tr th {\n",
       "        vertical-align: top;\n",
       "    }\n",
       "\n",
       "    .dataframe thead th {\n",
       "        text-align: right;\n",
       "    }\n",
       "</style>\n",
       "<table border=\"1\" class=\"dataframe\">\n",
       "  <thead>\n",
       "    <tr style=\"text-align: right;\">\n",
       "      <th></th>\n",
       "      <th>aerolinea</th>\n",
       "      <th>origen</th>\n",
       "      <th>destino</th>\n",
       "      <th>hora_salida</th>\n",
       "      <th>hora_llegada</th>\n",
       "      <th>duracion</th>\n",
       "      <th>precio</th>\n",
       "      <th>asientos_disponibles</th>\n",
       "      <th>days_flying</th>\n",
       "    </tr>\n",
       "  </thead>\n",
       "  <tbody>\n",
       "    <tr>\n",
       "      <th>0</th>\n",
       "      <td>American</td>\n",
       "      <td>Allentown</td>\n",
       "      <td>Charlotte</td>\n",
       "      <td>2019-06-09T06:03</td>\n",
       "      <td>2019-06-09T08:58</td>\n",
       "      <td>175</td>\n",
       "      <td>577</td>\n",
       "      <td>0</td>\n",
       "      <td>False</td>\n",
       "    </tr>\n",
       "    <tr>\n",
       "      <th>1</th>\n",
       "      <td>American</td>\n",
       "      <td>Allentown</td>\n",
       "      <td>Charlotte</td>\n",
       "      <td>2019-06-09T11:26</td>\n",
       "      <td>2019-06-09T13:31</td>\n",
       "      <td>125</td>\n",
       "      <td>577</td>\n",
       "      <td>2</td>\n",
       "      <td>False</td>\n",
       "    </tr>\n",
       "  </tbody>\n",
       "</table>\n",
       "</div>"
      ],
      "text/plain": [
       "  aerolinea     origen    destino       hora_salida      hora_llegada  \\\n",
       "0  American  Allentown  Charlotte  2019-06-09T06:03  2019-06-09T08:58   \n",
       "1  American  Allentown  Charlotte  2019-06-09T11:26  2019-06-09T13:31   \n",
       "\n",
       "   duracion  precio  asientos_disponibles  days_flying  \n",
       "0       175     577                     0        False  \n",
       "1       125     577                     2        False  "
      ]
     },
     "execution_count": 90,
     "metadata": {},
     "output_type": "execute_result"
    }
   ],
   "source": [
    "otro_dataframe.head(2)"
   ]
  },
  {
   "cell_type": "code",
   "execution_count": 97,
   "metadata": {
    "collapsed": true
   },
   "outputs": [],
   "source": [
    "def sum_day(salida, llegada):\n",
    "    date_time_salida = datetime.datetime.strptime(salida, \"%Y-%m-%dT%H:%M\")\n",
    "    date_time_llegada = datetime.datetime.strptime(llegada, \"%Y-%m-%dT%H:%M\")\n",
    "    \n",
    "    date_time_salida = date_time_salida.replace(day = date_time_salida.day + 1)\n",
    "    date_time_llegada = date_time_llegada.replace(day = date_time_llegada.day + 1)\n",
    "    \n",
    "    return pd.Series([date_time_salida.strftime(\"%Y-%m-%dT%H:%M\"), date_time_llegada.strftime(\"%Y-%m-%dT%H:%M\")])"
   ]
  },
  {
   "cell_type": "code",
   "execution_count": 98,
   "metadata": {},
   "outputs": [
    {
     "name": "stdout",
     "output_type": "stream",
     "text": [
      "2019-06-09T06:03\n",
      "2019-03-08T08:58\n"
     ]
    }
   ],
   "source": [
    "salida = nuevo_dataframe.loc[0]['hora_salida']\n",
    "print(salida)\n",
    "llegada = nuevo_dataframe.loc[0]['hora_llegada']\n",
    "llegada = '2019-03-08T08:58'\n",
    "print(llegada)"
   ]
  },
  {
   "cell_type": "code",
   "execution_count": 99,
   "metadata": {},
   "outputs": [
    {
     "data": {
      "text/plain": [
       "0    2019-06-10T06:03\n",
       "1    2019-03-09T08:58\n",
       "dtype: object"
      ]
     },
     "execution_count": 99,
     "metadata": {},
     "output_type": "execute_result"
    }
   ],
   "source": [
    "sum_day(salida, llegada)"
   ]
  },
  {
   "cell_type": "code",
   "execution_count": 100,
   "metadata": {
    "collapsed": true
   },
   "outputs": [],
   "source": [
    "otro_dataframe[['hora_salida', 'hora_llegada']] = otro_dataframe[['hora_salida', 'hora_llegada']].apply(lambda x: sum_day(x.hora_salida, x.hora_llegada), axis=1)"
   ]
  },
  {
   "cell_type": "code",
   "execution_count": 102,
   "metadata": {},
   "outputs": [
    {
     "data": {
      "text/html": [
       "<div>\n",
       "<style scoped>\n",
       "    .dataframe tbody tr th:only-of-type {\n",
       "        vertical-align: middle;\n",
       "    }\n",
       "\n",
       "    .dataframe tbody tr th {\n",
       "        vertical-align: top;\n",
       "    }\n",
       "\n",
       "    .dataframe thead th {\n",
       "        text-align: right;\n",
       "    }\n",
       "</style>\n",
       "<table border=\"1\" class=\"dataframe\">\n",
       "  <thead>\n",
       "    <tr style=\"text-align: right;\">\n",
       "      <th></th>\n",
       "      <th>aerolinea</th>\n",
       "      <th>origen</th>\n",
       "      <th>destino</th>\n",
       "      <th>hora_salida</th>\n",
       "      <th>hora_llegada</th>\n",
       "      <th>duracion</th>\n",
       "      <th>precio</th>\n",
       "      <th>asientos_disponibles</th>\n",
       "      <th>days_flying</th>\n",
       "    </tr>\n",
       "  </thead>\n",
       "  <tbody>\n",
       "    <tr>\n",
       "      <th>0</th>\n",
       "      <td>American</td>\n",
       "      <td>Allentown</td>\n",
       "      <td>Charlotte</td>\n",
       "      <td>2019-06-09T06:03</td>\n",
       "      <td>2019-06-09T08:58</td>\n",
       "      <td>175</td>\n",
       "      <td>577</td>\n",
       "      <td>0</td>\n",
       "      <td>False</td>\n",
       "    </tr>\n",
       "    <tr>\n",
       "      <th>1</th>\n",
       "      <td>American</td>\n",
       "      <td>Allentown</td>\n",
       "      <td>Charlotte</td>\n",
       "      <td>2019-06-09T11:26</td>\n",
       "      <td>2019-06-09T13:31</td>\n",
       "      <td>125</td>\n",
       "      <td>577</td>\n",
       "      <td>2</td>\n",
       "      <td>False</td>\n",
       "    </tr>\n",
       "  </tbody>\n",
       "</table>\n",
       "</div>"
      ],
      "text/plain": [
       "  aerolinea     origen    destino       hora_salida      hora_llegada  \\\n",
       "0  American  Allentown  Charlotte  2019-06-09T06:03  2019-06-09T08:58   \n",
       "1  American  Allentown  Charlotte  2019-06-09T11:26  2019-06-09T13:31   \n",
       "\n",
       "   duracion  precio  asientos_disponibles  days_flying  \n",
       "0       175     577                     0        False  \n",
       "1       125     577                     2        False  "
      ]
     },
     "execution_count": 102,
     "metadata": {},
     "output_type": "execute_result"
    }
   ],
   "source": [
    "#Entonces quedan asi los dataframes\n",
    "nuevo_dataframe.head(2)"
   ]
  },
  {
   "cell_type": "code",
   "execution_count": 101,
   "metadata": {},
   "outputs": [
    {
     "data": {
      "text/html": [
       "<div>\n",
       "<style scoped>\n",
       "    .dataframe tbody tr th:only-of-type {\n",
       "        vertical-align: middle;\n",
       "    }\n",
       "\n",
       "    .dataframe tbody tr th {\n",
       "        vertical-align: top;\n",
       "    }\n",
       "\n",
       "    .dataframe thead th {\n",
       "        text-align: right;\n",
       "    }\n",
       "</style>\n",
       "<table border=\"1\" class=\"dataframe\">\n",
       "  <thead>\n",
       "    <tr style=\"text-align: right;\">\n",
       "      <th></th>\n",
       "      <th>aerolinea</th>\n",
       "      <th>origen</th>\n",
       "      <th>destino</th>\n",
       "      <th>hora_salida</th>\n",
       "      <th>hora_llegada</th>\n",
       "      <th>duracion</th>\n",
       "      <th>precio</th>\n",
       "      <th>asientos_disponibles</th>\n",
       "      <th>days_flying</th>\n",
       "    </tr>\n",
       "  </thead>\n",
       "  <tbody>\n",
       "    <tr>\n",
       "      <th>0</th>\n",
       "      <td>American</td>\n",
       "      <td>Allentown</td>\n",
       "      <td>Charlotte</td>\n",
       "      <td>2019-06-10T06:03</td>\n",
       "      <td>2019-06-10T08:58</td>\n",
       "      <td>175</td>\n",
       "      <td>577</td>\n",
       "      <td>0</td>\n",
       "      <td>False</td>\n",
       "    </tr>\n",
       "    <tr>\n",
       "      <th>1</th>\n",
       "      <td>American</td>\n",
       "      <td>Allentown</td>\n",
       "      <td>Charlotte</td>\n",
       "      <td>2019-06-10T11:26</td>\n",
       "      <td>2019-06-10T13:31</td>\n",
       "      <td>125</td>\n",
       "      <td>577</td>\n",
       "      <td>2</td>\n",
       "      <td>False</td>\n",
       "    </tr>\n",
       "  </tbody>\n",
       "</table>\n",
       "</div>"
      ],
      "text/plain": [
       "  aerolinea     origen    destino       hora_salida      hora_llegada  \\\n",
       "0  American  Allentown  Charlotte  2019-06-10T06:03  2019-06-10T08:58   \n",
       "1  American  Allentown  Charlotte  2019-06-10T11:26  2019-06-10T13:31   \n",
       "\n",
       "   duracion  precio  asientos_disponibles  days_flying  \n",
       "0       175     577                     0        False  \n",
       "1       125     577                     2        False  "
      ]
     },
     "execution_count": 101,
     "metadata": {},
     "output_type": "execute_result"
    }
   ],
   "source": [
    "otro_dataframe.head(2)"
   ]
  },
  {
   "cell_type": "markdown",
   "metadata": {},
   "source": [
    "### Iteracion de 10 dias y concateno todos los dataframes"
   ]
  },
  {
   "cell_type": "code",
   "execution_count": null,
   "metadata": {},
   "outputs": [
    {
     "name": "stdout",
     "output_type": "stream",
     "text": [
      "16544\n",
      "33088\n",
      "+++++++++++++++++\n",
      "16544\n",
      "49632\n",
      "+++++++++++++++++\n",
      "16544\n",
      "66176\n",
      "+++++++++++++++++\n",
      "16544\n",
      "82720\n",
      "+++++++++++++++++\n",
      "16544\n",
      "99264\n",
      "+++++++++++++++++\n",
      "16544\n",
      "115808\n",
      "+++++++++++++++++\n",
      "16544\n",
      "132352\n",
      "+++++++++++++++++\n",
      "16544\n",
      "148896\n",
      "+++++++++++++++++\n"
     ]
    }
   ],
   "source": [
    "otro_dataframe = nuevo_dataframe.copy()\n",
    "dataframe_final = nuevo_dataframe.copy()\n",
    "for x in range(10):\n",
    "    otro_dataframe[['hora_salida', 'hora_llegada']] = otro_dataframe[['hora_salida', 'hora_llegada']].apply(lambda x: sum_day(x.hora_salida, x.hora_llegada), axis=1)\n",
    "    dataframe_final = pd.concat([dataframe_final, otro_dataframe]).reset_index(drop=True)\n",
    "    print(len(otro_dataframe))\n",
    "    print(len(dataframe_final))\n",
    "    print(\"+++++++++++++++++\")"
   ]
  },
  {
   "cell_type": "code",
   "execution_count": 113,
   "metadata": {},
   "outputs": [
    {
     "data": {
      "text/plain": [
       "False"
      ]
     },
     "execution_count": 113,
     "metadata": {},
     "output_type": "execute_result"
    }
   ],
   "source": [
    "len(nuevo_dataframe)*10 == len(dataframe_final)"
   ]
  },
  {
   "cell_type": "code",
   "execution_count": 114,
   "metadata": {},
   "outputs": [
    {
     "data": {
      "text/plain": [
       "181984"
      ]
     },
     "execution_count": 114,
     "metadata": {},
     "output_type": "execute_result"
    }
   ],
   "source": [
    "len(dataframe_final)"
   ]
  },
  {
   "cell_type": "code",
   "execution_count": null,
   "metadata": {
    "collapsed": true
   },
   "outputs": [],
   "source": [
    "dataframe_final.sample(10)"
   ]
  },
  {
   "cell_type": "markdown",
   "metadata": {},
   "source": [
    "### Guardo el dataframe_final"
   ]
  },
  {
   "cell_type": "code",
   "execution_count": null,
   "metadata": {
    "collapsed": true
   },
   "outputs": [],
   "source": [
    "dataframe_final.to_csv('../csv/info_vuelos_final.csv', index = None, header = True)"
   ]
  }
 ],
 "metadata": {
  "kernelspec": {
   "display_name": "Python 3",
   "language": "python",
   "name": "python3"
  },
  "language_info": {
   "codemirror_mode": {
    "name": "ipython",
    "version": 3
   },
   "file_extension": ".py",
   "mimetype": "text/x-python",
   "name": "python",
   "nbconvert_exporter": "python",
   "pygments_lexer": "ipython3",
   "version": "3.6.7"
  }
 },
 "nbformat": 4,
 "nbformat_minor": 2
}
