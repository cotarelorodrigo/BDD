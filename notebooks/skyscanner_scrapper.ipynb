{
 "cells": [
  {
   "cell_type": "markdown",
   "metadata": {},
   "source": [
    "### Links útiles"
   ]
  },
  {
   "cell_type": "markdown",
   "metadata": {},
   "source": [
    "Skyscanner API documentation: https://rapidapi.com/skyscanner/api/skyscanner-flight-search?endpoint=5aa1eab3e4b00687d3574279\n",
    "\n",
    "Unirest documentation for Python: http://unirest.io/python.html"
   ]
  },
  {
   "cell_type": "code",
   "execution_count": 41,
   "metadata": {},
   "outputs": [],
   "source": [
    "import pandas as pd\n",
    "import unirest\n",
    "import datetime"
   ]
  },
  {
   "cell_type": "code",
   "execution_count": 2,
   "metadata": {},
   "outputs": [],
   "source": [
    "API_HOST = \"skyscanner-skyscanner-flight-search-v1.p.rapidapi.com\"\n",
    "API_KEY = \"ec5cbd32b7mshbc3873e6092257dp11e806jsn09c588578b1f\""
   ]
  },
  {
   "cell_type": "markdown",
   "metadata": {},
   "source": [
    "## Intención de este notebook"
   ]
  },
  {
   "cell_type": "markdown",
   "metadata": {},
   "source": [
    "Para buscar vuelos desde el dia de hoy hasta 10 dias en adelante, ejecutar:"
   ]
  },
  {
   "cell_type": "code",
   "execution_count": 47,
   "metadata": {},
   "outputs": [
    {
     "data": {
      "text/plain": [
       "'2019-05-04'"
      ]
     },
     "execution_count": 47,
     "metadata": {},
     "output_type": "execute_result"
    }
   ],
   "source": [
    "day = datetime.datetime.today() + datetime.timedelta(days=10)\n",
    "day.strftime('%Y-%m-%d')"
   ]
  },
  {
   "cell_type": "markdown",
   "metadata": {},
   "source": [
    "Cargo el dataframe con la info de todos los vuelos concatenada"
   ]
  },
  {
   "cell_type": "code",
   "execution_count": 64,
   "metadata": {},
   "outputs": [
    {
     "data": {
      "text/html": [
       "<div>\n",
       "<style scoped>\n",
       "    .dataframe tbody tr th:only-of-type {\n",
       "        vertical-align: middle;\n",
       "    }\n",
       "\n",
       "    .dataframe tbody tr th {\n",
       "        vertical-align: top;\n",
       "    }\n",
       "\n",
       "    .dataframe thead th {\n",
       "        text-align: right;\n",
       "    }\n",
       "</style>\n",
       "<table border=\"1\" class=\"dataframe\">\n",
       "  <thead>\n",
       "    <tr style=\"text-align: right;\">\n",
       "      <th></th>\n",
       "      <th>aerolinea</th>\n",
       "      <th>origen</th>\n",
       "      <th>destino</th>\n",
       "      <th>fecha_salida</th>\n",
       "      <th>horario_salida</th>\n",
       "      <th>fecha_llegada</th>\n",
       "      <th>horario_llegada</th>\n",
       "    </tr>\n",
       "  </thead>\n",
       "  <tbody>\n",
       "    <tr>\n",
       "      <th>260904</th>\n",
       "      <td>Delta</td>\n",
       "      <td>Detroit</td>\n",
       "      <td>Charlotte</td>\n",
       "      <td>['jueves', '14', 'marzo']</td>\n",
       "      <td>09:17</td>\n",
       "      <td>['jueves', '14', 'marzo']</td>\n",
       "      <td>10:10</td>\n",
       "    </tr>\n",
       "    <tr>\n",
       "      <th>61627</th>\n",
       "      <td>American</td>\n",
       "      <td>Tampa</td>\n",
       "      <td>Charlotte</td>\n",
       "      <td>['viernes', '8', 'marzo']</td>\n",
       "      <td>20:15</td>\n",
       "      <td>['viernes', '8', 'marzo']</td>\n",
       "      <td>21:51</td>\n",
       "    </tr>\n",
       "    <tr>\n",
       "      <th>184160</th>\n",
       "      <td>Air France</td>\n",
       "      <td>Atlanta</td>\n",
       "      <td>Charlotte</td>\n",
       "      <td>['lunes', '11', 'marzo']</td>\n",
       "      <td>17:35</td>\n",
       "      <td>['lunes', '11', 'marzo']</td>\n",
       "      <td>21:45</td>\n",
       "    </tr>\n",
       "    <tr>\n",
       "      <th>205512</th>\n",
       "      <td>Alaska</td>\n",
       "      <td>San Francisco</td>\n",
       "      <td>Seattle</td>\n",
       "      <td>['miercoles', '13', 'marzo']</td>\n",
       "      <td>06:25</td>\n",
       "      <td>['miercoles', '13', 'marzo']</td>\n",
       "      <td>08:35</td>\n",
       "    </tr>\n",
       "    <tr>\n",
       "      <th>294105</th>\n",
       "      <td>Gol</td>\n",
       "      <td>João Pessoa</td>\n",
       "      <td>São Paulo Guarulhos</td>\n",
       "      <td>['jueves', '14', 'marzo']</td>\n",
       "      <td>09:10</td>\n",
       "      <td>['jueves', '14', 'marzo']</td>\n",
       "      <td>11:04</td>\n",
       "    </tr>\n",
       "    <tr>\n",
       "      <th>253200</th>\n",
       "      <td>Delta</td>\n",
       "      <td>Augusta</td>\n",
       "      <td>Atlanta</td>\n",
       "      <td>['jueves', '14', 'marzo']</td>\n",
       "      <td>08:15</td>\n",
       "      <td>['jueves', '14', 'marzo']</td>\n",
       "      <td>09:00</td>\n",
       "    </tr>\n",
       "    <tr>\n",
       "      <th>202972</th>\n",
       "      <td>Alaska</td>\n",
       "      <td>Medford</td>\n",
       "      <td>Seattle</td>\n",
       "      <td>['lunes', '11', 'marzo']</td>\n",
       "      <td>08:55</td>\n",
       "      <td>['lunes', '11', 'marzo']</td>\n",
       "      <td>11:43</td>\n",
       "    </tr>\n",
       "    <tr>\n",
       "      <th>166796</th>\n",
       "      <td>American</td>\n",
       "      <td>Chicago O'Hare</td>\n",
       "      <td>Columbus</td>\n",
       "      <td>['jueves', '7', 'marzo']</td>\n",
       "      <td>20:29</td>\n",
       "      <td>['jueves', '7', 'marzo']</td>\n",
       "      <td>23:35</td>\n",
       "    </tr>\n",
       "    <tr>\n",
       "      <th>240942</th>\n",
       "      <td>Cathay Pacific</td>\n",
       "      <td>Melbourne</td>\n",
       "      <td>Hong Kong</td>\n",
       "      <td>['viernes', '15', 'marzo']</td>\n",
       "      <td>20:00</td>\n",
       "      <td>['viernes', '15', 'marzo']</td>\n",
       "      <td>21:30</td>\n",
       "    </tr>\n",
       "    <tr>\n",
       "      <th>310886</th>\n",
       "      <td>SpiceJet</td>\n",
       "      <td>Bombay</td>\n",
       "      <td>Surat</td>\n",
       "      <td>['lunes', '18', 'marzo']</td>\n",
       "      <td>12:10</td>\n",
       "      <td>['lunes', '18', 'marzo']</td>\n",
       "      <td>15:05</td>\n",
       "    </tr>\n",
       "  </tbody>\n",
       "</table>\n",
       "</div>"
      ],
      "text/plain": [
       "                  aerolinea              origen                  destino  \\\n",
       "260904            Delta               Detroit                Charlotte     \n",
       "61627          American                 Tampa                Charlotte     \n",
       "184160       Air France               Atlanta                Charlotte     \n",
       "205512           Alaska         San Francisco                  Seattle     \n",
       "294105              Gol           João Pessoa      São Paulo Guarulhos     \n",
       "253200            Delta               Augusta                  Atlanta     \n",
       "202972           Alaska               Medford                  Seattle     \n",
       "166796         American        Chicago O'Hare                 Columbus     \n",
       "240942   Cathay Pacific             Melbourne                Hong Kong     \n",
       "310886         SpiceJet                Bombay                    Surat     \n",
       "\n",
       "                        fecha_salida horario_salida  \\\n",
       "260904     ['jueves', '14', 'marzo']          09:17   \n",
       "61627      ['viernes', '8', 'marzo']          20:15   \n",
       "184160      ['lunes', '11', 'marzo']          17:35   \n",
       "205512  ['miercoles', '13', 'marzo']          06:25   \n",
       "294105     ['jueves', '14', 'marzo']          09:10   \n",
       "253200     ['jueves', '14', 'marzo']          08:15   \n",
       "202972      ['lunes', '11', 'marzo']          08:55   \n",
       "166796      ['jueves', '7', 'marzo']          20:29   \n",
       "240942    ['viernes', '15', 'marzo']          20:00   \n",
       "310886      ['lunes', '18', 'marzo']          12:10   \n",
       "\n",
       "                       fecha_llegada horario_llegada  \n",
       "260904     ['jueves', '14', 'marzo']           10:10  \n",
       "61627      ['viernes', '8', 'marzo']           21:51  \n",
       "184160      ['lunes', '11', 'marzo']           21:45  \n",
       "205512  ['miercoles', '13', 'marzo']           08:35  \n",
       "294105     ['jueves', '14', 'marzo']           11:04  \n",
       "253200     ['jueves', '14', 'marzo']           09:00  \n",
       "202972      ['lunes', '11', 'marzo']           11:43  \n",
       "166796      ['jueves', '7', 'marzo']           23:35  \n",
       "240942    ['viernes', '15', 'marzo']           21:30  \n",
       "310886      ['lunes', '18', 'marzo']           15:05  "
      ]
     },
     "execution_count": 64,
     "metadata": {},
     "output_type": "execute_result"
    }
   ],
   "source": [
    "info_vuelos = pd.read_csv('csv/info_vuelos.csv')\n",
    "info_vuelos = info_vuelos.drop(columns=['vuelo', 'terminal_salida', 'puerta_salida', 'terminal_llegada', 'puerta_llegada'])\n",
    "info_vuelos.sample(10)"
   ]
  },
  {
   "cell_type": "code",
   "execution_count": 65,
   "metadata": {},
   "outputs": [
    {
     "name": "stdout",
     "output_type": "stream",
     "text": [
      "<class 'pandas.core.frame.DataFrame'>\n",
      "RangeIndex: 344124 entries, 0 to 344123\n",
      "Data columns (total 7 columns):\n",
      "aerolinea          344124 non-null object\n",
      "origen             344124 non-null object\n",
      "destino            344124 non-null object\n",
      "fecha_salida       344124 non-null object\n",
      "horario_salida     344124 non-null object\n",
      "fecha_llegada      344124 non-null object\n",
      "horario_llegada    344124 non-null object\n",
      "dtypes: object(7)\n",
      "memory usage: 18.4+ MB\n"
     ]
    }
   ],
   "source": [
    "info_vuelos.info()"
   ]
  },
  {
   "cell_type": "markdown",
   "metadata": {},
   "source": [
    "TO DO:\n",
    "\n",
    "- Matchear origen y destino con sus IATA codes (codigo aeropuerto) correspondientes en el archivo aeropuertos.csv\n",
    "- Crear dataframe con lugar - IATA code\n",
    "- Para cada fila del df, ejecutar la consulta \"browse flight prices\" y obtener costo del vuelo\n",
    "- Exportar el csv"
   ]
  },
  {
   "cell_type": "markdown",
   "metadata": {},
   "source": [
    "### Browse Flight Prices"
   ]
  },
  {
   "cell_type": "code",
   "execution_count": 73,
   "metadata": {},
   "outputs": [],
   "source": [
    "# Consulta (quotes, routes, dates)\n",
    "query = 'quotes'\n",
    "\n",
    "# Parametros obligatorios\n",
    "country = 'US'\n",
    "currency = 'USD'\n",
    "locale = 'en-US'\n",
    "origin = 'SFO-sky'       # <IATA code>-sky\n",
    "destiny = 'JFK-sky'      # <IATA code>-sky\n",
    "departure = (datetime.datetime.today() + datetime.timedelta(days=10)).strftime('%Y-%m-%d')\n",
    "\n",
    "# Parametros optativos\n",
    "arrival = ''\n",
    "\n",
    "url = \"https://skyscanner-skyscanner-flight-search-v1.p.rapidapi.com/apiservices/browsequery/v1.0/country/currency/locale/origin/destiny/departure?inboundpartialdate=arrival\"\n",
    "\n",
    "current_url = url.replace('query', query)\\\n",
    "                 .replace('country', country)\\\n",
    "                 .replace('currency', currency)\\\n",
    "                 .replace('locale', locale)\\\n",
    "                 .replace('origin', origin)\\\n",
    "                 .replace('destiny', destiny)\\\n",
    "                 .replace('departure', departure)\\\n",
    "                 .replace('arrival', arrival)\n",
    "\n",
    "response = unirest.get(current_url,\n",
    "  headers={\n",
    "    \"X-RapidAPI-Host\": API_HOST,\n",
    "    \"X-RapidAPI-Key\": API_KEY\n",
    "  }\n",
    ")"
   ]
  },
  {
   "cell_type": "code",
   "execution_count": 74,
   "metadata": {},
   "outputs": [
    {
     "data": {
      "text/plain": [
       "{u'Carriers': [{u'CarrierId': 833, u'Name': u'American Airlines'},\n",
       "  {u'CarrierId': 851, u'Name': u'Alaska Airlines'},\n",
       "  {u'CarrierId': 870, u'Name': u'jetBlue'},\n",
       "  {u'CarrierId': 988, u'Name': u'Delta'},\n",
       "  {u'CarrierId': 1065, u'Name': u'Frontier Airlines'}],\n",
       " u'Currencies': [{u'Code': u'USD',\n",
       "   u'DecimalDigits': 2,\n",
       "   u'DecimalSeparator': u'.',\n",
       "   u'RoundingCoefficient': 0,\n",
       "   u'SpaceBetweenAmountAndSymbol': False,\n",
       "   u'Symbol': u'$',\n",
       "   u'SymbolOnLeft': True,\n",
       "   u'ThousandsSeparator': u','}],\n",
       " u'Places': [{u'CityId': u'NYCA',\n",
       "   u'CityName': u'New York',\n",
       "   u'CountryName': u'United States',\n",
       "   u'IataCode': u'JFK',\n",
       "   u'Name': u'New York John F. Kennedy',\n",
       "   u'PlaceId': 60987,\n",
       "   u'SkyscannerCode': u'JFK',\n",
       "   u'Type': u'Station'},\n",
       "  {u'CityId': u'SFOA',\n",
       "   u'CityName': u'San Francisco',\n",
       "   u'CountryName': u'United States',\n",
       "   u'IataCode': u'SFO',\n",
       "   u'Name': u'San Francisco International',\n",
       "   u'PlaceId': 81727,\n",
       "   u'SkyscannerCode': u'SFO',\n",
       "   u'Type': u'Station'}],\n",
       " u'Quotes': [{u'Direct': True,\n",
       "   u'MinPrice': 219.0,\n",
       "   u'OutboundLeg': {u'CarrierIds': [851],\n",
       "    u'DepartureDate': u'2019-05-04T00:00:00',\n",
       "    u'DestinationId': 60987,\n",
       "    u'OriginId': 81727},\n",
       "   u'QuoteDateTime': u'2019-04-24T20:42:00',\n",
       "   u'QuoteId': 1}]}"
      ]
     },
     "execution_count": 74,
     "metadata": {},
     "output_type": "execute_result"
    }
   ],
   "source": [
    "response.body"
   ]
  },
  {
   "cell_type": "code",
   "execution_count": null,
   "metadata": {},
   "outputs": [],
   "source": []
  }
 ],
 "metadata": {
  "kernelspec": {
   "display_name": "Python 2",
   "language": "python",
   "name": "python2"
  },
  "language_info": {
   "codemirror_mode": {
    "name": "ipython",
    "version": 2
   },
   "file_extension": ".py",
   "mimetype": "text/x-python",
   "name": "python",
   "nbconvert_exporter": "python",
   "pygments_lexer": "ipython2",
   "version": "2.7.15rc1"
  }
 },
 "nbformat": 4,
 "nbformat_minor": 2
}
