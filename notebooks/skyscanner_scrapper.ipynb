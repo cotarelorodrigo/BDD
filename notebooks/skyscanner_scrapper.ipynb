{
 "cells": [
  {
   "cell_type": "markdown",
   "metadata": {},
   "source": [
    "### Links útiles"
   ]
  },
  {
   "cell_type": "markdown",
   "metadata": {},
   "source": [
    "Skyscanner API documentation: https://rapidapi.com/skyscanner/api/skyscanner-flight-search?endpoint=5aa1eab3e4b00687d3574279\n",
    "\n",
    "Unirest documentation for Python: http://unirest.io/python.html"
   ]
  },
  {
   "cell_type": "code",
   "execution_count": 23,
   "metadata": {},
   "outputs": [],
   "source": [
    "import pandas as pd\n",
    "import numpy as np\n",
    "import unirest\n",
    "import datetime"
   ]
  },
  {
   "cell_type": "code",
   "execution_count": 2,
   "metadata": {},
   "outputs": [],
   "source": [
    "API_HOST = \"skyscanner-skyscanner-flight-search-v1.p.rapidapi.com\"\n",
    "API_KEY = \"ec5cbd32b7mshbc3873e6092257dp11e806jsn09c588578b1f\""
   ]
  },
  {
   "cell_type": "markdown",
   "metadata": {},
   "source": [
    "## Intención de este notebook"
   ]
  },
  {
   "cell_type": "markdown",
   "metadata": {},
   "source": [
    "Completar los datos faltantes para los vuelos scrappeados en info_vuelos.csv\n",
    "\n",
    "Datos a completar:\n",
    "    \n",
    "- Cantidad de asientos disponibles (número aleatorio entre 0 y 5)\n",
    "- Costo (se obtiene con la API de skyscanner; en caso de no encontrarse, se asigna un valor proporcional a la distancia)"
   ]
  },
  {
   "cell_type": "markdown",
   "metadata": {},
   "source": [
    "Cargo el dataframe con la info de todos los vuelos concatenada"
   ]
  },
  {
   "cell_type": "code",
   "execution_count": 14,
   "metadata": {},
   "outputs": [
    {
     "name": "stdout",
     "output_type": "stream",
     "text": [
      "<class 'pandas.core.frame.DataFrame'>\n",
      "RangeIndex: 344124 entries, 0 to 344123\n",
      "Data columns (total 7 columns):\n",
      "aerolinea          344124 non-null object\n",
      "origen             344124 non-null object\n",
      "destino            344124 non-null object\n",
      "fecha_salida       344124 non-null object\n",
      "horario_salida     344124 non-null object\n",
      "fecha_llegada      344124 non-null object\n",
      "horario_llegada    344124 non-null object\n",
      "dtypes: object(7)\n",
      "memory usage: 18.4+ MB\n"
     ]
    }
   ],
   "source": [
    "info_vuelos = pd.read_csv('csv/info_vuelos.csv')\n",
    "info_vuelos.info()"
   ]
  },
  {
   "cell_type": "markdown",
   "metadata": {},
   "source": [
    "Cargo el dataframe con los IATA codes de las ciudades pertenecientes a info_vuelos.csv"
   ]
  },
  {
   "cell_type": "code",
   "execution_count": 27,
   "metadata": {},
   "outputs": [
    {
     "name": "stdout",
     "output_type": "stream",
     "text": [
      "<class 'pandas.core.frame.DataFrame'>\n",
      "RangeIndex: 1401 entries, 0 to 1400\n",
      "Data columns (total 2 columns):\n",
      "codigo_iata    1400 non-null object\n",
      "ciudad         1401 non-null object\n",
      "dtypes: object(2)\n",
      "memory usage: 22.0+ KB\n"
     ]
    }
   ],
   "source": [
    "iata_codes = pd.read_csv('csv/iata_codes.csv', sep = ';')\n",
    "iata_codes.info()"
   ]
  },
  {
   "cell_type": "markdown",
   "metadata": {},
   "source": [
    "TO DO:\n",
    "- Para cada fila del df, ejecutar la consulta \"browse flight prices\" y obtener costo del vuelo\n",
    "- Exportar el csv"
   ]
  },
  {
   "cell_type": "markdown",
   "metadata": {},
   "source": [
    "### Browse Flight Prices"
   ]
  },
  {
   "cell_type": "code",
   "execution_count": 74,
   "metadata": {},
   "outputs": [],
   "source": [
    "def browse_flight_prices(flight_query, iata_origin, iata_destiny, start_day):\n",
    "    # query = (quotes, routes, dates)\n",
    "    query = flight_query\n",
    "\n",
    "    # Parametros obligatorios\n",
    "    country = 'US'\n",
    "    currency = 'USD'\n",
    "    locale = 'en-US'\n",
    "    origin = iata_origin + '-sky'\n",
    "    destiny = iata_destiny + '-sky'\n",
    "    departure = start_day\n",
    "\n",
    "    # Parametros optativos\n",
    "    arrival = ''\n",
    "\n",
    "    url = \"https://skyscanner-skyscanner-flight-search-v1.p.rapidapi.com/apiservices/browsequery/v1.0/country/currency/locale/origin/destiny/departure?inboundpartialdate=arrival\"\n",
    "\n",
    "    current_url = url.replace('query', query)\\\n",
    "                     .replace('country', country)\\\n",
    "                     .replace('currency', currency)\\\n",
    "                     .replace('locale', locale)\\\n",
    "                     .replace('origin', origin)\\\n",
    "                     .replace('destiny', destiny)\\\n",
    "                     .replace('departure', departure)\\\n",
    "                     .replace('arrival', arrival)\n",
    "\n",
    "    response = unirest.get(current_url, headers={\"X-RapidAPI-Host\": API_HOST, \"X-RapidAPI-Key\": API_KEY})\n",
    "    \n",
    "    return response.body['Quotes']"
   ]
  },
  {
   "cell_type": "code",
   "execution_count": 77,
   "metadata": {},
   "outputs": [
    {
     "name": "stdout",
     "output_type": "stream",
     "text": [
      "[]\n",
      "[]\n",
      "[]\n",
      "[]\n",
      "[]\n",
      "[]\n",
      "[]\n",
      "[]\n",
      "[]\n",
      "[]\n",
      "[]\n",
      "[]\n",
      "[]\n",
      "[]\n",
      "[]\n",
      "[]\n",
      "[]\n",
      "[]\n",
      "[{u'OutboundLeg': {u'CarrierIds': [1793], u'DestinationId': 45156, u'OriginId': 40053, u'DepartureDate': u'2019-05-01T00:00:00'}, u'MinPrice': 281.0, u'QuoteId': 1, u'Direct': False, u'QuoteDateTime': u'2019-04-21T17:24:00'}]\n",
      "[{u'OutboundLeg': {u'CarrierIds': [1793], u'DestinationId': 45156, u'OriginId': 40053, u'DepartureDate': u'2019-05-01T00:00:00'}, u'MinPrice': 281.0, u'QuoteId': 1, u'Direct': False, u'QuoteDateTime': u'2019-04-21T17:24:00'}]\n",
      "[{u'OutboundLeg': {u'CarrierIds': [1793], u'DestinationId': 45156, u'OriginId': 40053, u'DepartureDate': u'2019-05-01T00:00:00'}, u'MinPrice': 281.0, u'QuoteId': 1, u'Direct': False, u'QuoteDateTime': u'2019-04-21T17:24:00'}]\n",
      "[]\n",
      "[]\n",
      "[]\n",
      "[{u'OutboundLeg': {u'CarrierIds': [1108], u'DestinationId': 45156, u'OriginId': 40053, u'DepartureDate': u'2019-05-03T00:00:00'}, u'MinPrice': 223.0, u'QuoteId': 1, u'Direct': False, u'QuoteDateTime': u'2019-04-23T20:05:00'}]\n",
      "[{u'OutboundLeg': {u'CarrierIds': [1108], u'DestinationId': 45156, u'OriginId': 40053, u'DepartureDate': u'2019-05-03T00:00:00'}, u'MinPrice': 223.0, u'QuoteId': 1, u'Direct': False, u'QuoteDateTime': u'2019-04-23T20:05:00'}]\n",
      "[{u'OutboundLeg': {u'CarrierIds': [1108], u'DestinationId': 45156, u'OriginId': 40053, u'DepartureDate': u'2019-05-03T00:00:00'}, u'MinPrice': 223.0, u'QuoteId': 1, u'Direct': False, u'QuoteDateTime': u'2019-04-23T20:05:00'}]\n",
      "[]\n",
      "[]\n",
      "[]\n"
     ]
    }
   ],
   "source": [
    "numb_days = 10\n",
    "query = 'quotes'\n",
    "\n",
    "for i in range(0, numb_days):\n",
    "    start_day = (datetime.datetime.today() + datetime.timedelta(days=i)).strftime('%Y-%m-%d')\n",
    "    \n",
    "    for index, row in info_vuelos.head(50).iterrows():\n",
    "        iata_origin = iata_codes.loc[iata_codes['ciudad'] == row['origen'], 'codigo_iata']\n",
    "        iata_destiny = iata_codes.loc[iata_codes['ciudad'] == row['destino'], 'codigo_iata']\n",
    "        \n",
    "        if not iata_origin.empty and not iata_destiny.empty:\n",
    "            response = browse_flight_prices(query, iata_origin.iloc[0], iata_destiny.iloc[0], start_day)\n",
    "            #if response:\n",
    "            print(response)\n",
    "    "
   ]
  },
  {
   "cell_type": "code",
   "execution_count": null,
   "metadata": {},
   "outputs": [],
   "source": []
  }
 ],
 "metadata": {
  "kernelspec": {
   "display_name": "Python 2",
   "language": "python",
   "name": "python2"
  },
  "language_info": {
   "codemirror_mode": {
    "name": "ipython",
    "version": 2
   },
   "file_extension": ".py",
   "mimetype": "text/x-python",
   "name": "python",
   "nbconvert_exporter": "python",
   "pygments_lexer": "ipython2",
   "version": "2.7.15rc1"
  }
 },
 "nbformat": 4,
 "nbformat_minor": 2
}
