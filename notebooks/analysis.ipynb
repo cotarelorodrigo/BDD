{
 "cells": [
  {
   "cell_type": "markdown",
   "metadata": {},
   "source": [
    "# Análisis de los vuelos"
   ]
  },
  {
   "cell_type": "code",
   "execution_count": 2,
   "metadata": {},
   "outputs": [],
   "source": [
    "import pandas as pd\n",
    "import numpy as np\n",
    "import seaborn as sns\n",
    "#from wordcloud import WordCloud"
   ]
  },
  {
   "cell_type": "markdown",
   "metadata": {},
   "source": [
    "### Carga del archivo pickle"
   ]
  },
  {
   "cell_type": "code",
   "execution_count": 3,
   "metadata": {},
   "outputs": [
    {
     "data": {
      "text/html": [
       "<div>\n",
       "<style scoped>\n",
       "    .dataframe tbody tr th:only-of-type {\n",
       "        vertical-align: middle;\n",
       "    }\n",
       "\n",
       "    .dataframe tbody tr th {\n",
       "        vertical-align: top;\n",
       "    }\n",
       "\n",
       "    .dataframe thead th {\n",
       "        text-align: right;\n",
       "    }\n",
       "</style>\n",
       "<table border=\"1\" class=\"dataframe\">\n",
       "  <thead>\n",
       "    <tr style=\"text-align: right;\">\n",
       "      <th></th>\n",
       "      <th>aerolinea</th>\n",
       "      <th>origen</th>\n",
       "      <th>destino</th>\n",
       "      <th>hora_salida</th>\n",
       "      <th>hora_llegada</th>\n",
       "      <th>duracion</th>\n",
       "      <th>precio</th>\n",
       "      <th>asientos_disponibles</th>\n",
       "      <th>days_flying</th>\n",
       "    </tr>\n",
       "  </thead>\n",
       "  <tbody>\n",
       "    <tr>\n",
       "      <th>150858</th>\n",
       "      <td>Korean Air</td>\n",
       "      <td>Seúl Incheon</td>\n",
       "      <td>Tokio Narita</td>\n",
       "      <td>[domingo, 17, marzo]</td>\n",
       "      <td>17:40</td>\n",
       "      <td>[domingo, 17, marzo]</td>\n",
       "      <td>20:36</td>\n",
       "    </tr>\n",
       "    <tr>\n",
       "      <th>28</th>\n",
       "      <td>Georgian Airways</td>\n",
       "      <td>Tel Aviv</td>\n",
       "      <td>Tiflis</td>\n",
       "      <td>[jueves, 7, marzo]</td>\n",
       "      <td>08:40</td>\n",
       "      <td>[jueves, 7, marzo]</td>\n",
       "      <td>13:10</td>\n",
       "    </tr>\n",
       "    <tr>\n",
       "      <th>13198</th>\n",
       "      <td>American</td>\n",
       "      <td>Los Ángeles</td>\n",
       "      <td>Miami</td>\n",
       "      <td>[sabado, 9, marzo]</td>\n",
       "      <td>17:05</td>\n",
       "      <td>[domingo, 10, marzo]</td>\n",
       "      <td>19:00</td>\n",
       "    </tr>\n",
       "    <tr>\n",
       "      <th>195968</th>\n",
       "      <td>Tianjin Airlines</td>\n",
       "      <td>Xi'an</td>\n",
       "      <td>Tianjin</td>\n",
       "      <td>[lunes, 18, marzo]</td>\n",
       "      <td>09:15</td>\n",
       "      <td>[lunes, 18, marzo]</td>\n",
       "      <td>16:00</td>\n",
       "    </tr>\n",
       "    <tr>\n",
       "      <th>59170</th>\n",
       "      <td>Avianca</td>\n",
       "      <td>Bogotá</td>\n",
       "      <td>Cali</td>\n",
       "      <td>[jueves, 14, marzo]</td>\n",
       "      <td>09:45</td>\n",
       "      <td>[jueves, 14, marzo]</td>\n",
       "      <td>11:05</td>\n",
       "    </tr>\n",
       "    <tr>\n",
       "      <th>193567</th>\n",
       "      <td>KLM</td>\n",
       "      <td>Rochester</td>\n",
       "      <td>Atlanta</td>\n",
       "      <td>[sabado, 16, marzo]</td>\n",
       "      <td>17:40</td>\n",
       "      <td>[sabado, 16, marzo]</td>\n",
       "      <td>19:20</td>\n",
       "    </tr>\n",
       "    <tr>\n",
       "      <th>19010</th>\n",
       "      <td>American</td>\n",
       "      <td>Chicago O'Hare</td>\n",
       "      <td>Wausau</td>\n",
       "      <td>[domingo, 10, marzo]</td>\n",
       "      <td>08:19</td>\n",
       "      <td>[domingo, 10, marzo]</td>\n",
       "      <td>09:22</td>\n",
       "    </tr>\n",
       "    <tr>\n",
       "      <th>193576</th>\n",
       "      <td>RwandAir     WB 210</td>\n",
       "      <td>Brazzaville</td>\n",
       "      <td>Duala</td>\n",
       "      <td>[miercoles, 20, marzo]</td>\n",
       "      <td>21:20</td>\n",
       "      <td>[miercoles, 20, marzo]</td>\n",
       "      <td>23:40</td>\n",
       "    </tr>\n",
       "    <tr>\n",
       "      <th>119621</th>\n",
       "      <td>Delta</td>\n",
       "      <td>Orlando Intl</td>\n",
       "      <td>Atlanta</td>\n",
       "      <td>[viernes, 15, marzo]</td>\n",
       "      <td>06:35</td>\n",
       "      <td>[viernes, 15, marzo]</td>\n",
       "      <td>07:58</td>\n",
       "    </tr>\n",
       "    <tr>\n",
       "      <th>102748</th>\n",
       "      <td>China Southern</td>\n",
       "      <td>Urumchi</td>\n",
       "      <td>Taskent</td>\n",
       "      <td>[jueves, 14, marzo]</td>\n",
       "      <td>09:05</td>\n",
       "      <td>[jueves, 14, marzo]</td>\n",
       "      <td>12:10</td>\n",
       "    </tr>\n",
       "  </tbody>\n",
       "</table>\n",
       "</div>"
      ],
      "text/plain": [
       "                     aerolinea              origen           destino  \\\n",
       "150858          Korean Air          Seúl Incheon      Tokio Narita     \n",
       "28        Georgian Airways              Tel Aviv            Tiflis     \n",
       "13198             American           Los Ángeles             Miami     \n",
       "195968    Tianjin Airlines                 Xi'an           Tianjin     \n",
       "59170              Avianca                Bogotá              Cali     \n",
       "193567                 KLM             Rochester           Atlanta     \n",
       "19010             American        Chicago O'Hare            Wausau     \n",
       "193576   RwandAir     WB 210         Brazzaville             Duala     \n",
       "119621               Delta          Orlando Intl           Atlanta     \n",
       "102748      China Southern               Urumchi           Taskent     \n",
       "\n",
       "                  fecha_salida horario_salida           fecha_llegada  \\\n",
       "150858    [domingo, 17, marzo]          17:40    [domingo, 17, marzo]   \n",
       "28          [jueves, 7, marzo]          08:40      [jueves, 7, marzo]   \n",
       "13198       [sabado, 9, marzo]          17:05    [domingo, 10, marzo]   \n",
       "195968      [lunes, 18, marzo]          09:15      [lunes, 18, marzo]   \n",
       "59170      [jueves, 14, marzo]          09:45     [jueves, 14, marzo]   \n",
       "193567     [sabado, 16, marzo]          17:40     [sabado, 16, marzo]   \n",
       "19010     [domingo, 10, marzo]          08:19    [domingo, 10, marzo]   \n",
       "193576  [miercoles, 20, marzo]          21:20  [miercoles, 20, marzo]   \n",
       "119621    [viernes, 15, marzo]          06:35    [viernes, 15, marzo]   \n",
       "102748     [jueves, 14, marzo]          09:05     [jueves, 14, marzo]   \n",
       "\n",
       "       horario_llegada  \n",
       "150858           20:36  \n",
       "28               13:10  \n",
       "13198            19:00  \n",
       "195968           16:00  \n",
       "59170            11:05  \n",
       "193567           19:20  \n",
       "19010            09:22  \n",
       "193576           23:40  \n",
       "119621           07:58  \n",
       "102748           12:10  "
      ]
     },
     "execution_count": 3,
     "metadata": {},
     "output_type": "execute_result"
    }
   ],
   "source": [
    "info_vuelos = pd.read_csv('../csv/info_vuelos_final.csv')\n",
    "#info_vuelos = info_vuelos.drop(columns=['vuelo', 'terminal_salida', 'puerta_salida', 'terminal_llegada', 'puerta_llegada'])\n",
    "info_vuelos.sample(10)"
   ]
  },
  {
   "cell_type": "code",
   "execution_count": 4,
   "metadata": {},
   "outputs": [
    {
     "name": "stdout",
     "output_type": "stream",
     "text": [
      "<class 'pandas.core.frame.DataFrame'>\n",
      "RangeIndex: 181984 entries, 0 to 181983\n",
      "Data columns (total 9 columns):\n",
      "aerolinea               181984 non-null object\n",
      "origen                  181984 non-null object\n",
      "destino                 181984 non-null object\n",
      "hora_salida             181984 non-null object\n",
      "hora_llegada            181984 non-null object\n",
      "duracion                181984 non-null int64\n",
      "precio                  181984 non-null int64\n",
      "asientos_disponibles    181984 non-null int64\n",
      "days_flying             181984 non-null bool\n",
      "dtypes: bool(1), int64(3), object(5)\n",
      "memory usage: 11.3+ MB\n"
     ]
    }
   ],
   "source": [
    "info_vuelos.info()"
   ]
  },
  {
   "cell_type": "markdown",
   "metadata": {},
   "source": [
    "## Top 10: aerolíneas con mayor cantidad de vuelos en marzo"
   ]
  },
  {
   "cell_type": "code",
   "execution_count": 5,
   "metadata": {},
   "outputs": [
    {
     "name": "stderr",
     "output_type": "stream",
     "text": [
      "/home/rodrigo/.local/lib/python3.6/site-packages/pandas/plotting/_core.py:185: UserWarning: 'colors' is being deprecated. Please use 'color'instead of 'colors'\n",
      "  warnings.warn((\"'colors' is being deprecated. Please use 'color'\"\n"
     ]
    },
    {
     "data": {
      "text/plain": [
       "<matplotlib.axes._subplots.AxesSubplot at 0x7fe25d9c6940>"
      ]
     },
     "execution_count": 5,
     "metadata": {},
     "output_type": "execute_result"
    },
    {
     "data": {
      "image/png": "[encoded data removed]",
      "text/plain": [
       "<Figure size 432x288 with 1 Axes>"
      ]
     },
     "metadata": {
      "needs_background": "light"
     },
     "output_type": "display_data"
    }
   ],
   "source": [
    "info_vuelos['aerolinea'].value_counts().head(10).plot(kind='barh', colors=['b'])"
   ]
  },
  {
   "cell_type": "markdown",
   "metadata": {},
   "source": [
    "## Días y horarios de los vuelos"
   ]
  },
  {
   "cell_type": "code",
   "execution_count": 5,
   "metadata": {},
   "outputs": [],
   "source": [
    "import datetime\n",
    "\n",
    "def get_dayweek(string_day):\n",
    "    date_time_obj = datetime.datetime.strptime(string_day, \"%Y-%m-%dT%H:%M\")\n",
    "    day_number = date_time_obj.weekday()\n",
    "    #if(day_number == 0): return 'lunes'\n",
    "    #if(day_number == 1): return 'martes'\n",
    "    #if(day_number == 2): return 'miercoles'\n",
    "    #if(day_number == 3): return 'jueves'\n",
    "    #if(day_number == 4): return 'viernes'\n",
    "    #if(day_number == 5): return 'sabado'\n",
    "    #if(day_number == 6): return 'domingo'\n",
    "    return day_number\n",
    "    \n",
    "def get_hour(string_day):\n",
    "    date_time_obj = datetime.datetime.strptime(string_day, \"%Y-%m-%dT%H:%M\")\n",
    "    return date_time_obj.hour"
   ]
  },
  {
   "cell_type": "code",
   "execution_count": 6,
   "metadata": {},
   "outputs": [],
   "source": [
    "def complet_heatmap_matrix(values):\n",
    "    heatmap = np.zeros((24, 7))\n",
    "    for x in values:\n",
    "        heatmap[x[1]][x[0]] += 1\n",
    "    return heatmap\n",
    "#complet_heatmap_matrix(values)"
   ]
  },
  {
   "cell_type": "code",
   "execution_count": 9,
   "metadata": {},
   "outputs": [
    {
     "data": {
      "text/html": [
       "<div>\n",
       "<style scoped>\n",
       "    .dataframe tbody tr th:only-of-type {\n",
       "        vertical-align: middle;\n",
       "    }\n",
       "\n",
       "    .dataframe tbody tr th {\n",
       "        vertical-align: top;\n",
       "    }\n",
       "\n",
       "    .dataframe thead th {\n",
       "        text-align: right;\n",
       "    }\n",
       "</style>\n",
       "<table border=\"1\" class=\"dataframe\">\n",
       "  <thead>\n",
       "    <tr style=\"text-align: right;\">\n",
       "      <th></th>\n",
       "      <th>domingo</th>\n",
       "      <th>jueves</th>\n",
       "      <th>lunes</th>\n",
       "      <th>martes</th>\n",
       "      <th>miercoles</th>\n",
       "      <th>sabado</th>\n",
       "      <th>viernes</th>\n",
       "    </tr>\n",
       "    <tr>\n",
       "      <th>hora</th>\n",
       "      <th></th>\n",
       "      <th></th>\n",
       "      <th></th>\n",
       "      <th></th>\n",
       "      <th></th>\n",
       "      <th></th>\n",
       "      <th></th>\n",
       "    </tr>\n",
       "  </thead>\n",
       "  <tbody>\n",
       "    <tr>\n",
       "      <th>00</th>\n",
       "      <td>282</td>\n",
       "      <td>403</td>\n",
       "      <td>167</td>\n",
       "      <td>340</td>\n",
       "      <td>326</td>\n",
       "      <td>232</td>\n",
       "      <td>392</td>\n",
       "    </tr>\n",
       "    <tr>\n",
       "      <th>01</th>\n",
       "      <td>241</td>\n",
       "      <td>367</td>\n",
       "      <td>178</td>\n",
       "      <td>269</td>\n",
       "      <td>254</td>\n",
       "      <td>164</td>\n",
       "      <td>266</td>\n",
       "    </tr>\n",
       "    <tr>\n",
       "      <th>02</th>\n",
       "      <td>198</td>\n",
       "      <td>322</td>\n",
       "      <td>114</td>\n",
       "      <td>259</td>\n",
       "      <td>259</td>\n",
       "      <td>149</td>\n",
       "      <td>296</td>\n",
       "    </tr>\n",
       "    <tr>\n",
       "      <th>03</th>\n",
       "      <td>123</td>\n",
       "      <td>216</td>\n",
       "      <td>66</td>\n",
       "      <td>146</td>\n",
       "      <td>163</td>\n",
       "      <td>107</td>\n",
       "      <td>201</td>\n",
       "    </tr>\n",
       "    <tr>\n",
       "      <th>04</th>\n",
       "      <td>149</td>\n",
       "      <td>312</td>\n",
       "      <td>101</td>\n",
       "      <td>196</td>\n",
       "      <td>198</td>\n",
       "      <td>116</td>\n",
       "      <td>273</td>\n",
       "    </tr>\n",
       "    <tr>\n",
       "      <th>05</th>\n",
       "      <td>801</td>\n",
       "      <td>1388</td>\n",
       "      <td>386</td>\n",
       "      <td>709</td>\n",
       "      <td>776</td>\n",
       "      <td>673</td>\n",
       "      <td>1206</td>\n",
       "    </tr>\n",
       "    <tr>\n",
       "      <th>06</th>\n",
       "      <td>2279</td>\n",
       "      <td>3553</td>\n",
       "      <td>1444</td>\n",
       "      <td>2393</td>\n",
       "      <td>2554</td>\n",
       "      <td>1798</td>\n",
       "      <td>3289</td>\n",
       "    </tr>\n",
       "    <tr>\n",
       "      <th>07</th>\n",
       "      <td>2710</td>\n",
       "      <td>4196</td>\n",
       "      <td>1847</td>\n",
       "      <td>3057</td>\n",
       "      <td>3195</td>\n",
       "      <td>2103</td>\n",
       "      <td>3641</td>\n",
       "    </tr>\n",
       "    <tr>\n",
       "      <th>08</th>\n",
       "      <td>2848</td>\n",
       "      <td>4462</td>\n",
       "      <td>1850</td>\n",
       "      <td>3158</td>\n",
       "      <td>3305</td>\n",
       "      <td>2147</td>\n",
       "      <td>3653</td>\n",
       "    </tr>\n",
       "    <tr>\n",
       "      <th>09</th>\n",
       "      <td>2759</td>\n",
       "      <td>4395</td>\n",
       "      <td>1852</td>\n",
       "      <td>2977</td>\n",
       "      <td>3400</td>\n",
       "      <td>2165</td>\n",
       "      <td>3773</td>\n",
       "    </tr>\n",
       "    <tr>\n",
       "      <th>10</th>\n",
       "      <td>2754</td>\n",
       "      <td>4507</td>\n",
       "      <td>1781</td>\n",
       "      <td>2927</td>\n",
       "      <td>3228</td>\n",
       "      <td>2124</td>\n",
       "      <td>3756</td>\n",
       "    </tr>\n",
       "    <tr>\n",
       "      <th>11</th>\n",
       "      <td>2650</td>\n",
       "      <td>4043</td>\n",
       "      <td>1682</td>\n",
       "      <td>2814</td>\n",
       "      <td>3054</td>\n",
       "      <td>1980</td>\n",
       "      <td>3506</td>\n",
       "    </tr>\n",
       "    <tr>\n",
       "      <th>12</th>\n",
       "      <td>2862</td>\n",
       "      <td>4363</td>\n",
       "      <td>1789</td>\n",
       "      <td>2956</td>\n",
       "      <td>3166</td>\n",
       "      <td>2110</td>\n",
       "      <td>3623</td>\n",
       "    </tr>\n",
       "    <tr>\n",
       "      <th>13</th>\n",
       "      <td>2683</td>\n",
       "      <td>4111</td>\n",
       "      <td>1707</td>\n",
       "      <td>2692</td>\n",
       "      <td>2929</td>\n",
       "      <td>2051</td>\n",
       "      <td>3428</td>\n",
       "    </tr>\n",
       "    <tr>\n",
       "      <th>14</th>\n",
       "      <td>2740</td>\n",
       "      <td>4127</td>\n",
       "      <td>1752</td>\n",
       "      <td>2704</td>\n",
       "      <td>2965</td>\n",
       "      <td>2032</td>\n",
       "      <td>3399</td>\n",
       "    </tr>\n",
       "    <tr>\n",
       "      <th>15</th>\n",
       "      <td>2808</td>\n",
       "      <td>4204</td>\n",
       "      <td>1789</td>\n",
       "      <td>2892</td>\n",
       "      <td>3011</td>\n",
       "      <td>2038</td>\n",
       "      <td>3509</td>\n",
       "    </tr>\n",
       "    <tr>\n",
       "      <th>16</th>\n",
       "      <td>2793</td>\n",
       "      <td>4292</td>\n",
       "      <td>1798</td>\n",
       "      <td>2877</td>\n",
       "      <td>3062</td>\n",
       "      <td>2038</td>\n",
       "      <td>3578</td>\n",
       "    </tr>\n",
       "    <tr>\n",
       "      <th>17</th>\n",
       "      <td>2949</td>\n",
       "      <td>4649</td>\n",
       "      <td>1911</td>\n",
       "      <td>3120</td>\n",
       "      <td>3314</td>\n",
       "      <td>2222</td>\n",
       "      <td>4008</td>\n",
       "    </tr>\n",
       "    <tr>\n",
       "      <th>18</th>\n",
       "      <td>2910</td>\n",
       "      <td>4273</td>\n",
       "      <td>1884</td>\n",
       "      <td>2893</td>\n",
       "      <td>3134</td>\n",
       "      <td>2189</td>\n",
       "      <td>3508</td>\n",
       "    </tr>\n",
       "    <tr>\n",
       "      <th>19</th>\n",
       "      <td>2510</td>\n",
       "      <td>3886</td>\n",
       "      <td>1752</td>\n",
       "      <td>2798</td>\n",
       "      <td>2940</td>\n",
       "      <td>1839</td>\n",
       "      <td>3359</td>\n",
       "    </tr>\n",
       "    <tr>\n",
       "      <th>20</th>\n",
       "      <td>2370</td>\n",
       "      <td>3684</td>\n",
       "      <td>1536</td>\n",
       "      <td>2476</td>\n",
       "      <td>2658</td>\n",
       "      <td>1783</td>\n",
       "      <td>3171</td>\n",
       "    </tr>\n",
       "    <tr>\n",
       "      <th>21</th>\n",
       "      <td>1742</td>\n",
       "      <td>2883</td>\n",
       "      <td>1205</td>\n",
       "      <td>2032</td>\n",
       "      <td>2028</td>\n",
       "      <td>1318</td>\n",
       "      <td>2361</td>\n",
       "    </tr>\n",
       "    <tr>\n",
       "      <th>22</th>\n",
       "      <td>1235</td>\n",
       "      <td>2059</td>\n",
       "      <td>782</td>\n",
       "      <td>1267</td>\n",
       "      <td>1365</td>\n",
       "      <td>870</td>\n",
       "      <td>1658</td>\n",
       "    </tr>\n",
       "    <tr>\n",
       "      <th>23</th>\n",
       "      <td>697</td>\n",
       "      <td>1113</td>\n",
       "      <td>414</td>\n",
       "      <td>787</td>\n",
       "      <td>801</td>\n",
       "      <td>557</td>\n",
       "      <td>953</td>\n",
       "    </tr>\n",
       "  </tbody>\n",
       "</table>\n",
       "</div>"
      ],
      "text/plain": [
       "      domingo  jueves  lunes  martes  miercoles  sabado  viernes\n",
       "hora                                                            \n",
       "00        282     403    167     340        326     232      392\n",
       "01        241     367    178     269        254     164      266\n",
       "02        198     322    114     259        259     149      296\n",
       "03        123     216     66     146        163     107      201\n",
       "04        149     312    101     196        198     116      273\n",
       "05        801    1388    386     709        776     673     1206\n",
       "06       2279    3553   1444    2393       2554    1798     3289\n",
       "07       2710    4196   1847    3057       3195    2103     3641\n",
       "08       2848    4462   1850    3158       3305    2147     3653\n",
       "09       2759    4395   1852    2977       3400    2165     3773\n",
       "10       2754    4507   1781    2927       3228    2124     3756\n",
       "11       2650    4043   1682    2814       3054    1980     3506\n",
       "12       2862    4363   1789    2956       3166    2110     3623\n",
       "13       2683    4111   1707    2692       2929    2051     3428\n",
       "14       2740    4127   1752    2704       2965    2032     3399\n",
       "15       2808    4204   1789    2892       3011    2038     3509\n",
       "16       2793    4292   1798    2877       3062    2038     3578\n",
       "17       2949    4649   1911    3120       3314    2222     4008\n",
       "18       2910    4273   1884    2893       3134    2189     3508\n",
       "19       2510    3886   1752    2798       2940    1839     3359\n",
       "20       2370    3684   1536    2476       2658    1783     3171\n",
       "21       1742    2883   1205    2032       2028    1318     2361\n",
       "22       1235    2059    782    1267       1365     870     1658\n",
       "23        697    1113    414     787        801     557      953"
      ]
     },
     "execution_count": 9,
     "metadata": {},
     "output_type": "execute_result"
    }
   ],
   "source": [
    "dias = info_vuelos['fecha_salida'].apply(lambda row: row[0]).tolist()\n",
    "hora = info_vuelos['horario_salida'].apply(lambda row: row.split(':')[0]).tolist()\n",
    "d = {'dias': dias, 'hora': hora}\n",
    "d = pd.DataFrame(data=d)\n",
    "d = pd.get_dummies(d.dias).groupby(d.hora).apply(sum)\n",
    "d"
   ]
  },
  {
   "cell_type": "code",
   "execution_count": 40,
   "metadata": {},
   "outputs": [
    {
     "data": {
      "image/png": "[encoded data removed]",
      "text/plain": [
       "<Figure size 576x576 with 2 Axes>"
      ]
     },
     "metadata": {
      "needs_background": "light"
     },
     "output_type": "display_data"
    }
   ],
   "source": [
    "#dias = info_vuelos['fecha_salida'].apply(lambda row: row[0]).tolist()\n",
    "#hora = info_vuelos['horario_salida'].apply(lambda row: row.split(':')[0]).tolist()\n",
    "#d = {'dias': dias, 'hora': hora}\n",
    "#d = pd.DataFrame(data=d)\n",
    "#d = pd.get_dummies(d.dias).groupby(d.hora).apply(sum)\n",
    "#d = d[['lunes', 'martes', 'miercoles', 'jueves', 'viernes', 'sabado', 'domingo']]\n",
    "values = info_vuelos['hora_salida'].apply(lambda row: (get_dayweek(row), get_hour(row))).tolist()\n",
    "fig, ax = plt.subplots(figsize=(8, 8))\n",
    "ax = sns.heatmap(complet_heatmap_matrix(values), cmap=\"YlGnBu\", yticklabels=True)\n",
    "ax.invert_yaxis()\n",
    "ax.set(xlabel='Dias', ylabel='Horas')\n",
    "ax.set_xticklabels(['lunes', 'martes', 'miercoles', 'jueves', 'viernes', 'sabado', 'domingo'], rotation=30)\n",
    "ax.set_yticklabels(ax.get_yticklabels(), rotation=0)\n",
    "plt.show()"
   ]
  },
  {
   "cell_type": "markdown",
   "metadata": {},
   "source": [
    "## Destinos más frecuentes"
   ]
  },
  {
   "cell_type": "code",
   "execution_count": 20,
   "metadata": {},
   "outputs": [
    {
     "data": {
      "image/png": "[encoded data removed]",
      "text/plain": [
       "<Figure size 432x288 with 1 Axes>"
      ]
     },
     "metadata": {
      "needs_background": "light"
     },
     "output_type": "display_data"
    }
   ],
   "source": [
    "d = info_vuelos['destino'].apply(lambda destino: destino.replace(\" \", \"\")).tolist()\n",
    "text = \" \".join(d)\n",
    "wordcloud = WordCloud().generate(text)\n",
    "wordcloud = WordCloud(background_color=\"black\", collocations=False).generate(text)\n",
    "plt.figure()\n",
    "plt.imshow(wordcloud)\n",
    "plt.axis(\"off\")\n",
    "plt.show()"
   ]
  },
  {
   "cell_type": "markdown",
   "metadata": {},
   "source": [
    "## GeoMapas"
   ]
  },
  {
   "cell_type": "code",
   "execution_count": 2,
   "metadata": {},
   "outputs": [],
   "source": [
    "import geopandas as gpd"
   ]
  },
  {
   "cell_type": "code",
   "execution_count": 3,
   "metadata": {},
   "outputs": [],
   "source": [
    "from shapely.geometry import Point, Polygon"
   ]
  },
  {
   "cell_type": "code",
   "execution_count": 6,
   "metadata": {},
   "outputs": [],
   "source": [
    "import matplotlib.pyplot as plt\n",
    "%matplotlib inline"
   ]
  },
  {
   "cell_type": "code",
   "execution_count": 9,
   "metadata": {},
   "outputs": [],
   "source": [
    "airports_map = gpd.read_file('airports_shape/TM_WORLD_BORDERS-0.3.shp')"
   ]
  },
  {
   "cell_type": "code",
   "execution_count": 10,
   "metadata": {},
   "outputs": [
    {
     "ename": "ImportError",
     "evalue": "The descartes package is required for plotting polygons in geopandas.",
     "output_type": "error",
     "traceback": [
      "\u001b[0;31m---------------------------------------------------------------------------\u001b[0m",
      "\u001b[0;31mModuleNotFoundError\u001b[0m                       Traceback (most recent call last)",
      "\u001b[0;32m~/.local/lib/python3.6/site-packages/geopandas/plotting.py\u001b[0m in \u001b[0;36mplot_polygon_collection\u001b[0;34m(ax, geoms, values, color, cmap, vmin, vmax, **kwargs)\u001b[0m\n\u001b[1;32m     84\u001b[0m     \u001b[0;32mtry\u001b[0m\u001b[0;34m:\u001b[0m\u001b[0;34m\u001b[0m\u001b[0;34m\u001b[0m\u001b[0m\n\u001b[0;32m---> 85\u001b[0;31m         \u001b[0;32mfrom\u001b[0m \u001b[0mdescartes\u001b[0m\u001b[0;34m.\u001b[0m\u001b[0mpatch\u001b[0m \u001b[0;32mimport\u001b[0m \u001b[0mPolygonPatch\u001b[0m\u001b[0;34m\u001b[0m\u001b[0;34m\u001b[0m\u001b[0m\n\u001b[0m\u001b[1;32m     86\u001b[0m     \u001b[0;32mexcept\u001b[0m \u001b[0mImportError\u001b[0m\u001b[0;34m:\u001b[0m\u001b[0;34m\u001b[0m\u001b[0;34m\u001b[0m\u001b[0m\n",
      "\u001b[0;31mModuleNotFoundError\u001b[0m: No module named 'descartes'",
      "\nDuring handling of the above exception, another exception occurred:\n",
      "\u001b[0;31mImportError\u001b[0m                               Traceback (most recent call last)",
      "\u001b[0;32m<ipython-input-10-0199a667352d>\u001b[0m in \u001b[0;36m<module>\u001b[0;34m\u001b[0m\n\u001b[1;32m      1\u001b[0m \u001b[0mfig\u001b[0m\u001b[0;34m,\u001b[0m \u001b[0max\u001b[0m \u001b[0;34m=\u001b[0m \u001b[0mplt\u001b[0m\u001b[0;34m.\u001b[0m\u001b[0msubplots\u001b[0m\u001b[0;34m(\u001b[0m\u001b[0mfigsize\u001b[0m\u001b[0;34m=\u001b[0m\u001b[0;34m(\u001b[0m\u001b[0;36m15\u001b[0m\u001b[0;34m,\u001b[0m\u001b[0;36m15\u001b[0m\u001b[0;34m)\u001b[0m\u001b[0;34m)\u001b[0m\u001b[0;34m\u001b[0m\u001b[0;34m\u001b[0m\u001b[0m\n\u001b[0;32m----> 2\u001b[0;31m \u001b[0mairports_map\u001b[0m\u001b[0;34m.\u001b[0m\u001b[0mplot\u001b[0m\u001b[0;34m(\u001b[0m\u001b[0max\u001b[0m \u001b[0;34m=\u001b[0m \u001b[0max\u001b[0m\u001b[0;34m)\u001b[0m\u001b[0;34m\u001b[0m\u001b[0;34m\u001b[0m\u001b[0m\n\u001b[0m",
      "\u001b[0;32m~/.local/lib/python3.6/site-packages/geopandas/geodataframe.py\u001b[0m in \u001b[0;36mplot\u001b[0;34m(self, *args, **kwargs)\u001b[0m\n\u001b[1;32m    548\u001b[0m         \u001b[0;32mfrom\u001b[0m \u001b[0mthere\u001b[0m\u001b[0;34m.\u001b[0m\u001b[0;34m\u001b[0m\u001b[0;34m\u001b[0m\u001b[0m\n\u001b[1;32m    549\u001b[0m         \"\"\"\n\u001b[0;32m--> 550\u001b[0;31m         \u001b[0;32mreturn\u001b[0m \u001b[0mplot_dataframe\u001b[0m\u001b[0;34m(\u001b[0m\u001b[0mself\u001b[0m\u001b[0;34m,\u001b[0m \u001b[0;34m*\u001b[0m\u001b[0margs\u001b[0m\u001b[0;34m,\u001b[0m \u001b[0;34m**\u001b[0m\u001b[0mkwargs\u001b[0m\u001b[0;34m)\u001b[0m\u001b[0;34m\u001b[0m\u001b[0;34m\u001b[0m\u001b[0m\n\u001b[0m\u001b[1;32m    551\u001b[0m \u001b[0;34m\u001b[0m\u001b[0m\n\u001b[1;32m    552\u001b[0m     \u001b[0mplot\u001b[0m\u001b[0;34m.\u001b[0m\u001b[0m__doc__\u001b[0m \u001b[0;34m=\u001b[0m \u001b[0mplot_dataframe\u001b[0m\u001b[0;34m.\u001b[0m\u001b[0m__doc__\u001b[0m\u001b[0;34m\u001b[0m\u001b[0;34m\u001b[0m\u001b[0m\n",
      "\u001b[0;32m~/.local/lib/python3.6/site-packages/geopandas/plotting.py\u001b[0m in \u001b[0;36mplot_dataframe\u001b[0;34m(df, column, cmap, color, ax, cax, categorical, legend, scheme, k, vmin, vmax, markersize, figsize, legend_kwds, classification_kwds, **style_kwds)\u001b[0m\n\u001b[1;32m    425\u001b[0m         return plot_series(df.geometry, cmap=cmap, color=color, ax=ax,\n\u001b[1;32m    426\u001b[0m                            \u001b[0mfigsize\u001b[0m\u001b[0;34m=\u001b[0m\u001b[0mfigsize\u001b[0m\u001b[0;34m,\u001b[0m \u001b[0mmarkersize\u001b[0m\u001b[0;34m=\u001b[0m\u001b[0mmarkersize\u001b[0m\u001b[0;34m,\u001b[0m\u001b[0;34m\u001b[0m\u001b[0;34m\u001b[0m\u001b[0m\n\u001b[0;32m--> 427\u001b[0;31m                            **style_kwds)\n\u001b[0m\u001b[1;32m    428\u001b[0m \u001b[0;34m\u001b[0m\u001b[0m\n\u001b[1;32m    429\u001b[0m     \u001b[0;31m# To accept pd.Series and np.arrays as column\u001b[0m\u001b[0;34m\u001b[0m\u001b[0;34m\u001b[0m\u001b[0;34m\u001b[0m\u001b[0m\n",
      "\u001b[0;32m~/.local/lib/python3.6/site-packages/geopandas/plotting.py\u001b[0m in \u001b[0;36mplot_series\u001b[0;34m(s, cmap, color, ax, figsize, **style_kwds)\u001b[0m\n\u001b[1;32m    295\u001b[0m         \u001b[0mvalues_\u001b[0m \u001b[0;34m=\u001b[0m \u001b[0mvalues\u001b[0m\u001b[0;34m[\u001b[0m\u001b[0mpoly_idx\u001b[0m\u001b[0;34m]\u001b[0m \u001b[0;32mif\u001b[0m \u001b[0mcmap\u001b[0m \u001b[0;32melse\u001b[0m \u001b[0;32mNone\u001b[0m\u001b[0;34m\u001b[0m\u001b[0;34m\u001b[0m\u001b[0m\n\u001b[1;32m    296\u001b[0m         plot_polygon_collection(ax, polys, values_, facecolor=facecolor,\n\u001b[0;32m--> 297\u001b[0;31m                                 cmap=cmap, **style_kwds)\n\u001b[0m\u001b[1;32m    298\u001b[0m \u001b[0;34m\u001b[0m\u001b[0m\n\u001b[1;32m    299\u001b[0m     \u001b[0;31m# plot all LineStrings and MultiLineString components in same collection\u001b[0m\u001b[0;34m\u001b[0m\u001b[0;34m\u001b[0m\u001b[0;34m\u001b[0m\u001b[0m\n",
      "\u001b[0;32m~/.local/lib/python3.6/site-packages/geopandas/plotting.py\u001b[0m in \u001b[0;36mplot_polygon_collection\u001b[0;34m(ax, geoms, values, color, cmap, vmin, vmax, **kwargs)\u001b[0m\n\u001b[1;32m     85\u001b[0m         \u001b[0;32mfrom\u001b[0m \u001b[0mdescartes\u001b[0m\u001b[0;34m.\u001b[0m\u001b[0mpatch\u001b[0m \u001b[0;32mimport\u001b[0m \u001b[0mPolygonPatch\u001b[0m\u001b[0;34m\u001b[0m\u001b[0;34m\u001b[0m\u001b[0m\n\u001b[1;32m     86\u001b[0m     \u001b[0;32mexcept\u001b[0m \u001b[0mImportError\u001b[0m\u001b[0;34m:\u001b[0m\u001b[0;34m\u001b[0m\u001b[0;34m\u001b[0m\u001b[0m\n\u001b[0;32m---> 87\u001b[0;31m         raise ImportError(\"The descartes package is required\"\n\u001b[0m\u001b[1;32m     88\u001b[0m                           \" for plotting polygons in geopandas.\")\n\u001b[1;32m     89\u001b[0m     \u001b[0;32mfrom\u001b[0m \u001b[0mmatplotlib\u001b[0m\u001b[0;34m.\u001b[0m\u001b[0mcollections\u001b[0m \u001b[0;32mimport\u001b[0m \u001b[0mPatchCollection\u001b[0m\u001b[0;34m\u001b[0m\u001b[0;34m\u001b[0m\u001b[0m\n",
      "\u001b[0;31mImportError\u001b[0m: The descartes package is required for plotting polygons in geopandas."
     ]
    },
    {
     "data": {
      "image/png": "[encoded data removed]",
      "text/plain": [
       "<Figure size 1080x1080 with 1 Axes>"
      ]
     },
     "metadata": {
      "needs_background": "light"
     },
     "output_type": "display_data"
    }
   ],
   "source": [
    "fig, ax = plt.subplots(figsize=(15,15))\n",
    "airports_map.plot(ax = ax)"
   ]
  },
  {
   "cell_type": "code",
   "execution_count": null,
   "metadata": {},
   "outputs": [],
   "source": []
  }
 ],
 "metadata": {
  "kernelspec": {
   "display_name": "Python 3",
   "language": "python",
   "name": "python3"
  },
  "language_info": {
   "codemirror_mode": {
    "name": "ipython",
    "version": 3
   },
   "file_extension": ".py",
   "mimetype": "text/x-python",
   "name": "python",
   "nbconvert_exporter": "python",
   "pygments_lexer": "ipython3",
   "version": "3.6.7"
  }
 },
 "nbformat": 4,
 "nbformat_minor": 2
}
