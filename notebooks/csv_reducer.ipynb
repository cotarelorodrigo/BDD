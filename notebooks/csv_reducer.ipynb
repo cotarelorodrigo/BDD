{
 "cells": [
  {
   "cell_type": "markdown",
   "metadata": {},
   "source": [
    "# CSV Reducer"
   ]
  },
  {
   "cell_type": "markdown",
   "metadata": {},
   "source": [
    "## Intención de este notebook"
   ]
  },
  {
   "cell_type": "markdown",
   "metadata": {},
   "source": [
    "Tomar el CSV final generado en csv_generator e instanciarlo durante 10 días a partir de la fecha actual, reduciendo la cantidad de vuelos con el par origen-destino repetido."
   ]
  },
  {
   "cell_type": "markdown",
   "metadata": {},
   "source": [
    "## Importación de librerías"
   ]
  },
  {
   "cell_type": "code",
   "execution_count": 1,
   "metadata": {},
   "outputs": [],
   "source": [
    "import pandas as pd\n",
    "import datetime"
   ]
  },
  {
   "cell_type": "markdown",
   "metadata": {},
   "source": [
    "## Procesamiento de los datos"
   ]
  },
  {
   "cell_type": "markdown",
   "metadata": {},
   "source": [
    "### Carga del archivo csv"
   ]
  },
  {
   "cell_type": "code",
   "execution_count": 2,
   "metadata": {},
   "outputs": [
    {
     "data": {
      "text/html": [
       "<div>\n",
       "<style scoped>\n",
       "    .dataframe tbody tr th:only-of-type {\n",
       "        vertical-align: middle;\n",
       "    }\n",
       "\n",
       "    .dataframe tbody tr th {\n",
       "        vertical-align: top;\n",
       "    }\n",
       "\n",
       "    .dataframe thead th {\n",
       "        text-align: right;\n",
       "    }\n",
       "</style>\n",
       "<table border=\"1\" class=\"dataframe\">\n",
       "  <thead>\n",
       "    <tr style=\"text-align: right;\">\n",
       "      <th></th>\n",
       "      <th>aerolinea</th>\n",
       "      <th>origen</th>\n",
       "      <th>destino</th>\n",
       "      <th>hora_salida</th>\n",
       "      <th>hora_llegada</th>\n",
       "      <th>duracion</th>\n",
       "      <th>precio</th>\n",
       "      <th>asientos_disponibles</th>\n",
       "    </tr>\n",
       "  </thead>\n",
       "  <tbody>\n",
       "    <tr>\n",
       "      <th>0</th>\n",
       "      <td>American</td>\n",
       "      <td>Allentown</td>\n",
       "      <td>Charlotte</td>\n",
       "      <td>2019-03-07T06:03</td>\n",
       "      <td>2019-03-07T08:58</td>\n",
       "      <td>175</td>\n",
       "      <td>577</td>\n",
       "      <td>0</td>\n",
       "    </tr>\n",
       "    <tr>\n",
       "      <th>1</th>\n",
       "      <td>American</td>\n",
       "      <td>Allentown</td>\n",
       "      <td>Charlotte</td>\n",
       "      <td>2019-03-07T11:26</td>\n",
       "      <td>2019-03-07T13:31</td>\n",
       "      <td>125</td>\n",
       "      <td>577</td>\n",
       "      <td>2</td>\n",
       "    </tr>\n",
       "    <tr>\n",
       "      <th>2</th>\n",
       "      <td>American</td>\n",
       "      <td>Allentown</td>\n",
       "      <td>Charlotte</td>\n",
       "      <td>2019-03-07T18:43</td>\n",
       "      <td>2019-03-07T20:55</td>\n",
       "      <td>132</td>\n",
       "      <td>577</td>\n",
       "      <td>1</td>\n",
       "    </tr>\n",
       "    <tr>\n",
       "      <th>3</th>\n",
       "      <td>American</td>\n",
       "      <td>Allentown</td>\n",
       "      <td>Charlotte</td>\n",
       "      <td>2019-03-08T06:07</td>\n",
       "      <td>2019-03-08T08:31</td>\n",
       "      <td>144</td>\n",
       "      <td>577</td>\n",
       "      <td>2</td>\n",
       "    </tr>\n",
       "    <tr>\n",
       "      <th>4</th>\n",
       "      <td>American</td>\n",
       "      <td>Allentown</td>\n",
       "      <td>Charlotte</td>\n",
       "      <td>2019-03-08T11:37</td>\n",
       "      <td>2019-03-08T13:44</td>\n",
       "      <td>127</td>\n",
       "      <td>577</td>\n",
       "      <td>1</td>\n",
       "    </tr>\n",
       "    <tr>\n",
       "      <th>5</th>\n",
       "      <td>American</td>\n",
       "      <td>Allentown</td>\n",
       "      <td>Charlotte</td>\n",
       "      <td>2019-03-08T18:50</td>\n",
       "      <td>2019-03-08T21:00</td>\n",
       "      <td>130</td>\n",
       "      <td>577</td>\n",
       "      <td>3</td>\n",
       "    </tr>\n",
       "    <tr>\n",
       "      <th>6</th>\n",
       "      <td>American</td>\n",
       "      <td>Allentown</td>\n",
       "      <td>Charlotte</td>\n",
       "      <td>2019-03-09T06:12</td>\n",
       "      <td>2019-03-09T08:24</td>\n",
       "      <td>132</td>\n",
       "      <td>577</td>\n",
       "      <td>0</td>\n",
       "    </tr>\n",
       "    <tr>\n",
       "      <th>7</th>\n",
       "      <td>American</td>\n",
       "      <td>Allentown</td>\n",
       "      <td>Charlotte</td>\n",
       "      <td>2019-03-09T11:37</td>\n",
       "      <td>2019-03-09T13:44</td>\n",
       "      <td>127</td>\n",
       "      <td>577</td>\n",
       "      <td>3</td>\n",
       "    </tr>\n",
       "    <tr>\n",
       "      <th>8</th>\n",
       "      <td>American</td>\n",
       "      <td>Allentown</td>\n",
       "      <td>Charlotte</td>\n",
       "      <td>2019-03-09T18:50</td>\n",
       "      <td>2019-03-09T21:00</td>\n",
       "      <td>130</td>\n",
       "      <td>577</td>\n",
       "      <td>1</td>\n",
       "    </tr>\n",
       "    <tr>\n",
       "      <th>9</th>\n",
       "      <td>American</td>\n",
       "      <td>Allentown</td>\n",
       "      <td>Charlotte</td>\n",
       "      <td>2019-03-10T06:12</td>\n",
       "      <td>2019-03-10T08:24</td>\n",
       "      <td>132</td>\n",
       "      <td>577</td>\n",
       "      <td>3</td>\n",
       "    </tr>\n",
       "  </tbody>\n",
       "</table>\n",
       "</div>"
      ],
      "text/plain": [
       "  aerolinea     origen    destino       hora_salida      hora_llegada  \\\n",
       "0  American  Allentown  Charlotte  2019-03-07T06:03  2019-03-07T08:58   \n",
       "1  American  Allentown  Charlotte  2019-03-07T11:26  2019-03-07T13:31   \n",
       "2  American  Allentown  Charlotte  2019-03-07T18:43  2019-03-07T20:55   \n",
       "3  American  Allentown  Charlotte  2019-03-08T06:07  2019-03-08T08:31   \n",
       "4  American  Allentown  Charlotte  2019-03-08T11:37  2019-03-08T13:44   \n",
       "5  American  Allentown  Charlotte  2019-03-08T18:50  2019-03-08T21:00   \n",
       "6  American  Allentown  Charlotte  2019-03-09T06:12  2019-03-09T08:24   \n",
       "7  American  Allentown  Charlotte  2019-03-09T11:37  2019-03-09T13:44   \n",
       "8  American  Allentown  Charlotte  2019-03-09T18:50  2019-03-09T21:00   \n",
       "9  American  Allentown  Charlotte  2019-03-10T06:12  2019-03-10T08:24   \n",
       "\n",
       "   duracion  precio  asientos_disponibles  \n",
       "0       175     577                     0  \n",
       "1       125     577                     2  \n",
       "2       132     577                     1  \n",
       "3       144     577                     2  \n",
       "4       127     577                     1  \n",
       "5       130     577                     3  \n",
       "6       132     577                     0  \n",
       "7       127     577                     3  \n",
       "8       130     577                     1  \n",
       "9       132     577                     3  "
      ]
     },
     "execution_count": 2,
     "metadata": {},
     "output_type": "execute_result"
    }
   ],
   "source": [
    "info_vuelos = pd.read_csv('../csv/info_vuelos.csv')\n",
    "info_vuelos.head(10)"
   ]
  },
  {
   "cell_type": "markdown",
   "metadata": {},
   "source": [
    "### Vuelos con distinto par origen-destino"
   ]
  },
  {
   "cell_type": "markdown",
   "metadata": {},
   "source": [
    "Considerando la cantidad de vuelos repetidos con una diferencia mínima de horario, decidimos tomar un máximo de 5 vuelos con el mismo par origen-destino"
   ]
  },
  {
   "cell_type": "code",
   "execution_count": 3,
   "metadata": {},
   "outputs": [
    {
     "data": {
      "text/plain": [
       "'Cantidad de vuelos diferentes: 3655'"
      ]
     },
     "execution_count": 3,
     "metadata": {},
     "output_type": "execute_result"
    }
   ],
   "source": [
    "\"Cantidad de vuelos diferentes: {}\".format(len(info_vuelos.groupby(by=['origen', 'destino'])))"
   ]
  },
  {
   "cell_type": "code",
   "execution_count": 4,
   "metadata": {},
   "outputs": [
    {
     "data": {
      "text/html": [
       "<div>\n",
       "<style scoped>\n",
       "    .dataframe tbody tr th:only-of-type {\n",
       "        vertical-align: middle;\n",
       "    }\n",
       "\n",
       "    .dataframe tbody tr th {\n",
       "        vertical-align: top;\n",
       "    }\n",
       "\n",
       "    .dataframe thead th {\n",
       "        text-align: right;\n",
       "    }\n",
       "</style>\n",
       "<table border=\"1\" class=\"dataframe\">\n",
       "  <thead>\n",
       "    <tr style=\"text-align: right;\">\n",
       "      <th></th>\n",
       "      <th>aerolinea</th>\n",
       "      <th>origen</th>\n",
       "      <th>destino</th>\n",
       "      <th>hora_salida</th>\n",
       "      <th>hora_llegada</th>\n",
       "      <th>duracion</th>\n",
       "      <th>precio</th>\n",
       "      <th>asientos_disponibles</th>\n",
       "    </tr>\n",
       "  </thead>\n",
       "  <tbody>\n",
       "    <tr>\n",
       "      <th>103786</th>\n",
       "      <td>British Airways</td>\n",
       "      <td>Aalborg</td>\n",
       "      <td>Aarhus</td>\n",
       "      <td>2019-03-11T17:37</td>\n",
       "      <td>2019-03-11T19:15</td>\n",
       "      <td>98</td>\n",
       "      <td>559</td>\n",
       "      <td>2</td>\n",
       "    </tr>\n",
       "  </tbody>\n",
       "</table>\n",
       "</div>"
      ],
      "text/plain": [
       "              aerolinea   origen destino       hora_salida      hora_llegada  \\\n",
       "103786  British Airways  Aalborg  Aarhus  2019-03-11T17:37  2019-03-11T19:15   \n",
       "\n",
       "        duracion  precio  asientos_disponibles  \n",
       "103786        98     559                     2  "
      ]
     },
     "metadata": {},
     "output_type": "display_data"
    }
   ],
   "source": [
    "for index, group in info_vuelos.groupby(by=['origen', 'destino']):\n",
    "    display(group.head(1))\n",
    "    break"
   ]
  },
  {
   "cell_type": "code",
   "execution_count": 5,
   "metadata": {},
   "outputs": [],
   "source": [
    "nuevo_dataframe = info_vuelos.groupby(by=['origen', 'destino']).head(5).reset_index(drop=True)"
   ]
  },
  {
   "cell_type": "code",
   "execution_count": 6,
   "metadata": {},
   "outputs": [
    {
     "data": {
      "text/html": [
       "<div>\n",
       "<style scoped>\n",
       "    .dataframe tbody tr th:only-of-type {\n",
       "        vertical-align: middle;\n",
       "    }\n",
       "\n",
       "    .dataframe tbody tr th {\n",
       "        vertical-align: top;\n",
       "    }\n",
       "\n",
       "    .dataframe thead th {\n",
       "        text-align: right;\n",
       "    }\n",
       "</style>\n",
       "<table border=\"1\" class=\"dataframe\">\n",
       "  <thead>\n",
       "    <tr style=\"text-align: right;\">\n",
       "      <th></th>\n",
       "      <th>aerolinea</th>\n",
       "      <th>origen</th>\n",
       "      <th>destino</th>\n",
       "      <th>hora_salida</th>\n",
       "      <th>hora_llegada</th>\n",
       "      <th>duracion</th>\n",
       "      <th>precio</th>\n",
       "      <th>asientos_disponibles</th>\n",
       "    </tr>\n",
       "  </thead>\n",
       "  <tbody>\n",
       "    <tr>\n",
       "      <th>5375</th>\n",
       "      <td>Alaska</td>\n",
       "      <td>Seattle</td>\n",
       "      <td>Santa Rosa</td>\n",
       "      <td>2019-03-10T17:50</td>\n",
       "      <td>2019-03-10T19:20</td>\n",
       "      <td>90</td>\n",
       "      <td>981</td>\n",
       "      <td>1</td>\n",
       "    </tr>\n",
       "    <tr>\n",
       "      <th>13644</th>\n",
       "      <td>Allegiant</td>\n",
       "      <td>Plattsburgh</td>\n",
       "      <td>Fort Lauderdale</td>\n",
       "      <td>2019-03-15T13:46</td>\n",
       "      <td>2019-03-15T14:39</td>\n",
       "      <td>53</td>\n",
       "      <td>245</td>\n",
       "      <td>2</td>\n",
       "    </tr>\n",
       "    <tr>\n",
       "      <th>3513</th>\n",
       "      <td>Air France</td>\n",
       "      <td>Detroit</td>\n",
       "      <td>Atlanta</td>\n",
       "      <td>2019-03-10T11:32</td>\n",
       "      <td>2019-03-10T15:13</td>\n",
       "      <td>221</td>\n",
       "      <td>1054</td>\n",
       "      <td>4</td>\n",
       "    </tr>\n",
       "    <tr>\n",
       "      <th>7261</th>\n",
       "      <td>Air China</td>\n",
       "      <td>Chengdu</td>\n",
       "      <td>Harbin</td>\n",
       "      <td>2019-03-13T09:06</td>\n",
       "      <td>2019-03-13T16:08</td>\n",
       "      <td>422</td>\n",
       "      <td>1209</td>\n",
       "      <td>2</td>\n",
       "    </tr>\n",
       "    <tr>\n",
       "      <th>2471</th>\n",
       "      <td>Air Canada</td>\n",
       "      <td>Winnipeg</td>\n",
       "      <td>Montreal</td>\n",
       "      <td>2019-03-07T07:29</td>\n",
       "      <td>2019-03-07T11:05</td>\n",
       "      <td>216</td>\n",
       "      <td>930</td>\n",
       "      <td>1</td>\n",
       "    </tr>\n",
       "    <tr>\n",
       "      <th>759</th>\n",
       "      <td>American</td>\n",
       "      <td>Gainesville</td>\n",
       "      <td>Miami</td>\n",
       "      <td>2019-03-07T06:21</td>\n",
       "      <td>2019-03-07T07:56</td>\n",
       "      <td>95</td>\n",
       "      <td>1117</td>\n",
       "      <td>0</td>\n",
       "    </tr>\n",
       "  </tbody>\n",
       "</table>\n",
       "</div>"
      ],
      "text/plain": [
       "        aerolinea       origen          destino       hora_salida  \\\n",
       "5375       Alaska      Seattle       Santa Rosa  2019-03-10T17:50   \n",
       "13644   Allegiant  Plattsburgh  Fort Lauderdale  2019-03-15T13:46   \n",
       "3513   Air France      Detroit          Atlanta  2019-03-10T11:32   \n",
       "7261    Air China      Chengdu           Harbin  2019-03-13T09:06   \n",
       "2471   Air Canada     Winnipeg         Montreal  2019-03-07T07:29   \n",
       "759      American  Gainesville            Miami  2019-03-07T06:21   \n",
       "\n",
       "           hora_llegada  duracion  precio  asientos_disponibles  \n",
       "5375   2019-03-10T19:20        90     981                     1  \n",
       "13644  2019-03-15T14:39        53     245                     2  \n",
       "3513   2019-03-10T15:13       221    1054                     4  \n",
       "7261   2019-03-13T16:08       422    1209                     2  \n",
       "2471   2019-03-07T11:05       216     930                     1  \n",
       "759    2019-03-07T07:56        95    1117                     0  "
      ]
     },
     "execution_count": 6,
     "metadata": {},
     "output_type": "execute_result"
    }
   ],
   "source": [
    "nuevo_dataframe.sample(6)"
   ]
  },
  {
   "cell_type": "markdown",
   "metadata": {},
   "source": [
    "### Actualización de la fecha de los vuelos"
   ]
  },
  {
   "cell_type": "code",
   "execution_count": 7,
   "metadata": {},
   "outputs": [
    {
     "data": {
      "text/plain": [
       "'2019-03-07T06:03'"
      ]
     },
     "execution_count": 7,
     "metadata": {},
     "output_type": "execute_result"
    }
   ],
   "source": [
    "nuevo_dataframe.loc[0]['hora_salida']"
   ]
  },
  {
   "cell_type": "code",
   "execution_count": 8,
   "metadata": {},
   "outputs": [
    {
     "data": {
      "text/plain": [
       "datetime.datetime(2019, 3, 7, 6, 3)"
      ]
     },
     "execution_count": 8,
     "metadata": {},
     "output_type": "execute_result"
    }
   ],
   "source": [
    "date_time_str = nuevo_dataframe.loc[0]['hora_salida']\n",
    "date_time_obj = datetime.datetime.strptime(date_time_str, \"%Y-%m-%dT%H:%M\")\n",
    "date_time_obj"
   ]
  },
  {
   "cell_type": "code",
   "execution_count": 9,
   "metadata": {},
   "outputs": [
    {
     "data": {
      "text/plain": [
       "'2040-03-07T06:03'"
      ]
     },
     "execution_count": 9,
     "metadata": {},
     "output_type": "execute_result"
    }
   ],
   "source": [
    "date_time_str = nuevo_dataframe.loc[0]['hora_salida']\n",
    "date_time_obj = datetime.datetime.strptime(date_time_str, \"%Y-%m-%dT%H:%M\")\n",
    "date_time_obj = date_time_obj.replace(year=2040)\n",
    "date_time_obj.strftime(\"%Y-%m-%dT%H:%M\")"
   ]
  },
  {
   "cell_type": "code",
   "execution_count": 10,
   "metadata": {},
   "outputs": [
    {
     "data": {
      "text/plain": [
       "datetime.datetime(2019, 6, 24, 15, 23, 8, 499074)"
      ]
     },
     "execution_count": 10,
     "metadata": {},
     "output_type": "execute_result"
    }
   ],
   "source": [
    "datetime.datetime.now()"
   ]
  },
  {
   "cell_type": "code",
   "execution_count": 11,
   "metadata": {},
   "outputs": [],
   "source": [
    "def change_days(salida, llegada):\n",
    "    now = datetime.datetime.now()\n",
    "    date_time_salida = datetime.datetime.strptime(salida, \"%Y-%m-%dT%H:%M\")\n",
    "    date_time_llegada = datetime.datetime.strptime(llegada, \"%Y-%m-%dT%H:%M\")\n",
    "    diferencia_dias = date_time_llegada.day - date_time_salida.day\n",
    "    if(diferencia_dias > 0):\n",
    "        date_time_llegada = date_time_llegada.replace(day=(now.day + diferencia_dias))\n",
    "    else:\n",
    "        date_time_llegada = date_time_llegada.replace(day=now.day)\n",
    "    date_time_llegada = date_time_llegada.replace(month=now.month)\n",
    "    date_time_salida = date_time_salida.replace(month=now.month)\n",
    "    date_time_salida = date_time_salida.replace(day=now.day)\n",
    "    return pd.Series([date_time_salida.strftime(\"%Y-%m-%dT%H:%M\"), date_time_llegada.strftime(\"%Y-%m-%dT%H:%M\")])"
   ]
  },
  {
   "cell_type": "code",
   "execution_count": 12,
   "metadata": {},
   "outputs": [
    {
     "name": "stdout",
     "output_type": "stream",
     "text": [
      "2019-03-07T06:03\n",
      "2019-03-08T08:58\n"
     ]
    }
   ],
   "source": [
    "salida = nuevo_dataframe.loc[0]['hora_salida']\n",
    "print(salida)\n",
    "llegada = nuevo_dataframe.loc[0]['hora_llegada']\n",
    "llegada = '2019-03-08T08:58'\n",
    "print(llegada)"
   ]
  },
  {
   "cell_type": "code",
   "execution_count": 13,
   "metadata": {},
   "outputs": [
    {
     "data": {
      "text/plain": [
       "0    2019-06-24T06:03\n",
       "1    2019-06-25T08:58\n",
       "dtype: object"
      ]
     },
     "execution_count": 13,
     "metadata": {},
     "output_type": "execute_result"
    }
   ],
   "source": [
    "change_days(salida, llegada)"
   ]
  },
  {
   "cell_type": "code",
   "execution_count": 14,
   "metadata": {},
   "outputs": [],
   "source": [
    "nuevo_dataframe[['hora_salida', 'hora_llegada']] = nuevo_dataframe[['hora_salida', 'hora_llegada']].apply(lambda x: change_days(x.hora_salida, x.hora_llegada), axis=1)"
   ]
  },
  {
   "cell_type": "code",
   "execution_count": 15,
   "metadata": {},
   "outputs": [
    {
     "data": {
      "text/html": [
       "<div>\n",
       "<style scoped>\n",
       "    .dataframe tbody tr th:only-of-type {\n",
       "        vertical-align: middle;\n",
       "    }\n",
       "\n",
       "    .dataframe tbody tr th {\n",
       "        vertical-align: top;\n",
       "    }\n",
       "\n",
       "    .dataframe thead th {\n",
       "        text-align: right;\n",
       "    }\n",
       "</style>\n",
       "<table border=\"1\" class=\"dataframe\">\n",
       "  <thead>\n",
       "    <tr style=\"text-align: right;\">\n",
       "      <th></th>\n",
       "      <th>aerolinea</th>\n",
       "      <th>origen</th>\n",
       "      <th>destino</th>\n",
       "      <th>hora_salida</th>\n",
       "      <th>hora_llegada</th>\n",
       "      <th>duracion</th>\n",
       "      <th>precio</th>\n",
       "      <th>asientos_disponibles</th>\n",
       "    </tr>\n",
       "  </thead>\n",
       "  <tbody>\n",
       "    <tr>\n",
       "      <th>0</th>\n",
       "      <td>American</td>\n",
       "      <td>Allentown</td>\n",
       "      <td>Charlotte</td>\n",
       "      <td>2019-06-24T06:03</td>\n",
       "      <td>2019-06-24T08:58</td>\n",
       "      <td>175</td>\n",
       "      <td>577</td>\n",
       "      <td>0</td>\n",
       "    </tr>\n",
       "    <tr>\n",
       "      <th>1</th>\n",
       "      <td>American</td>\n",
       "      <td>Allentown</td>\n",
       "      <td>Charlotte</td>\n",
       "      <td>2019-06-24T11:26</td>\n",
       "      <td>2019-06-24T13:31</td>\n",
       "      <td>125</td>\n",
       "      <td>577</td>\n",
       "      <td>2</td>\n",
       "    </tr>\n",
       "    <tr>\n",
       "      <th>2</th>\n",
       "      <td>American</td>\n",
       "      <td>Allentown</td>\n",
       "      <td>Charlotte</td>\n",
       "      <td>2019-06-24T18:43</td>\n",
       "      <td>2019-06-24T20:55</td>\n",
       "      <td>132</td>\n",
       "      <td>577</td>\n",
       "      <td>1</td>\n",
       "    </tr>\n",
       "  </tbody>\n",
       "</table>\n",
       "</div>"
      ],
      "text/plain": [
       "  aerolinea     origen    destino       hora_salida      hora_llegada  \\\n",
       "0  American  Allentown  Charlotte  2019-06-24T06:03  2019-06-24T08:58   \n",
       "1  American  Allentown  Charlotte  2019-06-24T11:26  2019-06-24T13:31   \n",
       "2  American  Allentown  Charlotte  2019-06-24T18:43  2019-06-24T20:55   \n",
       "\n",
       "   duracion  precio  asientos_disponibles  \n",
       "0       175     577                     0  \n",
       "1       125     577                     2  \n",
       "2       132     577                     1  "
      ]
     },
     "execution_count": 15,
     "metadata": {},
     "output_type": "execute_result"
    }
   ],
   "source": [
    "nuevo_dataframe.head(3)"
   ]
  },
  {
   "cell_type": "markdown",
   "metadata": {},
   "source": [
    "### Generación de nuevos dataframes aumentando la fecha"
   ]
  },
  {
   "cell_type": "code",
   "execution_count": 16,
   "metadata": {},
   "outputs": [],
   "source": [
    "otro_dataframe = nuevo_dataframe.copy()"
   ]
  },
  {
   "cell_type": "code",
   "execution_count": 17,
   "metadata": {},
   "outputs": [
    {
     "data": {
      "text/html": [
       "<div>\n",
       "<style scoped>\n",
       "    .dataframe tbody tr th:only-of-type {\n",
       "        vertical-align: middle;\n",
       "    }\n",
       "\n",
       "    .dataframe tbody tr th {\n",
       "        vertical-align: top;\n",
       "    }\n",
       "\n",
       "    .dataframe thead th {\n",
       "        text-align: right;\n",
       "    }\n",
       "</style>\n",
       "<table border=\"1\" class=\"dataframe\">\n",
       "  <thead>\n",
       "    <tr style=\"text-align: right;\">\n",
       "      <th></th>\n",
       "      <th>aerolinea</th>\n",
       "      <th>origen</th>\n",
       "      <th>destino</th>\n",
       "      <th>hora_salida</th>\n",
       "      <th>hora_llegada</th>\n",
       "      <th>duracion</th>\n",
       "      <th>precio</th>\n",
       "      <th>asientos_disponibles</th>\n",
       "    </tr>\n",
       "  </thead>\n",
       "  <tbody>\n",
       "    <tr>\n",
       "      <th>0</th>\n",
       "      <td>American</td>\n",
       "      <td>Allentown</td>\n",
       "      <td>Charlotte</td>\n",
       "      <td>2019-06-24T06:03</td>\n",
       "      <td>2019-06-24T08:58</td>\n",
       "      <td>175</td>\n",
       "      <td>577</td>\n",
       "      <td>0</td>\n",
       "    </tr>\n",
       "    <tr>\n",
       "      <th>1</th>\n",
       "      <td>American</td>\n",
       "      <td>Allentown</td>\n",
       "      <td>Charlotte</td>\n",
       "      <td>2019-06-24T11:26</td>\n",
       "      <td>2019-06-24T13:31</td>\n",
       "      <td>125</td>\n",
       "      <td>577</td>\n",
       "      <td>2</td>\n",
       "    </tr>\n",
       "  </tbody>\n",
       "</table>\n",
       "</div>"
      ],
      "text/plain": [
       "  aerolinea     origen    destino       hora_salida      hora_llegada  \\\n",
       "0  American  Allentown  Charlotte  2019-06-24T06:03  2019-06-24T08:58   \n",
       "1  American  Allentown  Charlotte  2019-06-24T11:26  2019-06-24T13:31   \n",
       "\n",
       "   duracion  precio  asientos_disponibles  \n",
       "0       175     577                     0  \n",
       "1       125     577                     2  "
      ]
     },
     "execution_count": 17,
     "metadata": {},
     "output_type": "execute_result"
    }
   ],
   "source": [
    "otro_dataframe.head(2)"
   ]
  },
  {
   "cell_type": "code",
   "execution_count": 18,
   "metadata": {},
   "outputs": [],
   "source": [
    "def sum_day(salida, llegada):\n",
    "    date_time_salida = datetime.datetime.strptime(salida, \"%Y-%m-%dT%H:%M\")\n",
    "    date_time_llegada = datetime.datetime.strptime(llegada, \"%Y-%m-%dT%H:%M\")\n",
    "    \n",
    "    date_time_salida = date_time_salida.replace(day = date_time_salida.day + 1)\n",
    "    date_time_llegada = date_time_llegada.replace(day = date_time_llegada.day + 1)\n",
    "    \n",
    "    return pd.Series([date_time_salida.strftime(\"%Y-%m-%dT%H:%M\"), date_time_llegada.strftime(\"%Y-%m-%dT%H:%M\")])"
   ]
  },
  {
   "cell_type": "code",
   "execution_count": 19,
   "metadata": {},
   "outputs": [
    {
     "name": "stdout",
     "output_type": "stream",
     "text": [
      "2019-06-24T06:03\n",
      "2019-03-08T08:58\n"
     ]
    }
   ],
   "source": [
    "salida = nuevo_dataframe.loc[0]['hora_salida']\n",
    "print(salida)\n",
    "llegada = nuevo_dataframe.loc[0]['hora_llegada']\n",
    "llegada = '2019-03-08T08:58'\n",
    "print(llegada)"
   ]
  },
  {
   "cell_type": "code",
   "execution_count": 20,
   "metadata": {},
   "outputs": [
    {
     "data": {
      "text/plain": [
       "0    2019-06-25T06:03\n",
       "1    2019-03-09T08:58\n",
       "dtype: object"
      ]
     },
     "execution_count": 20,
     "metadata": {},
     "output_type": "execute_result"
    }
   ],
   "source": [
    "sum_day(salida, llegada)"
   ]
  },
  {
   "cell_type": "code",
   "execution_count": 21,
   "metadata": {},
   "outputs": [],
   "source": [
    "otro_dataframe[['hora_salida', 'hora_llegada']] = otro_dataframe[['hora_salida', 'hora_llegada']].apply(lambda x: sum_day(x.hora_salida, x.hora_llegada), axis=1)"
   ]
  },
  {
   "cell_type": "code",
   "execution_count": 22,
   "metadata": {},
   "outputs": [
    {
     "data": {
      "text/html": [
       "<div>\n",
       "<style scoped>\n",
       "    .dataframe tbody tr th:only-of-type {\n",
       "        vertical-align: middle;\n",
       "    }\n",
       "\n",
       "    .dataframe tbody tr th {\n",
       "        vertical-align: top;\n",
       "    }\n",
       "\n",
       "    .dataframe thead th {\n",
       "        text-align: right;\n",
       "    }\n",
       "</style>\n",
       "<table border=\"1\" class=\"dataframe\">\n",
       "  <thead>\n",
       "    <tr style=\"text-align: right;\">\n",
       "      <th></th>\n",
       "      <th>aerolinea</th>\n",
       "      <th>origen</th>\n",
       "      <th>destino</th>\n",
       "      <th>hora_salida</th>\n",
       "      <th>hora_llegada</th>\n",
       "      <th>duracion</th>\n",
       "      <th>precio</th>\n",
       "      <th>asientos_disponibles</th>\n",
       "    </tr>\n",
       "  </thead>\n",
       "  <tbody>\n",
       "    <tr>\n",
       "      <th>0</th>\n",
       "      <td>American</td>\n",
       "      <td>Allentown</td>\n",
       "      <td>Charlotte</td>\n",
       "      <td>2019-06-24T06:03</td>\n",
       "      <td>2019-06-24T08:58</td>\n",
       "      <td>175</td>\n",
       "      <td>577</td>\n",
       "      <td>0</td>\n",
       "    </tr>\n",
       "    <tr>\n",
       "      <th>1</th>\n",
       "      <td>American</td>\n",
       "      <td>Allentown</td>\n",
       "      <td>Charlotte</td>\n",
       "      <td>2019-06-24T11:26</td>\n",
       "      <td>2019-06-24T13:31</td>\n",
       "      <td>125</td>\n",
       "      <td>577</td>\n",
       "      <td>2</td>\n",
       "    </tr>\n",
       "  </tbody>\n",
       "</table>\n",
       "</div>"
      ],
      "text/plain": [
       "  aerolinea     origen    destino       hora_salida      hora_llegada  \\\n",
       "0  American  Allentown  Charlotte  2019-06-24T06:03  2019-06-24T08:58   \n",
       "1  American  Allentown  Charlotte  2019-06-24T11:26  2019-06-24T13:31   \n",
       "\n",
       "   duracion  precio  asientos_disponibles  \n",
       "0       175     577                     0  \n",
       "1       125     577                     2  "
      ]
     },
     "execution_count": 22,
     "metadata": {},
     "output_type": "execute_result"
    }
   ],
   "source": [
    "nuevo_dataframe.head(2)"
   ]
  },
  {
   "cell_type": "code",
   "execution_count": 23,
   "metadata": {},
   "outputs": [
    {
     "data": {
      "text/html": [
       "<div>\n",
       "<style scoped>\n",
       "    .dataframe tbody tr th:only-of-type {\n",
       "        vertical-align: middle;\n",
       "    }\n",
       "\n",
       "    .dataframe tbody tr th {\n",
       "        vertical-align: top;\n",
       "    }\n",
       "\n",
       "    .dataframe thead th {\n",
       "        text-align: right;\n",
       "    }\n",
       "</style>\n",
       "<table border=\"1\" class=\"dataframe\">\n",
       "  <thead>\n",
       "    <tr style=\"text-align: right;\">\n",
       "      <th></th>\n",
       "      <th>aerolinea</th>\n",
       "      <th>origen</th>\n",
       "      <th>destino</th>\n",
       "      <th>hora_salida</th>\n",
       "      <th>hora_llegada</th>\n",
       "      <th>duracion</th>\n",
       "      <th>precio</th>\n",
       "      <th>asientos_disponibles</th>\n",
       "    </tr>\n",
       "  </thead>\n",
       "  <tbody>\n",
       "    <tr>\n",
       "      <th>0</th>\n",
       "      <td>American</td>\n",
       "      <td>Allentown</td>\n",
       "      <td>Charlotte</td>\n",
       "      <td>2019-06-25T06:03</td>\n",
       "      <td>2019-06-25T08:58</td>\n",
       "      <td>175</td>\n",
       "      <td>577</td>\n",
       "      <td>0</td>\n",
       "    </tr>\n",
       "    <tr>\n",
       "      <th>1</th>\n",
       "      <td>American</td>\n",
       "      <td>Allentown</td>\n",
       "      <td>Charlotte</td>\n",
       "      <td>2019-06-25T11:26</td>\n",
       "      <td>2019-06-25T13:31</td>\n",
       "      <td>125</td>\n",
       "      <td>577</td>\n",
       "      <td>2</td>\n",
       "    </tr>\n",
       "  </tbody>\n",
       "</table>\n",
       "</div>"
      ],
      "text/plain": [
       "  aerolinea     origen    destino       hora_salida      hora_llegada  \\\n",
       "0  American  Allentown  Charlotte  2019-06-25T06:03  2019-06-25T08:58   \n",
       "1  American  Allentown  Charlotte  2019-06-25T11:26  2019-06-25T13:31   \n",
       "\n",
       "   duracion  precio  asientos_disponibles  \n",
       "0       175     577                     0  \n",
       "1       125     577                     2  "
      ]
     },
     "execution_count": 23,
     "metadata": {},
     "output_type": "execute_result"
    }
   ],
   "source": [
    "otro_dataframe.head(2)"
   ]
  },
  {
   "cell_type": "markdown",
   "metadata": {},
   "source": [
    "### Iteración de 10 días y concatenación de todos los dataframes"
   ]
  },
  {
   "cell_type": "code",
   "execution_count": null,
   "metadata": {},
   "outputs": [],
   "source": [
    "otro_dataframe = nuevo_dataframe.copy()\n",
    "dataframe_final = nuevo_dataframe.copy()\n",
    "for x in range(10):\n",
    "    otro_dataframe[['hora_salida', 'hora_llegada']] = otro_dataframe[['hora_salida', 'hora_llegada']].apply(lambda x: sum_day(x.hora_salida, x.hora_llegada), axis=1)\n",
    "    dataframe_final = pd.concat([dataframe_final, otro_dataframe]).reset_index(drop=True)\n",
    "    print(len(otro_dataframe))\n",
    "    print(len(dataframe_final))\n",
    "    print(\"--------\")"
   ]
  },
  {
   "cell_type": "code",
   "execution_count": null,
   "metadata": {},
   "outputs": [],
   "source": [
    "len(nuevo_dataframe)*10 == len(dataframe_final)"
   ]
  },
  {
   "cell_type": "code",
   "execution_count": null,
   "metadata": {},
   "outputs": [],
   "source": [
    "len(dataframe_final)"
   ]
  },
  {
   "cell_type": "code",
   "execution_count": null,
   "metadata": {},
   "outputs": [],
   "source": [
    "dataframe_final.sample(10)"
   ]
  },
  {
   "cell_type": "markdown",
   "metadata": {},
   "source": [
    "## Exportación del CSV final"
   ]
  },
  {
   "cell_type": "code",
   "execution_count": null,
   "metadata": {},
   "outputs": [],
   "source": [
    "dataframe_final.to_csv('../csv/info_vuelos_final.csv', index = None, header = True)"
   ]
  }
 ],
 "metadata": {
  "kernelspec": {
   "display_name": "Python 3",
   "language": "python",
   "name": "python3"
  },
  "language_info": {
   "codemirror_mode": {
    "name": "ipython",
    "version": 3
   },
   "file_extension": ".py",
   "mimetype": "text/x-python",
   "name": "python",
   "nbconvert_exporter": "python",
   "pygments_lexer": "ipython3",
   "version": "3.7.3"
  }
 },
 "nbformat": 4,
 "nbformat_minor": 2
}
