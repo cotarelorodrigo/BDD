{
 "cells": [
  {
   "cell_type": "markdown",
   "metadata": {},
   "source": [
    "# Pkl Generator"
   ]
  },
  {
   "cell_type": "markdown",
   "metadata": {},
   "source": [
    "## Intención de este notebook"
   ]
  },
  {
   "cell_type": "markdown",
   "metadata": {},
   "source": [
    "Concatenar los pkl generados, aplicando a su vez algún pre-procesamiento de los datos."
   ]
  },
  {
   "cell_type": "markdown",
   "metadata": {},
   "source": [
    "## Importación de librerías"
   ]
  },
  {
   "cell_type": "code",
   "execution_count": 4,
   "metadata": {},
   "outputs": [],
   "source": [
    "import pandas as pd"
   ]
  },
  {
   "cell_type": "markdown",
   "metadata": {},
   "source": [
    "## Concatenación de los pkl generados"
   ]
  },
  {
   "cell_type": "code",
   "execution_count": null,
   "metadata": {},
   "outputs": [],
   "source": [
    "df1 = pd.read_pickle('output.pkl')\n",
    "df2 = pd.read_pickle('output2.pkl')\n",
    "df3 = pd.read_pickle('output3.pkl')\n",
    "df = pd.concat([df1, df2, df3])\n",
    "len(df) == len(df1) + len(df2) + len(df3)"
   ]
  },
  {
   "cell_type": "code",
   "execution_count": 43,
   "metadata": {},
   "outputs": [
    {
     "data": {
      "text/html": [
       "<div>\n",
       "<style scoped>\n",
       "    .dataframe tbody tr th:only-of-type {\n",
       "        vertical-align: middle;\n",
       "    }\n",
       "\n",
       "    .dataframe tbody tr th {\n",
       "        vertical-align: top;\n",
       "    }\n",
       "\n",
       "    .dataframe thead th {\n",
       "        text-align: right;\n",
       "    }\n",
       "</style>\n",
       "<table border=\"1\" class=\"dataframe\">\n",
       "  <thead>\n",
       "    <tr style=\"text-align: right;\">\n",
       "      <th></th>\n",
       "      <th>aerolinea</th>\n",
       "      <th>horario_salida</th>\n",
       "      <th>terminal_salida</th>\n",
       "      <th>puerta_salida</th>\n",
       "      <th>horario_llegada</th>\n",
       "      <th>terminal_llegada</th>\n",
       "      <th>puerta_llegada</th>\n",
       "      <th>origen</th>\n",
       "      <th>destino</th>\n",
       "    </tr>\n",
       "  </thead>\n",
       "  <tbody>\n",
       "    <tr>\n",
       "      <th>0</th>\n",
       "      <td>Georgian Airways    – A9 652</td>\n",
       "      <td>19:00</td>\n",
       "      <td>-</td>\n",
       "      <td>-</td>\n",
       "      <td>02:30</td>\n",
       "      <td>-</td>\n",
       "      <td>-</td>\n",
       "      <td>Ámsterdam  · jue., 7 de marzo</td>\n",
       "      <td>Tiflis  · vie., 8 de marzo</td>\n",
       "    </tr>\n",
       "    <tr>\n",
       "      <th>1</th>\n",
       "      <td>Georgian Airways    – A9 652</td>\n",
       "      <td>10:20</td>\n",
       "      <td>-</td>\n",
       "      <td>-</td>\n",
       "      <td>17:50</td>\n",
       "      <td>-</td>\n",
       "      <td>-</td>\n",
       "      <td>Ámsterdam  · sáb., 9 de marzo</td>\n",
       "      <td>Tiflis  · sáb., 9 de marzo</td>\n",
       "    </tr>\n",
       "    <tr>\n",
       "      <th>2</th>\n",
       "      <td>Georgian Airways    – A9 628</td>\n",
       "      <td>20:20</td>\n",
       "      <td>2D</td>\n",
       "      <td>-</td>\n",
       "      <td>03:50</td>\n",
       "      <td>-</td>\n",
       "      <td>-</td>\n",
       "      <td>París Charles de Gaulle  · vie., 8 de marzo</td>\n",
       "      <td>Tiflis  · sáb., 9 de marzo</td>\n",
       "    </tr>\n",
       "    <tr>\n",
       "      <th>3</th>\n",
       "      <td>Georgian Airways    – A9 1724</td>\n",
       "      <td>23:10</td>\n",
       "      <td>-</td>\n",
       "      <td>-</td>\n",
       "      <td>04:30</td>\n",
       "      <td>-</td>\n",
       "      <td>-</td>\n",
       "      <td>Riga  · vie., 8 de marzo</td>\n",
       "      <td>Tiflis  · sáb., 9 de marzo</td>\n",
       "    </tr>\n",
       "    <tr>\n",
       "      <th>4</th>\n",
       "      <td>Georgian Airways    – A9 1724</td>\n",
       "      <td>23:10</td>\n",
       "      <td>-</td>\n",
       "      <td>-</td>\n",
       "      <td>04:30</td>\n",
       "      <td>-</td>\n",
       "      <td>-</td>\n",
       "      <td>Riga  · dom., 10 de marzo</td>\n",
       "      <td>Tiflis  · lun., 11 de marzo</td>\n",
       "    </tr>\n",
       "  </tbody>\n",
       "</table>\n",
       "</div>"
      ],
      "text/plain": [
       "                          aerolinea horario_salida terminal_salida  \\\n",
       "0    Georgian Airways    – A9 652            19:00               -   \n",
       "1    Georgian Airways    – A9 652            10:20               -   \n",
       "2    Georgian Airways    – A9 628            20:20              2D   \n",
       "3   Georgian Airways    – A9 1724            23:10               -   \n",
       "4   Georgian Airways    – A9 1724            23:10               -   \n",
       "\n",
       "  puerta_salida horario_llegada terminal_llegada puerta_llegada  \\\n",
       "0             -           02:30                -              -   \n",
       "1             -           17:50                -              -   \n",
       "2             -           03:50                -              -   \n",
       "3             -           04:30                -              -   \n",
       "4             -           04:30                -              -   \n",
       "\n",
       "                                             origen  \\\n",
       "0                  Ámsterdam  · jue., 7 de marzo      \n",
       "1                  Ámsterdam  · sáb., 9 de marzo      \n",
       "2    París Charles de Gaulle  · vie., 8 de marzo      \n",
       "3                       Riga  · vie., 8 de marzo      \n",
       "4                      Riga  · dom., 10 de marzo      \n",
       "\n",
       "                            destino  \n",
       "0     Tiflis  · vie., 8 de marzo     \n",
       "1     Tiflis  · sáb., 9 de marzo     \n",
       "2     Tiflis  · sáb., 9 de marzo     \n",
       "3     Tiflis  · sáb., 9 de marzo     \n",
       "4    Tiflis  · lun., 11 de marzo     "
      ]
     },
     "execution_count": 43,
     "metadata": {},
     "output_type": "execute_result"
    }
   ],
   "source": [
    "df.head()"
   ]
  },
  {
   "cell_type": "markdown",
   "metadata": {},
   "source": [
    "## Procesamiento de los datos"
   ]
  },
  {
   "cell_type": "code",
   "execution_count": 45,
   "metadata": {},
   "outputs": [],
   "source": [
    "# Separamos la columna aerolinea en aerolinea y vuelo\n",
    "df[['aerolinea', 'vuelo']] = pd.DataFrame(df['aerolinea'].apply(lambda row: row.split('–')).values.tolist())"
   ]
  },
  {
   "cell_type": "code",
   "execution_count": 46,
   "metadata": {},
   "outputs": [],
   "source": [
    "# Separamos la columna origen en origen y fecha_salida\n",
    "df[['origen', 'fecha_salida']] = pd.DataFrame(df['origen'].apply(lambda row: row.split('·')).values.tolist())"
   ]
  },
  {
   "cell_type": "code",
   "execution_count": 47,
   "metadata": {},
   "outputs": [],
   "source": [
    "# Separamos la columna destino en destino y fecha_llegada\n",
    "df[['destino', 'fecha_llegada']] = pd.DataFrame(df['destino'].apply(lambda row: row.split('·')).values.tolist())"
   ]
  },
  {
   "cell_type": "code",
   "execution_count": 48,
   "metadata": {},
   "outputs": [],
   "source": [
    "# Re-ordenamos las columnas \n",
    "df = df[['aerolinea', 'vuelo', 'origen', 'destino', 'fecha_salida', 'horario_salida','terminal_salida',\\\n",
    "         'puerta_salida', 'fecha_llegada', 'horario_llegada', 'terminal_llegada', 'puerta_llegada']]"
   ]
  },
  {
   "cell_type": "code",
   "execution_count": 49,
   "metadata": {},
   "outputs": [],
   "source": [
    "def get_day(row):\n",
    "    x = row.split(',')\n",
    "    dias = {'lun.':'lunes', 'mar.':'martes', 'mié.':'miercoles', 'jue.':'jueves',\\\n",
    "            'vie.':'viernes', 'sáb.':'sabado', 'dom.':'domingo'}\n",
    "    a = [x[0].strip()]\n",
    "    b = x[1].split('de')\n",
    "    c = a + b\n",
    "    c[2] = c[2].strip()\n",
    "    c[1] = c[1].strip()\n",
    "    c[0] = dias[c[0]]\n",
    "    \n",
    "    return c\n",
    "\n",
    "df['fecha_salida'] = df['fecha_salida'].apply(lambda row: get_day(row)).values.tolist()\n",
    "df['fecha_llegada'] = df['fecha_llegada'].apply(lambda row: get_day(row)).values.tolist()"
   ]
  },
  {
   "cell_type": "code",
   "execution_count": 50,
   "metadata": {},
   "outputs": [
    {
     "data": {
      "text/html": [
       "<div>\n",
       "<style scoped>\n",
       "    .dataframe tbody tr th:only-of-type {\n",
       "        vertical-align: middle;\n",
       "    }\n",
       "\n",
       "    .dataframe tbody tr th {\n",
       "        vertical-align: top;\n",
       "    }\n",
       "\n",
       "    .dataframe thead th {\n",
       "        text-align: right;\n",
       "    }\n",
       "</style>\n",
       "<table border=\"1\" class=\"dataframe\">\n",
       "  <thead>\n",
       "    <tr style=\"text-align: right;\">\n",
       "      <th></th>\n",
       "      <th>aerolinea</th>\n",
       "      <th>vuelo</th>\n",
       "      <th>origen</th>\n",
       "      <th>destino</th>\n",
       "      <th>fecha_salida</th>\n",
       "      <th>horario_salida</th>\n",
       "      <th>terminal_salida</th>\n",
       "      <th>puerta_salida</th>\n",
       "      <th>fecha_llegada</th>\n",
       "      <th>horario_llegada</th>\n",
       "      <th>terminal_llegada</th>\n",
       "      <th>puerta_llegada</th>\n",
       "    </tr>\n",
       "  </thead>\n",
       "  <tbody>\n",
       "    <tr>\n",
       "      <th>0</th>\n",
       "      <td>Georgian Airways</td>\n",
       "      <td>A9 652</td>\n",
       "      <td>Ámsterdam</td>\n",
       "      <td>Tiflis</td>\n",
       "      <td>[jueves, 7, marzo]</td>\n",
       "      <td>19:00</td>\n",
       "      <td>-</td>\n",
       "      <td>-</td>\n",
       "      <td>[viernes, 8, marzo]</td>\n",
       "      <td>02:30</td>\n",
       "      <td>-</td>\n",
       "      <td>-</td>\n",
       "    </tr>\n",
       "    <tr>\n",
       "      <th>1</th>\n",
       "      <td>Georgian Airways</td>\n",
       "      <td>A9 652</td>\n",
       "      <td>Ámsterdam</td>\n",
       "      <td>Tiflis</td>\n",
       "      <td>[sabado, 9, marzo]</td>\n",
       "      <td>10:20</td>\n",
       "      <td>-</td>\n",
       "      <td>-</td>\n",
       "      <td>[sabado, 9, marzo]</td>\n",
       "      <td>17:50</td>\n",
       "      <td>-</td>\n",
       "      <td>-</td>\n",
       "    </tr>\n",
       "    <tr>\n",
       "      <th>2</th>\n",
       "      <td>Georgian Airways</td>\n",
       "      <td>A9 628</td>\n",
       "      <td>París Charles de Gaulle</td>\n",
       "      <td>Tiflis</td>\n",
       "      <td>[viernes, 8, marzo]</td>\n",
       "      <td>20:20</td>\n",
       "      <td>2D</td>\n",
       "      <td>-</td>\n",
       "      <td>[sabado, 9, marzo]</td>\n",
       "      <td>03:50</td>\n",
       "      <td>-</td>\n",
       "      <td>-</td>\n",
       "    </tr>\n",
       "  </tbody>\n",
       "</table>\n",
       "</div>"
      ],
      "text/plain": [
       "               aerolinea      vuelo                       origen     destino  \\\n",
       "0   Georgian Airways       A9 652                    Ámsterdam      Tiflis     \n",
       "1   Georgian Airways       A9 652                    Ámsterdam      Tiflis     \n",
       "2   Georgian Airways       A9 628      París Charles de Gaulle      Tiflis     \n",
       "\n",
       "          fecha_salida horario_salida terminal_salida puerta_salida  \\\n",
       "0   [jueves, 7, marzo]          19:00               -             -   \n",
       "1   [sabado, 9, marzo]          10:20               -             -   \n",
       "2  [viernes, 8, marzo]          20:20              2D             -   \n",
       "\n",
       "         fecha_llegada horario_llegada terminal_llegada puerta_llegada  \n",
       "0  [viernes, 8, marzo]           02:30                -              -  \n",
       "1   [sabado, 9, marzo]           17:50                -              -  \n",
       "2   [sabado, 9, marzo]           03:50                -              -  "
      ]
     },
     "execution_count": 50,
     "metadata": {},
     "output_type": "execute_result"
    }
   ],
   "source": [
    "df.head(3)"
   ]
  },
  {
   "cell_type": "markdown",
   "metadata": {},
   "source": [
    "## Exportación del pkl final"
   ]
  },
  {
   "cell_type": "code",
   "execution_count": 51,
   "metadata": {},
   "outputs": [],
   "source": [
    "df.to_pickle('info_vuelos.pkl')"
   ]
  }
 ],
 "metadata": {
  "kernelspec": {
   "display_name": "Python 3",
   "language": "python",
   "name": "python3"
  },
  "language_info": {
   "codemirror_mode": {
    "name": "ipython",
    "version": 3
   },
   "file_extension": ".py",
   "mimetype": "text/x-python",
   "name": "python",
   "nbconvert_exporter": "python",
   "pygments_lexer": "ipython3",
   "version": "3.7.3"
  }
 },
 "nbformat": 4,
 "nbformat_minor": 2
}
