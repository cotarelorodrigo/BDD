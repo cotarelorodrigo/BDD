{
 "cells": [
  {
   "cell_type": "markdown",
   "metadata": {},
   "source": [
    "# CSV Generator"
   ]
  },
  {
   "cell_type": "code",
   "execution_count": 1,
   "metadata": {},
   "outputs": [],
   "source": [
    "import pandas as pd\n",
    "import numpy as np\n",
    "from math import sin, cos, sqrt, atan2, radians"
   ]
  },
  {
   "cell_type": "markdown",
   "metadata": {},
   "source": [
    "### Carga del archivo pickle"
   ]
  },
  {
   "cell_type": "code",
   "execution_count": 28,
   "metadata": {},
   "outputs": [
    {
     "data": {
      "text/html": [
       "<div>\n",
       "<style scoped>\n",
       "    .dataframe tbody tr th:only-of-type {\n",
       "        vertical-align: middle;\n",
       "    }\n",
       "\n",
       "    .dataframe tbody tr th {\n",
       "        vertical-align: top;\n",
       "    }\n",
       "\n",
       "    .dataframe thead th {\n",
       "        text-align: right;\n",
       "    }\n",
       "</style>\n",
       "<table border=\"1\" class=\"dataframe\">\n",
       "  <thead>\n",
       "    <tr style=\"text-align: right;\">\n",
       "      <th></th>\n",
       "      <th>aerolinea</th>\n",
       "      <th>origen</th>\n",
       "      <th>destino</th>\n",
       "      <th>fecha_salida</th>\n",
       "      <th>horario_salida</th>\n",
       "      <th>fecha_llegada</th>\n",
       "      <th>horario_llegada</th>\n",
       "    </tr>\n",
       "  </thead>\n",
       "  <tbody>\n",
       "    <tr>\n",
       "      <th>134505</th>\n",
       "      <td>Etihad</td>\n",
       "      <td>Abu Dabi</td>\n",
       "      <td>Pekín-Capital</td>\n",
       "      <td>[sabado, 16, marzo]</td>\n",
       "      <td>21:18</td>\n",
       "      <td>[domingo, 17, marzo]</td>\n",
       "      <td>23:29</td>\n",
       "    </tr>\n",
       "    <tr>\n",
       "      <th>20182</th>\n",
       "      <td>American</td>\n",
       "      <td>Chicago O'Hare</td>\n",
       "      <td>Toledo</td>\n",
       "      <td>[viernes, 8, marzo]</td>\n",
       "      <td>16:40</td>\n",
       "      <td>[viernes, 8, marzo]</td>\n",
       "      <td>18:38</td>\n",
       "    </tr>\n",
       "    <tr>\n",
       "      <th>52483</th>\n",
       "      <td>Aerolíneas Argentinas</td>\n",
       "      <td>Roma Fiumicino</td>\n",
       "      <td>Buenos Aires Ezeiza</td>\n",
       "      <td>[jueves, 14, marzo]</td>\n",
       "      <td>20:43</td>\n",
       "      <td>[viernes, 15, marzo]</td>\n",
       "      <td>00:38</td>\n",
       "    </tr>\n",
       "    <tr>\n",
       "      <th>65095</th>\n",
       "      <td>Alitalia</td>\n",
       "      <td>Clermont-Ferrand</td>\n",
       "      <td>París Charles de Gaulle</td>\n",
       "      <td>[miercoles, 13, marzo]</td>\n",
       "      <td>19:54</td>\n",
       "      <td>[miercoles, 13, marzo]</td>\n",
       "      <td>06:09</td>\n",
       "    </tr>\n",
       "    <tr>\n",
       "      <th>46866</th>\n",
       "      <td>AirAsia</td>\n",
       "      <td>Archipiélago Langkawi</td>\n",
       "      <td>Kuala Lumpur</td>\n",
       "      <td>[martes, 12, marzo]</td>\n",
       "      <td>15:30</td>\n",
       "      <td>[martes, 12, marzo]</td>\n",
       "      <td>18:35</td>\n",
       "    </tr>\n",
       "  </tbody>\n",
       "</table>\n",
       "</div>"
      ],
      "text/plain": [
       "                         aerolinea                     origen  \\\n",
       "134505                  Etihad                     Abu Dabi     \n",
       "20182                 American               Chicago O'Hare     \n",
       "52483    Aerolíneas Argentinas               Roma Fiumicino     \n",
       "65095                 Alitalia             Clermont-Ferrand     \n",
       "46866                  AirAsia        Archipiélago Langkawi     \n",
       "\n",
       "                            destino            fecha_salida horario_salida  \\\n",
       "134505              Pekín-Capital       [sabado, 16, marzo]          21:18   \n",
       "20182                      Toledo       [viernes, 8, marzo]          16:40   \n",
       "52483         Buenos Aires Ezeiza       [jueves, 14, marzo]          20:43   \n",
       "65095     París Charles de Gaulle    [miercoles, 13, marzo]          19:54   \n",
       "46866                Kuala Lumpur       [martes, 12, marzo]          15:30   \n",
       "\n",
       "                 fecha_llegada horario_llegada  \n",
       "134505    [domingo, 17, marzo]           23:29  \n",
       "20182      [viernes, 8, marzo]           18:38  \n",
       "52483     [viernes, 15, marzo]           00:38  \n",
       "65095   [miercoles, 13, marzo]           06:09  \n",
       "46866      [martes, 12, marzo]           18:35  "
      ]
     },
     "execution_count": 28,
     "metadata": {},
     "output_type": "execute_result"
    }
   ],
   "source": [
    "info_vuelos = pd.read_pickle('pkl/info_vuelos.pkl')\n",
    "info_vuelos = info_vuelos.drop(columns=['vuelo', 'terminal_salida', 'puerta_salida', 'terminal_llegada', 'puerta_llegada'])\n",
    "info_vuelos.sample(5)"
   ]
  },
  {
   "cell_type": "code",
   "execution_count": 29,
   "metadata": {},
   "outputs": [
    {
     "name": "stdout",
     "output_type": "stream",
     "text": [
      "<class 'pandas.core.frame.DataFrame'>\n",
      "Int64Index: 344124 entries, 0 to 196239\n",
      "Data columns (total 7 columns):\n",
      "aerolinea          344124 non-null object\n",
      "origen             344124 non-null object\n",
      "destino            344124 non-null object\n",
      "fecha_salida       344124 non-null object\n",
      "horario_salida     344124 non-null object\n",
      "fecha_llegada      344124 non-null object\n",
      "horario_llegada    344124 non-null object\n",
      "dtypes: object(7)\n",
      "memory usage: 21.0+ MB\n"
     ]
    }
   ],
   "source": [
    "info_vuelos.info()"
   ]
  },
  {
   "cell_type": "markdown",
   "metadata": {},
   "source": [
    "## Procesamiento de los datos"
   ]
  },
  {
   "cell_type": "markdown",
   "metadata": {},
   "source": [
    "### Eliminación de espacios"
   ]
  },
  {
   "cell_type": "code",
   "execution_count": 30,
   "metadata": {},
   "outputs": [
    {
     "data": {
      "text/html": [
       "<div>\n",
       "<style scoped>\n",
       "    .dataframe tbody tr th:only-of-type {\n",
       "        vertical-align: middle;\n",
       "    }\n",
       "\n",
       "    .dataframe tbody tr th {\n",
       "        vertical-align: top;\n",
       "    }\n",
       "\n",
       "    .dataframe thead th {\n",
       "        text-align: right;\n",
       "    }\n",
       "</style>\n",
       "<table border=\"1\" class=\"dataframe\">\n",
       "  <thead>\n",
       "    <tr style=\"text-align: right;\">\n",
       "      <th></th>\n",
       "      <th>aerolinea</th>\n",
       "      <th>origen</th>\n",
       "      <th>destino</th>\n",
       "      <th>fecha_salida</th>\n",
       "      <th>horario_salida</th>\n",
       "      <th>fecha_llegada</th>\n",
       "      <th>horario_llegada</th>\n",
       "    </tr>\n",
       "  </thead>\n",
       "  <tbody>\n",
       "    <tr>\n",
       "      <th>144581</th>\n",
       "      <td>Gol</td>\n",
       "      <td>Aracaju</td>\n",
       "      <td>São Paulo Guarulhos</td>\n",
       "      <td>[viernes, 15, marzo]</td>\n",
       "      <td>06:50</td>\n",
       "      <td>[viernes, 15, marzo]</td>\n",
       "      <td>10:49</td>\n",
       "    </tr>\n",
       "    <tr>\n",
       "      <th>10424</th>\n",
       "      <td>American</td>\n",
       "      <td>Florence</td>\n",
       "      <td>Charlotte</td>\n",
       "      <td>[domingo, 10, marzo]</td>\n",
       "      <td>08:24</td>\n",
       "      <td>[domingo, 10, marzo]</td>\n",
       "      <td>10:44</td>\n",
       "    </tr>\n",
       "    <tr>\n",
       "      <th>14332</th>\n",
       "      <td>American</td>\n",
       "      <td>Londres Heathrow</td>\n",
       "      <td>Bangalore</td>\n",
       "      <td>[sabado, 9, marzo]</td>\n",
       "      <td>13:55</td>\n",
       "      <td>[domingo, 10, marzo]</td>\n",
       "      <td>05:00</td>\n",
       "    </tr>\n",
       "    <tr>\n",
       "      <th>15631</th>\n",
       "      <td>American</td>\n",
       "      <td>Kansas City</td>\n",
       "      <td>Charlotte</td>\n",
       "      <td>[viernes, 8, marzo]</td>\n",
       "      <td>19:00</td>\n",
       "      <td>[viernes, 8, marzo]</td>\n",
       "      <td>20:25</td>\n",
       "    </tr>\n",
       "    <tr>\n",
       "      <th>71332</th>\n",
       "      <td>British Airways</td>\n",
       "      <td>Amán</td>\n",
       "      <td>Londres Heathrow</td>\n",
       "      <td>[lunes, 11, marzo]</td>\n",
       "      <td>08:01</td>\n",
       "      <td>[lunes, 11, marzo]</td>\n",
       "      <td>09:52</td>\n",
       "    </tr>\n",
       "  </tbody>\n",
       "</table>\n",
       "</div>"
      ],
      "text/plain": [
       "              aerolinea            origen              destino  \\\n",
       "144581              Gol           Aracaju  São Paulo Guarulhos   \n",
       "10424          American          Florence            Charlotte   \n",
       "14332          American  Londres Heathrow            Bangalore   \n",
       "15631          American       Kansas City            Charlotte   \n",
       "71332   British Airways              Amán     Londres Heathrow   \n",
       "\n",
       "                fecha_salida horario_salida         fecha_llegada  \\\n",
       "144581  [viernes, 15, marzo]          06:50  [viernes, 15, marzo]   \n",
       "10424   [domingo, 10, marzo]          08:24  [domingo, 10, marzo]   \n",
       "14332     [sabado, 9, marzo]          13:55  [domingo, 10, marzo]   \n",
       "15631    [viernes, 8, marzo]          19:00   [viernes, 8, marzo]   \n",
       "71332     [lunes, 11, marzo]          08:01    [lunes, 11, marzo]   \n",
       "\n",
       "       horario_llegada  \n",
       "144581           10:49  \n",
       "10424            10:44  \n",
       "14332            05:00  \n",
       "15631            20:25  \n",
       "71332            09:52  "
      ]
     },
     "execution_count": 30,
     "metadata": {},
     "output_type": "execute_result"
    }
   ],
   "source": [
    "info_vuelos['aerolinea'] = info_vuelos['aerolinea'].apply(lambda x: x.strip())\n",
    "info_vuelos['origen'] = info_vuelos['origen'].apply(lambda x: x.strip())\n",
    "info_vuelos['destino'] = info_vuelos['destino'].apply(lambda x: x.strip())\n",
    "info_vuelos.sample(5)"
   ]
  },
  {
   "cell_type": "markdown",
   "metadata": {},
   "source": [
    "### Conversión de fechas y horarios para Neo4j"
   ]
  },
  {
   "cell_type": "code",
   "execution_count": 31,
   "metadata": {},
   "outputs": [
    {
     "data": {
      "text/html": [
       "<div>\n",
       "<style scoped>\n",
       "    .dataframe tbody tr th:only-of-type {\n",
       "        vertical-align: middle;\n",
       "    }\n",
       "\n",
       "    .dataframe tbody tr th {\n",
       "        vertical-align: top;\n",
       "    }\n",
       "\n",
       "    .dataframe thead th {\n",
       "        text-align: right;\n",
       "    }\n",
       "</style>\n",
       "<table border=\"1\" class=\"dataframe\">\n",
       "  <thead>\n",
       "    <tr style=\"text-align: right;\">\n",
       "      <th></th>\n",
       "      <th>aerolinea</th>\n",
       "      <th>origen</th>\n",
       "      <th>destino</th>\n",
       "      <th>fecha_salida</th>\n",
       "      <th>horario_salida</th>\n",
       "      <th>fecha_llegada</th>\n",
       "      <th>horario_llegada</th>\n",
       "    </tr>\n",
       "  </thead>\n",
       "  <tbody>\n",
       "    <tr>\n",
       "      <th>35004</th>\n",
       "      <td>Azul</td>\n",
       "      <td>São Paulo Viracopos</td>\n",
       "      <td>Belo Horizonte Confins</td>\n",
       "      <td>2019-03-09</td>\n",
       "      <td>20:55</td>\n",
       "      <td>2019-03-09</td>\n",
       "      <td>22:10</td>\n",
       "    </tr>\n",
       "    <tr>\n",
       "      <th>54153</th>\n",
       "      <td>Alaska</td>\n",
       "      <td>Juneau</td>\n",
       "      <td>Anchorage</td>\n",
       "      <td>2019-03-10</td>\n",
       "      <td>15:35</td>\n",
       "      <td>2019-03-10</td>\n",
       "      <td>17:40</td>\n",
       "    </tr>\n",
       "    <tr>\n",
       "      <th>75182</th>\n",
       "      <td>British Airways</td>\n",
       "      <td>Mánchester</td>\n",
       "      <td>Billund</td>\n",
       "      <td>2019-03-11</td>\n",
       "      <td>08:45</td>\n",
       "      <td>2019-03-11</td>\n",
       "      <td>15:20</td>\n",
       "    </tr>\n",
       "    <tr>\n",
       "      <th>40396</th>\n",
       "      <td>Air France</td>\n",
       "      <td>Indianápolis</td>\n",
       "      <td>Atlanta</td>\n",
       "      <td>2019-03-11</td>\n",
       "      <td>08:00</td>\n",
       "      <td>2019-03-11</td>\n",
       "      <td>09:10</td>\n",
       "    </tr>\n",
       "    <tr>\n",
       "      <th>95624</th>\n",
       "      <td>China Southern</td>\n",
       "      <td>Chongqing</td>\n",
       "      <td>Cantón</td>\n",
       "      <td>2019-03-12</td>\n",
       "      <td>17:00</td>\n",
       "      <td>2019-03-12</td>\n",
       "      <td>18:50</td>\n",
       "    </tr>\n",
       "  </tbody>\n",
       "</table>\n",
       "</div>"
      ],
      "text/plain": [
       "             aerolinea               origen                 destino  \\\n",
       "35004             Azul  São Paulo Viracopos  Belo Horizonte Confins   \n",
       "54153           Alaska               Juneau               Anchorage   \n",
       "75182  British Airways           Mánchester                 Billund   \n",
       "40396       Air France         Indianápolis                 Atlanta   \n",
       "95624   China Southern            Chongqing                  Cantón   \n",
       "\n",
       "      fecha_salida horario_salida fecha_llegada horario_llegada  \n",
       "35004   2019-03-09          20:55    2019-03-09           22:10  \n",
       "54153   2019-03-10          15:35    2019-03-10           17:40  \n",
       "75182   2019-03-11          08:45    2019-03-11           15:20  \n",
       "40396   2019-03-11          08:00    2019-03-11           09:10  \n",
       "95624   2019-03-12          17:00    2019-03-12           18:50  "
      ]
     },
     "execution_count": 31,
     "metadata": {},
     "output_type": "execute_result"
    }
   ],
   "source": [
    "# Obtengo el numero del mes\n",
    "def get_month_number(month):\n",
    "    months = {'enero': '01', 'febrero': '02', 'marzo': '03', 'abril': '04', 'mayo': '05', 'junio': '06',\\\n",
    "              'julio': '07', 'agosto': '08', 'septiembre': '09]', 'octubre': 10, 'noviembre': 11, 'diciembre': 12}\n",
    "    \n",
    "    return months[month]\n",
    "\n",
    "# Obtengo la fecha en str (YYYY-MM-DD)\n",
    "def get_date(array):\n",
    "    day = str(array[1])\n",
    "    if len(day) == 1:\n",
    "        day = '0' + day\n",
    "    month = get_month_number(array[2])\n",
    "    date = '2019' + '-' + month + '-' + day\n",
    "    \n",
    "    return date\n",
    "\n",
    "# Actualizo los campos correspondientes\n",
    "info_vuelos['fecha_salida'] = info_vuelos['fecha_salida'].apply(lambda x: get_date(x))\n",
    "info_vuelos['fecha_llegada'] = info_vuelos['fecha_llegada'].apply(lambda x: get_date(x))\n",
    "\n",
    "info_vuelos.sample(5)"
   ]
  },
  {
   "cell_type": "markdown",
   "metadata": {},
   "source": [
    "### Duración del vuelo (en minutos)"
   ]
  },
  {
   "cell_type": "code",
   "execution_count": 34,
   "metadata": {},
   "outputs": [
    {
     "data": {
      "text/plain": [
       "35"
      ]
     },
     "execution_count": 34,
     "metadata": {},
     "output_type": "execute_result"
    }
   ],
   "source": [
    "def get_duracion(departure_date, departure_hour, arrival_date, arrival_hour):\n",
    "    dep_hour = int(departure_hour.replace(':', ''))\n",
    "    arr_hour = int(arrival_hour.replace(':', ''))\n",
    "    diff = arr_hour - dep_hour\n",
    "    return diff\n",
    "\n",
    "# TODO: completar esto\n",
    "get_duracion('', '20:55', '', '22:10')"
   ]
  },
  {
   "cell_type": "markdown",
   "metadata": {},
   "source": [
    "### Aeropuerto"
   ]
  },
  {
   "cell_type": "code",
   "execution_count": 7,
   "metadata": {},
   "outputs": [
    {
     "data": {
      "text/html": [
       "<div>\n",
       "<style scoped>\n",
       "    .dataframe tbody tr th:only-of-type {\n",
       "        vertical-align: middle;\n",
       "    }\n",
       "\n",
       "    .dataframe tbody tr th {\n",
       "        vertical-align: top;\n",
       "    }\n",
       "\n",
       "    .dataframe thead th {\n",
       "        text-align: right;\n",
       "    }\n",
       "</style>\n",
       "<table border=\"1\" class=\"dataframe\">\n",
       "  <thead>\n",
       "    <tr style=\"text-align: right;\">\n",
       "      <th></th>\n",
       "      <th>codigo</th>\n",
       "      <th>aeropuerto</th>\n",
       "      <th>capital</th>\n",
       "      <th>pais</th>\n",
       "      <th>latitud</th>\n",
       "      <th>longitud</th>\n",
       "      <th>numero1</th>\n",
       "      <th>numero2</th>\n",
       "      <th>continente</th>\n",
       "    </tr>\n",
       "  </thead>\n",
       "  <tbody>\n",
       "    <tr>\n",
       "      <th>0</th>\n",
       "      <td>GKA</td>\n",
       "      <td>Goroka Airport</td>\n",
       "      <td>Goroka</td>\n",
       "      <td>Papua New Guinea</td>\n",
       "      <td>-6.08169</td>\n",
       "      <td>145.392</td>\n",
       "      <td>5282.0</td>\n",
       "      <td>10.00</td>\n",
       "      <td>Pacific/Port_Moresby</td>\n",
       "    </tr>\n",
       "    <tr>\n",
       "      <th>1</th>\n",
       "      <td>MAG</td>\n",
       "      <td>Madang Airport</td>\n",
       "      <td>Madang</td>\n",
       "      <td>Papua New Guinea</td>\n",
       "      <td>-5.20708</td>\n",
       "      <td>145.789</td>\n",
       "      <td>20.0</td>\n",
       "      <td>10.00</td>\n",
       "      <td>Pacific/Port_Moresby</td>\n",
       "    </tr>\n",
       "  </tbody>\n",
       "</table>\n",
       "</div>"
      ],
      "text/plain": [
       "  codigo      aeropuerto capital              pais   latitud  longitud  \\\n",
       "0    GKA  Goroka Airport  Goroka  Papua New Guinea  -6.08169   145.392   \n",
       "1    MAG  Madang Airport  Madang  Papua New Guinea  -5.20708   145.789   \n",
       "\n",
       "   numero1 numero2            continente  \n",
       "0   5282.0   10.00  Pacific/Port_Moresby  \n",
       "1     20.0   10.00  Pacific/Port_Moresby  "
      ]
     },
     "execution_count": 7,
     "metadata": {},
     "output_type": "execute_result"
    }
   ],
   "source": [
    "aeropuertos = pd.read_csv('../csv/aeropuertos.csv', index_col=False, names=['codigo', 'aeropuerto', 'capital', 'pais', 'latitud', 'longitud', 'numero1', 'numero2', 'continente'])\n",
    "aeropuertos.head(2)"
   ]
  },
  {
   "cell_type": "markdown",
   "metadata": {},
   "source": [
    "### Info_vuelos"
   ]
  },
  {
   "cell_type": "code",
   "execution_count": null,
   "metadata": {},
   "outputs": [],
   "source": [
    "# TODO: borrar esto, ya cargo info_vuelos.pkl directamente en este notebook -- dps borrar info_vuelos.csv"
   ]
  },
  {
   "cell_type": "code",
   "execution_count": 9,
   "metadata": {},
   "outputs": [
    {
     "data": {
      "text/html": [
       "<div>\n",
       "<style scoped>\n",
       "    .dataframe tbody tr th:only-of-type {\n",
       "        vertical-align: middle;\n",
       "    }\n",
       "\n",
       "    .dataframe tbody tr th {\n",
       "        vertical-align: top;\n",
       "    }\n",
       "\n",
       "    .dataframe thead th {\n",
       "        text-align: right;\n",
       "    }\n",
       "</style>\n",
       "<table border=\"1\" class=\"dataframe\">\n",
       "  <thead>\n",
       "    <tr style=\"text-align: right;\">\n",
       "      <th></th>\n",
       "      <th>aerolinea</th>\n",
       "      <th>origen</th>\n",
       "      <th>destino</th>\n",
       "      <th>fecha_salida</th>\n",
       "      <th>horario_salida</th>\n",
       "      <th>fecha_llegada</th>\n",
       "      <th>horario_llegada</th>\n",
       "    </tr>\n",
       "  </thead>\n",
       "  <tbody>\n",
       "    <tr>\n",
       "      <th>0</th>\n",
       "      <td>Georgian Airways</td>\n",
       "      <td>Ámsterdam</td>\n",
       "      <td>Tiflis</td>\n",
       "      <td>['jueves', '7', 'marzo']</td>\n",
       "      <td>19:00</td>\n",
       "      <td>['viernes', '8', 'marzo']</td>\n",
       "      <td>02:30</td>\n",
       "    </tr>\n",
       "    <tr>\n",
       "      <th>1</th>\n",
       "      <td>Georgian Airways</td>\n",
       "      <td>Ámsterdam</td>\n",
       "      <td>Tiflis</td>\n",
       "      <td>['sabado', '9', 'marzo']</td>\n",
       "      <td>10:20</td>\n",
       "      <td>['sabado', '9', 'marzo']</td>\n",
       "      <td>17:50</td>\n",
       "    </tr>\n",
       "  </tbody>\n",
       "</table>\n",
       "</div>"
      ],
      "text/plain": [
       "          aerolinea     origen destino              fecha_salida  \\\n",
       "0  Georgian Airways  Ámsterdam  Tiflis  ['jueves', '7', 'marzo']   \n",
       "1  Georgian Airways  Ámsterdam  Tiflis  ['sabado', '9', 'marzo']   \n",
       "\n",
       "  horario_salida              fecha_llegada horario_llegada  \n",
       "0          19:00  ['viernes', '8', 'marzo']           02:30  \n",
       "1          10:20   ['sabado', '9', 'marzo']           17:50  "
      ]
     },
     "execution_count": 9,
     "metadata": {},
     "output_type": "execute_result"
    }
   ],
   "source": [
    "info_vuelos = pd.read_csv(\"../csv/info_vuelos.csv\")\n",
    "info_vuelos.head(2)"
   ]
  },
  {
   "cell_type": "markdown",
   "metadata": {},
   "source": [
    "### Seteo a cada vuelo (cada fila) el codigo del aeropueto de origen y de destino "
   ]
  },
  {
   "cell_type": "code",
   "execution_count": 19,
   "metadata": {
    "collapsed": true
   },
   "outputs": [],
   "source": [
    "a = info_vuelos.merge(aeropuertos[['codigo', 'capital']], left_on='origen', right_on='capital', how='left')\n",
    "a.dropna(subset=['codigo'], inplace=True)\n",
    "a = a[['aerolinea', 'origen', 'codigo', 'destino', 'fecha_salida', 'horario_salida', 'fecha_llegada', 'horario_llegada']]\n",
    "a.columns = ['aerolinea', 'origen', 'cod_origen', 'destino', 'fecha_salida', 'horario_salida', 'fecha_llegada', 'horario_llegada']\n",
    "a = a.merge(aeropuertos[['codigo', 'capital']], left_on='destino', right_on='capital', how='left')\n",
    "a.dropna(subset=['codigo'], inplace=True)\n",
    "a = a[['aerolinea', 'origen', 'cod_origen', 'destino', 'codigo', 'fecha_salida', 'horario_salida', 'fecha_llegada', 'horario_llegada']]\n",
    "a.columns = ['aerolinea', 'origen', 'cod_origen', 'destino', 'cod_destino', 'fecha_salida', 'horario_salida', 'fecha_llegada', 'horario_llegada']"
   ]
  },
  {
   "cell_type": "code",
   "execution_count": 54,
   "metadata": {},
   "outputs": [
    {
     "data": {
      "text/html": [
       "<div>\n",
       "<style scoped>\n",
       "    .dataframe tbody tr th:only-of-type {\n",
       "        vertical-align: middle;\n",
       "    }\n",
       "\n",
       "    .dataframe tbody tr th {\n",
       "        vertical-align: top;\n",
       "    }\n",
       "\n",
       "    .dataframe thead th {\n",
       "        text-align: right;\n",
       "    }\n",
       "</style>\n",
       "<table border=\"1\" class=\"dataframe\">\n",
       "  <thead>\n",
       "    <tr style=\"text-align: right;\">\n",
       "      <th></th>\n",
       "      <th>aerolinea</th>\n",
       "      <th>origen</th>\n",
       "      <th>cod_origen</th>\n",
       "      <th>destino</th>\n",
       "      <th>cod_destino</th>\n",
       "      <th>fecha_salida</th>\n",
       "      <th>horario_salida</th>\n",
       "      <th>fecha_llegada</th>\n",
       "      <th>horario_llegada</th>\n",
       "    </tr>\n",
       "  </thead>\n",
       "  <tbody>\n",
       "    <tr>\n",
       "      <th>2</th>\n",
       "      <td>American</td>\n",
       "      <td>Allentown</td>\n",
       "      <td>ABE</td>\n",
       "      <td>Charlotte</td>\n",
       "      <td>CLT</td>\n",
       "      <td>['jueves', '7', 'marzo']</td>\n",
       "      <td>06:03</td>\n",
       "      <td>['jueves', '7', 'marzo']</td>\n",
       "      <td>08:58</td>\n",
       "    </tr>\n",
       "  </tbody>\n",
       "</table>\n",
       "</div>"
      ],
      "text/plain": [
       "  aerolinea     origen cod_origen    destino cod_destino  \\\n",
       "2  American  Allentown        ABE  Charlotte         CLT   \n",
       "\n",
       "               fecha_salida horario_salida             fecha_llegada  \\\n",
       "2  ['jueves', '7', 'marzo']          06:03  ['jueves', '7', 'marzo']   \n",
       "\n",
       "  horario_llegada  \n",
       "2           08:58  "
      ]
     },
     "execution_count": 54,
     "metadata": {},
     "output_type": "execute_result"
    }
   ],
   "source": [
    "a.head(1)"
   ]
  },
  {
   "cell_type": "markdown",
   "metadata": {
    "collapsed": true
   },
   "source": [
    "### Armo las funciones"
   ]
  },
  {
   "cell_type": "code",
   "execution_count": 106,
   "metadata": {},
   "outputs": [],
   "source": [
    "aeropuertos = pd.read_csv('../csv/aeropuertos.csv', index_col=False, names=['codigo', 'aeropuerto', 'capital', 'pais', 'latitud', 'longitud', 'numero1', 'numero2', 'continente'])\n",
    "\n",
    "def get_coordenadas_aeropueto(codigo_aeropueto):\n",
    "    aeropueto_info = aeropuertos[aeropuertos.codigo == codigo_aeropueto].head(1)\n",
    "    return float(aeropueto_info.latitud.item()), float(aeropueto_info.longitud.item())\n",
    "\n",
    "\n",
    "def calcular_distancia(aeropuesto_origen, aeropuesto_destino):\n",
    "    aeropuerto_origen_latitud, aeropuerto_origen_longitud = get_coordenadas_aeropueto(aeropuesto_origen)\n",
    "    aeropuerto_destino_latitud, aeropuerto_destino_longitud = get_coordenadas_aeropueto(aeropuesto_destino)\n",
    "    \n",
    "    # approximate radius of earth in km\n",
    "    R = 6373.0\n",
    "    \n",
    "    dlon = aeropuerto_destino_longitud - aeropuerto_origen_longitud\n",
    "    dlat = aeropuerto_destino_latitud - aeropuerto_origen_latitud\n",
    "    \n",
    "    a = sin(dlat / 2)**2 + cos(aeropuerto_origen_latitud) * cos(aeropuerto_destino_latitud) * sin(dlon / 2)**2\n",
    "    c = 2 * atan2(sqrt(a), sqrt(1 - a))\n",
    "\n",
    "    distance = R * c\n",
    "\n",
    "    #print(\"Result:\", distance)\n",
    "    return distance\n",
    "\n",
    "def calcular_precio(distancia_recorrida):\n",
    "    #precio por kilometro recorrido para un pasajero\n",
    "    precio_dolares_por_km = 0.067\n",
    "    precio = distancia_recorrida*precio_dolares_por_km\n",
    "    iva = 0.21*precio\n",
    "    return precio + iva"
   ]
  },
  {
   "cell_type": "markdown",
   "metadata": {},
   "source": [
    "### Calculo la distancia entre aeropuetos"
   ]
  },
  {
   "cell_type": "code",
   "execution_count": 107,
   "metadata": {},
   "outputs": [
    {
     "data": {
      "text/plain": [
       "7119.601860986828"
      ]
     },
     "execution_count": 107,
     "metadata": {},
     "output_type": "execute_result"
    }
   ],
   "source": [
    "calcular_distancia('ABE', 'CLT')"
   ]
  },
  {
   "cell_type": "code",
   "execution_count": 108,
   "metadata": {},
   "outputs": [
    {
     "data": {
      "text/html": [
       "<div>\n",
       "<style scoped>\n",
       "    .dataframe tbody tr th:only-of-type {\n",
       "        vertical-align: middle;\n",
       "    }\n",
       "\n",
       "    .dataframe tbody tr th {\n",
       "        vertical-align: top;\n",
       "    }\n",
       "\n",
       "    .dataframe thead th {\n",
       "        text-align: right;\n",
       "    }\n",
       "</style>\n",
       "<table border=\"1\" class=\"dataframe\">\n",
       "  <thead>\n",
       "    <tr style=\"text-align: right;\">\n",
       "      <th></th>\n",
       "      <th>aerolinea</th>\n",
       "      <th>origen</th>\n",
       "      <th>cod_origen</th>\n",
       "      <th>destino</th>\n",
       "      <th>cod_destino</th>\n",
       "      <th>fecha_salida</th>\n",
       "      <th>horario_salida</th>\n",
       "      <th>fecha_llegada</th>\n",
       "      <th>horario_llegada</th>\n",
       "      <th>distancia_recorrida</th>\n",
       "      <th>precio</th>\n",
       "    </tr>\n",
       "  </thead>\n",
       "  <tbody>\n",
       "    <tr>\n",
       "      <th>2</th>\n",
       "      <td>American</td>\n",
       "      <td>Allentown</td>\n",
       "      <td>ABE</td>\n",
       "      <td>Charlotte</td>\n",
       "      <td>CLT</td>\n",
       "      <td>['jueves', '7', 'marzo']</td>\n",
       "      <td>06:03</td>\n",
       "      <td>['jueves', '7', 'marzo']</td>\n",
       "      <td>08:58</td>\n",
       "      <td>7119.601861</td>\n",
       "      <td>23921.862253</td>\n",
       "    </tr>\n",
       "  </tbody>\n",
       "</table>\n",
       "</div>"
      ],
      "text/plain": [
       "  aerolinea     origen cod_origen    destino cod_destino  \\\n",
       "2  American  Allentown        ABE  Charlotte         CLT   \n",
       "\n",
       "               fecha_salida horario_salida             fecha_llegada  \\\n",
       "2  ['jueves', '7', 'marzo']          06:03  ['jueves', '7', 'marzo']   \n",
       "\n",
       "  horario_llegada  distancia_recorrida        precio  \n",
       "2           08:58          7119.601861  23921.862253  "
      ]
     },
     "execution_count": 108,
     "metadata": {},
     "output_type": "execute_result"
    }
   ],
   "source": [
    "#a['distancia_recorrida'] = a.apply(lambda row: calcular_distancia(row.cod_origen, row.cod_destino), axis=1)\n",
    "a.head(1)"
   ]
  },
  {
   "cell_type": "markdown",
   "metadata": {},
   "source": [
    "### Calculo el precio del vuelo"
   ]
  },
  {
   "cell_type": "code",
   "execution_count": 109,
   "metadata": {},
   "outputs": [
    {
     "data": {
      "text/plain": [
       "577.1861228702021"
      ]
     },
     "execution_count": 109,
     "metadata": {},
     "output_type": "execute_result"
    }
   ],
   "source": [
    "calcular_precio(a.head(1).distancia_recorrida.item())"
   ]
  },
  {
   "cell_type": "code",
   "execution_count": 110,
   "metadata": {},
   "outputs": [
    {
     "data": {
      "text/html": [
       "<div>\n",
       "<style scoped>\n",
       "    .dataframe tbody tr th:only-of-type {\n",
       "        vertical-align: middle;\n",
       "    }\n",
       "\n",
       "    .dataframe tbody tr th {\n",
       "        vertical-align: top;\n",
       "    }\n",
       "\n",
       "    .dataframe thead th {\n",
       "        text-align: right;\n",
       "    }\n",
       "</style>\n",
       "<table border=\"1\" class=\"dataframe\">\n",
       "  <thead>\n",
       "    <tr style=\"text-align: right;\">\n",
       "      <th></th>\n",
       "      <th>aerolinea</th>\n",
       "      <th>origen</th>\n",
       "      <th>cod_origen</th>\n",
       "      <th>destino</th>\n",
       "      <th>cod_destino</th>\n",
       "      <th>fecha_salida</th>\n",
       "      <th>horario_salida</th>\n",
       "      <th>fecha_llegada</th>\n",
       "      <th>horario_llegada</th>\n",
       "      <th>distancia_recorrida</th>\n",
       "      <th>precio</th>\n",
       "    </tr>\n",
       "  </thead>\n",
       "  <tbody>\n",
       "    <tr>\n",
       "      <th>2</th>\n",
       "      <td>American</td>\n",
       "      <td>Allentown</td>\n",
       "      <td>ABE</td>\n",
       "      <td>Charlotte</td>\n",
       "      <td>CLT</td>\n",
       "      <td>['jueves', '7', 'marzo']</td>\n",
       "      <td>06:03</td>\n",
       "      <td>['jueves', '7', 'marzo']</td>\n",
       "      <td>08:58</td>\n",
       "      <td>7119.601861</td>\n",
       "      <td>577.186123</td>\n",
       "    </tr>\n",
       "  </tbody>\n",
       "</table>\n",
       "</div>"
      ],
      "text/plain": [
       "  aerolinea     origen cod_origen    destino cod_destino  \\\n",
       "2  American  Allentown        ABE  Charlotte         CLT   \n",
       "\n",
       "               fecha_salida horario_salida             fecha_llegada  \\\n",
       "2  ['jueves', '7', 'marzo']          06:03  ['jueves', '7', 'marzo']   \n",
       "\n",
       "  horario_llegada  distancia_recorrida      precio  \n",
       "2           08:58          7119.601861  577.186123  "
      ]
     },
     "execution_count": 110,
     "metadata": {},
     "output_type": "execute_result"
    }
   ],
   "source": [
    "#a['precio'] = a.apply(lambda row: calcular_precio(row.distancia_recorrida), axis=1)\n",
    "a.head(1)"
   ]
  },
  {
   "cell_type": "markdown",
   "metadata": {},
   "source": [
    "### Seteo los asientos disponibles"
   ]
  },
  {
   "cell_type": "code",
   "execution_count": 115,
   "metadata": {},
   "outputs": [
    {
     "data": {
      "text/html": [
       "<div>\n",
       "<style scoped>\n",
       "    .dataframe tbody tr th:only-of-type {\n",
       "        vertical-align: middle;\n",
       "    }\n",
       "\n",
       "    .dataframe tbody tr th {\n",
       "        vertical-align: top;\n",
       "    }\n",
       "\n",
       "    .dataframe thead th {\n",
       "        text-align: right;\n",
       "    }\n",
       "</style>\n",
       "<table border=\"1\" class=\"dataframe\">\n",
       "  <thead>\n",
       "    <tr style=\"text-align: right;\">\n",
       "      <th></th>\n",
       "      <th>aerolinea</th>\n",
       "      <th>origen</th>\n",
       "      <th>cod_origen</th>\n",
       "      <th>destino</th>\n",
       "      <th>cod_destino</th>\n",
       "      <th>fecha_salida</th>\n",
       "      <th>horario_salida</th>\n",
       "      <th>fecha_llegada</th>\n",
       "      <th>horario_llegada</th>\n",
       "      <th>distancia_recorrida</th>\n",
       "      <th>precio</th>\n",
       "      <th>asientos_dispobiles</th>\n",
       "    </tr>\n",
       "  </thead>\n",
       "  <tbody>\n",
       "    <tr>\n",
       "      <th>238081</th>\n",
       "      <td>American</td>\n",
       "      <td>Charlotte</td>\n",
       "      <td>CLT</td>\n",
       "      <td>Cincinnati</td>\n",
       "      <td>CVG</td>\n",
       "      <td>['sabado', '9', 'marzo']</td>\n",
       "      <td>11:20</td>\n",
       "      <td>['sabado', '9', 'marzo']</td>\n",
       "      <td>00:35</td>\n",
       "      <td>12988.631895</td>\n",
       "      <td>1052.988388</td>\n",
       "      <td>1</td>\n",
       "    </tr>\n",
       "    <tr>\n",
       "      <th>102004</th>\n",
       "      <td>Air France</td>\n",
       "      <td>Atlanta</td>\n",
       "      <td>RYY</td>\n",
       "      <td>Pensacola</td>\n",
       "      <td>NPA</td>\n",
       "      <td>['martes', '12', 'marzo']</td>\n",
       "      <td>15:24</td>\n",
       "      <td>['martes', '12', 'marzo']</td>\n",
       "      <td>16:41</td>\n",
       "      <td>10477.287670</td>\n",
       "      <td>849.393711</td>\n",
       "      <td>1</td>\n",
       "    </tr>\n",
       "  </tbody>\n",
       "</table>\n",
       "</div>"
      ],
      "text/plain": [
       "         aerolinea     origen cod_origen     destino cod_destino  \\\n",
       "238081    American  Charlotte        CLT  Cincinnati         CVG   \n",
       "102004  Air France    Atlanta        RYY   Pensacola         NPA   \n",
       "\n",
       "                     fecha_salida horario_salida              fecha_llegada  \\\n",
       "238081   ['sabado', '9', 'marzo']          11:20   ['sabado', '9', 'marzo']   \n",
       "102004  ['martes', '12', 'marzo']          15:24  ['martes', '12', 'marzo']   \n",
       "\n",
       "       horario_llegada  distancia_recorrida       precio  asientos_dispobiles  \n",
       "238081           00:35         12988.631895  1052.988388                    1  \n",
       "102004           16:41         10477.287670   849.393711                    1  "
      ]
     },
     "execution_count": 115,
     "metadata": {},
     "output_type": "execute_result"
    }
   ],
   "source": [
    "a['asientos_disponibles'] = a.apply(lambda x: np.random.randint(0, 5), axis=1)\n",
    "a.sample(2)"
   ]
  },
  {
   "cell_type": "code",
   "execution_count": null,
   "metadata": {},
   "outputs": [],
   "source": [
    "# TODO:\n",
    "# - Pasar precio a INT\n",
    "# - Eliminar distancia, cod_origen y cod_destino\n",
    "# - Agregar duracion\n",
    "# - Cambiar nombre del csv exportado"
   ]
  },
  {
   "cell_type": "markdown",
   "metadata": {},
   "source": [
    "### Guardo el nuevo csv"
   ]
  },
  {
   "cell_type": "code",
   "execution_count": 117,
   "metadata": {},
   "outputs": [],
   "source": [
    "a.to_csv('../csv/info_vuelos_full.csv', index = None, header = True)"
   ]
  }
 ],
 "metadata": {
  "kernelspec": {
   "display_name": "Python 3",
   "language": "python",
   "name": "python3"
  },
  "language_info": {
   "codemirror_mode": {
    "name": "ipython",
    "version": 3
   },
   "file_extension": ".py",
   "mimetype": "text/x-python",
   "name": "python",
   "nbconvert_exporter": "python",
   "pygments_lexer": "ipython3",
   "version": "3.7.3"
  }
 },
 "nbformat": 4,
 "nbformat_minor": 2
}
